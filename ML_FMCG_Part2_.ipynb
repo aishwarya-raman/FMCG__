{
  "nbformat": 4,
  "nbformat_minor": 0,
  "metadata": {
    "colab": {
      "provenance": []
    },
    "kernelspec": {
      "name": "python3",
      "display_name": "Python 3"
    },
    "language_info": {
      "name": "python"
    }
  },
  "cells": [
    {
      "cell_type": "markdown",
      "source": [],
      "metadata": {
        "id": "Plg-WQVFiNoA"
      }
    },
    {
      "cell_type": "code",
      "source": [
        "import pandas as pd\n",
        "import numpy as np\n",
        "import matplotlib.pyplot as plt\n",
        "import seaborn as sns\n",
        "from sklearn.impute import SimpleImputer\n",
        "from sklearn.compose import make_column_selector, make_column_transformer\n",
        "from sklearn.model_selection import train_test_split, GridSearchCV\n",
        "from sklearn.preprocessing import StandardScaler, OneHotEncoder\n",
        "from sklearn.pipeline import make_pipeline\n",
        "from sklearn.linear_model import LinearRegression\n",
        "from sklearn.metrics import mean_absolute_error, mean_squared_error, r2_score\n",
        "from sklearn.tree import DecisionTreeRegressor\n",
        "from sklearn.ensemble import RandomForestRegressor, GradientBoostingRegressor\n",
        "from xgboost import XGBRegressor\n",
        "from tensorflow.keras.models import Sequential\n",
        "from tensorflow.keras.layers import Dense, Dropout, BatchNormalization\n",
        "from tensorflow.keras import metrics"
      ],
      "metadata": {
        "id": "cBTOz5PJifuX"
      },
      "execution_count": 1,
      "outputs": []
    },
    {
      "cell_type": "code",
      "source": [
        "df = pd.read_csv('/content/drive/MyDrive/supply_train.csv')\n",
        "test = pd.read_csv('/content/drive/MyDrive/supply_test.csv')"
      ],
      "metadata": {
        "id": "iBm02olNiI4p"
      },
      "execution_count": 2,
      "outputs": []
    },
    {
      "cell_type": "code",
      "source": [
        "df.shape"
      ],
      "metadata": {
        "colab": {
          "base_uri": "https://localhost:8080/"
        },
        "id": "e_yZ_vshiOsk",
        "outputId": "5ef1f0a3-132b-4989-ecad-de9f79c39044"
      },
      "execution_count": 3,
      "outputs": [
        {
          "output_type": "execute_result",
          "data": {
            "text/plain": [
              "(16620, 25)"
            ]
          },
          "metadata": {},
          "execution_count": 3
        }
      ]
    },
    {
      "cell_type": "code",
      "source": [
        "test.shape"
      ],
      "metadata": {
        "colab": {
          "base_uri": "https://localhost:8080/"
        },
        "id": "sJbSaElEjQdm",
        "outputId": "a792a96a-694a-49c1-eaa0-adc08096dbcb"
      },
      "execution_count": 4,
      "outputs": [
        {
          "output_type": "execute_result",
          "data": {
            "text/plain": [
              "(5529, 25)"
            ]
          },
          "metadata": {},
          "execution_count": 4
        }
      ]
    },
    {
      "cell_type": "code",
      "source": [
        "df = df.drop(columns = ['Unnamed: 0','Ware_house_ID', 'WH_Manager_ID'])"
      ],
      "metadata": {
        "id": "7Xr5E_jujSES"
      },
      "execution_count": 5,
      "outputs": []
    },
    {
      "cell_type": "code",
      "source": [
        "test = test.drop(columns = ['Unnamed: 0','Ware_house_ID', 'WH_Manager_ID'])"
      ],
      "metadata": {
        "id": "W-0irPuOjZTy"
      },
      "execution_count": 6,
      "outputs": []
    },
    {
      "cell_type": "code",
      "source": [
        "df.shape"
      ],
      "metadata": {
        "colab": {
          "base_uri": "https://localhost:8080/"
        },
        "id": "m6JOeiwRjcoi",
        "outputId": "098ad0f1-20ff-4bbe-f82a-5cbfd31c4fca"
      },
      "execution_count": 7,
      "outputs": [
        {
          "output_type": "execute_result",
          "data": {
            "text/plain": [
              "(16620, 22)"
            ]
          },
          "metadata": {},
          "execution_count": 7
        }
      ]
    },
    {
      "cell_type": "code",
      "source": [
        "test.shape"
      ],
      "metadata": {
        "colab": {
          "base_uri": "https://localhost:8080/"
        },
        "id": "K84qT8BFjedW",
        "outputId": "796a8420-a380-4c09-d521-b97b64c6ba22"
      },
      "execution_count": 8,
      "outputs": [
        {
          "output_type": "execute_result",
          "data": {
            "text/plain": [
              "(5529, 22)"
            ]
          },
          "metadata": {},
          "execution_count": 8
        }
      ]
    },
    {
      "cell_type": "code",
      "source": [
        "df.duplicated().sum()\n",
        "test.duplicated().sum()"
      ],
      "metadata": {
        "colab": {
          "base_uri": "https://localhost:8080/"
        },
        "id": "f9tYo2Nljf54",
        "outputId": "96a6a795-9c3a-4349-ac41-c99d3d897259"
      },
      "execution_count": 9,
      "outputs": [
        {
          "output_type": "execute_result",
          "data": {
            "text/plain": [
              "0"
            ]
          },
          "metadata": {},
          "execution_count": 9
        }
      ]
    },
    {
      "cell_type": "code",
      "source": [
        "df.isna().sum()\n",
        "print(\"----\")\n",
        "test.isna().sum()"
      ],
      "metadata": {
        "colab": {
          "base_uri": "https://localhost:8080/"
        },
        "id": "8ZfYaLlAjjOw",
        "outputId": "66c9d8be-ce24-432c-c270-d112eed1888f"
      },
      "execution_count": 10,
      "outputs": [
        {
          "output_type": "stream",
          "name": "stdout",
          "text": [
            "----\n"
          ]
        },
        {
          "output_type": "execute_result",
          "data": {
            "text/plain": [
              "Location_type                      0\n",
              "WH_capacity_size                   0\n",
              "zone                               0\n",
              "WH_regional_zone                   0\n",
              "num_refill_req_l3m                 0\n",
              "transport_issue_l1y                0\n",
              "Competitor_in_mkt                  0\n",
              "retail_shop_num                    0\n",
              "wh_owner_type                      0\n",
              "distributor_num                    0\n",
              "flood_impacted                     0\n",
              "flood_proof                        0\n",
              "electric_supply                    0\n",
              "dist_from_hub                      0\n",
              "workers_num                      210\n",
              "wh_est_year                     2685\n",
              "storage_issue_reported_l3m         0\n",
              "temp_reg_mach                      0\n",
              "approved_wh_govt_certificate     206\n",
              "wh_breakdown_l3m                   0\n",
              "govt_check_l3m                     0\n",
              "product_wg_ton                     0\n",
              "dtype: int64"
            ]
          },
          "metadata": {},
          "execution_count": 10
        }
      ]
    },
    {
      "cell_type": "code",
      "source": [
        "df.isna().sum()"
      ],
      "metadata": {
        "colab": {
          "base_uri": "https://localhost:8080/"
        },
        "id": "P5ZwL3Uujr9a",
        "outputId": "53071c44-5841-47a4-8663-ec94c89fbf8d"
      },
      "execution_count": 11,
      "outputs": [
        {
          "output_type": "execute_result",
          "data": {
            "text/plain": [
              "Location_type                      0\n",
              "WH_capacity_size                   0\n",
              "zone                               0\n",
              "WH_regional_zone                   0\n",
              "num_refill_req_l3m                 0\n",
              "transport_issue_l1y                0\n",
              "Competitor_in_mkt                  0\n",
              "retail_shop_num                    0\n",
              "wh_owner_type                      0\n",
              "distributor_num                    0\n",
              "flood_impacted                     0\n",
              "flood_proof                        0\n",
              "electric_supply                    0\n",
              "dist_from_hub                      0\n",
              "workers_num                      667\n",
              "wh_est_year                     7860\n",
              "storage_issue_reported_l3m         0\n",
              "temp_reg_mach                      0\n",
              "approved_wh_govt_certificate     599\n",
              "wh_breakdown_l3m                   0\n",
              "govt_check_l3m                     0\n",
              "product_wg_ton                     0\n",
              "dtype: int64"
            ]
          },
          "metadata": {},
          "execution_count": 11
        }
      ]
    },
    {
      "cell_type": "code",
      "source": [
        "test['workers_num'].fillna(value =test['workers_num'].mean(),inplace=True)"
      ],
      "metadata": {
        "id": "u-Fxj0uGj13H"
      },
      "execution_count": 12,
      "outputs": []
    },
    {
      "cell_type": "code",
      "source": [
        "df['workers_num'].fillna(value =test['workers_num'].mean(),inplace=True)"
      ],
      "metadata": {
        "id": "xXKt9oipj-yx"
      },
      "execution_count": 13,
      "outputs": []
    },
    {
      "cell_type": "code",
      "source": [
        "test['wh_est_year'].fillna(value =test['wh_est_year'].mean(),inplace=True)"
      ],
      "metadata": {
        "id": "Hm04XDcvkAmv"
      },
      "execution_count": 14,
      "outputs": []
    },
    {
      "cell_type": "code",
      "source": [
        "df['wh_est_year'].fillna(value =test['wh_est_year'].mean(),inplace=True)"
      ],
      "metadata": {
        "id": "Dteray34kFFD"
      },
      "execution_count": 15,
      "outputs": []
    },
    {
      "cell_type": "code",
      "source": [
        "test['approved_wh_govt_certificate'].value_counts()"
      ],
      "metadata": {
        "colab": {
          "base_uri": "https://localhost:8080/"
        },
        "id": "6kAxYLnCkGei",
        "outputId": "04b83f9f-ac86-4ede-ffd4-13b5ecb4f6cf"
      },
      "execution_count": 16,
      "outputs": [
        {
          "output_type": "execute_result",
          "data": {
            "text/plain": [
              "C     1220\n",
              "B+    1061\n",
              "B     1049\n",
              "A     1026\n",
              "A+     967\n",
              "Name: approved_wh_govt_certificate, dtype: int64"
            ]
          },
          "metadata": {},
          "execution_count": 16
        }
      ]
    },
    {
      "cell_type": "code",
      "source": [
        "df['approved_wh_govt_certificate'].value_counts()"
      ],
      "metadata": {
        "colab": {
          "base_uri": "https://localhost:8080/"
        },
        "id": "s627GatOkJke",
        "outputId": "f8babceb-3aa1-4ab8-9e6c-be7ede0f0b44"
      },
      "execution_count": 17,
      "outputs": [
        {
          "output_type": "execute_result",
          "data": {
            "text/plain": [
              "C     3638\n",
              "B+    3260\n",
              "B     3220\n",
              "A     3132\n",
              "A+    2771\n",
              "Name: approved_wh_govt_certificate, dtype: int64"
            ]
          },
          "metadata": {},
          "execution_count": 17
        }
      ]
    },
    {
      "cell_type": "code",
      "source": [
        "test['approved_wh_govt_certificate'].fillna(value='C',inplace=True)"
      ],
      "metadata": {
        "id": "gGDtjyilkLfA"
      },
      "execution_count": 18,
      "outputs": []
    },
    {
      "cell_type": "code",
      "source": [
        "df['approved_wh_govt_certificate'].fillna(value='C',inplace=True)"
      ],
      "metadata": {
        "id": "s0-SfgRLkNtZ"
      },
      "execution_count": 19,
      "outputs": []
    },
    {
      "cell_type": "code",
      "source": [
        "df.isna().sum()"
      ],
      "metadata": {
        "colab": {
          "base_uri": "https://localhost:8080/"
        },
        "id": "JtzV1UQLkO6s",
        "outputId": "f129a602-fc1d-4ec8-a3a7-9f92c46a10ec"
      },
      "execution_count": 20,
      "outputs": [
        {
          "output_type": "execute_result",
          "data": {
            "text/plain": [
              "Location_type                   0\n",
              "WH_capacity_size                0\n",
              "zone                            0\n",
              "WH_regional_zone                0\n",
              "num_refill_req_l3m              0\n",
              "transport_issue_l1y             0\n",
              "Competitor_in_mkt               0\n",
              "retail_shop_num                 0\n",
              "wh_owner_type                   0\n",
              "distributor_num                 0\n",
              "flood_impacted                  0\n",
              "flood_proof                     0\n",
              "electric_supply                 0\n",
              "dist_from_hub                   0\n",
              "workers_num                     0\n",
              "wh_est_year                     0\n",
              "storage_issue_reported_l3m      0\n",
              "temp_reg_mach                   0\n",
              "approved_wh_govt_certificate    0\n",
              "wh_breakdown_l3m                0\n",
              "govt_check_l3m                  0\n",
              "product_wg_ton                  0\n",
              "dtype: int64"
            ]
          },
          "metadata": {},
          "execution_count": 20
        }
      ]
    },
    {
      "cell_type": "code",
      "source": [
        "test.isna().sum()"
      ],
      "metadata": {
        "colab": {
          "base_uri": "https://localhost:8080/"
        },
        "id": "bJ31GGTSkRf1",
        "outputId": "34020f49-e70e-4e86-f7e3-b31d480efb84"
      },
      "execution_count": 21,
      "outputs": [
        {
          "output_type": "execute_result",
          "data": {
            "text/plain": [
              "Location_type                   0\n",
              "WH_capacity_size                0\n",
              "zone                            0\n",
              "WH_regional_zone                0\n",
              "num_refill_req_l3m              0\n",
              "transport_issue_l1y             0\n",
              "Competitor_in_mkt               0\n",
              "retail_shop_num                 0\n",
              "wh_owner_type                   0\n",
              "distributor_num                 0\n",
              "flood_impacted                  0\n",
              "flood_proof                     0\n",
              "electric_supply                 0\n",
              "dist_from_hub                   0\n",
              "workers_num                     0\n",
              "wh_est_year                     0\n",
              "storage_issue_reported_l3m      0\n",
              "temp_reg_mach                   0\n",
              "approved_wh_govt_certificate    0\n",
              "wh_breakdown_l3m                0\n",
              "govt_check_l3m                  0\n",
              "product_wg_ton                  0\n",
              "dtype: int64"
            ]
          },
          "metadata": {},
          "execution_count": 21
        }
      ]
    },
    {
      "cell_type": "code",
      "source": [
        "#Training dataset\n",
        "X = df.drop(columns='product_wg_ton')\n",
        "y = df['product_wg_ton']"
      ],
      "metadata": {
        "id": "cH4TfAbKkTA3"
      },
      "execution_count": 22,
      "outputs": []
    },
    {
      "cell_type": "code",
      "source": [
        "#Testdata\n",
        "Xt = test.drop(columns='product_wg_ton')\n",
        "yt = test['product_wg_ton']"
      ],
      "metadata": {
        "id": "2ZMRm6KzkavC"
      },
      "execution_count": 23,
      "outputs": []
    },
    {
      "cell_type": "code",
      "source": [
        "X_train, X_test, y_train, y_test = train_test_split(X, y, random_state=42)"
      ],
      "metadata": {
        "id": "ZBj2oxw6ki5w"
      },
      "execution_count": 24,
      "outputs": []
    },
    {
      "cell_type": "code",
      "source": [
        "num_cols = make_column_selector(dtype_include='number')\n",
        "cat_cols = make_column_selector(dtype_include='object')"
      ],
      "metadata": {
        "id": "R5opVuGCk11G"
      },
      "execution_count": 25,
      "outputs": []
    },
    {
      "cell_type": "code",
      "source": [
        "scaler = StandardScaler()\n",
        "ohe = OneHotEncoder()\n",
        "impute_median = SimpleImputer(strategy='median')\n",
        "impute_freq = SimpleImputer(strategy='most_frequent')"
      ],
      "metadata": {
        "id": "KUhyjZ-Rk74q"
      },
      "execution_count": 26,
      "outputs": []
    },
    {
      "cell_type": "code",
      "source": [
        "# Make pipeline\n",
        "num_pipe = make_pipeline(impute_median, scaler)\n",
        "cat_pipe = make_pipeline(impute_freq, ohe)"
      ],
      "metadata": {
        "id": "N9mzN1Crk9s_"
      },
      "execution_count": 27,
      "outputs": []
    },
    {
      "cell_type": "code",
      "source": [
        "# Set tuple\n",
        "num_tup = (num_pipe, num_cols)\n",
        "cat_tup = (cat_pipe, cat_cols)"
      ],
      "metadata": {
        "id": "wFZcL6o7k_yi"
      },
      "execution_count": 28,
      "outputs": []
    },
    {
      "cell_type": "code",
      "source": [
        "col_tf = make_column_transformer(num_tup, cat_tup, remainder='passthrough')"
      ],
      "metadata": {
        "id": "Q7TjLKpXlBXx"
      },
      "execution_count": 29,
      "outputs": []
    },
    {
      "cell_type": "code",
      "source": [
        "X_train_processed = col_tf.fit(X_train)"
      ],
      "metadata": {
        "id": "0FrKttislDQV"
      },
      "execution_count": 30,
      "outputs": []
    },
    {
      "cell_type": "code",
      "source": [
        "# Extract the feature names from one hot encoder\n",
        "cat_feature_names = col_tf.named_transformers_['pipeline-2']\\\n",
        "                              .named_steps['onehotencoder']\\\n",
        "                              .get_feature_names_out(cat_cols(X_train))\n",
        "\n",
        "cat_feature_names"
      ],
      "metadata": {
        "colab": {
          "base_uri": "https://localhost:8080/"
        },
        "id": "McTD_JeclEyB",
        "outputId": "5d972d36-135d-452c-d82a-7d80367e9d9a"
      },
      "execution_count": 31,
      "outputs": [
        {
          "output_type": "execute_result",
          "data": {
            "text/plain": [
              "array(['Location_type_Rural', 'Location_type_Urban',\n",
              "       'WH_capacity_size_Large', 'WH_capacity_size_Mid',\n",
              "       'WH_capacity_size_Small', 'zone_East', 'zone_North', 'zone_South',\n",
              "       'zone_West', 'WH_regional_zone_Zone 1', 'WH_regional_zone_Zone 2',\n",
              "       'WH_regional_zone_Zone 3', 'WH_regional_zone_Zone 4',\n",
              "       'WH_regional_zone_Zone 5', 'WH_regional_zone_Zone 6',\n",
              "       'wh_owner_type_Company Owned', 'wh_owner_type_Rented',\n",
              "       'approved_wh_govt_certificate_A',\n",
              "       'approved_wh_govt_certificate_A+',\n",
              "       'approved_wh_govt_certificate_B',\n",
              "       'approved_wh_govt_certificate_B+',\n",
              "       'approved_wh_govt_certificate_C'], dtype=object)"
            ]
          },
          "metadata": {},
          "execution_count": 31
        }
      ]
    },
    {
      "cell_type": "code",
      "source": [
        "final_cols = num_cols(X_train) + list(cat_feature_names)\n",
        "final_cols"
      ],
      "metadata": {
        "colab": {
          "base_uri": "https://localhost:8080/"
        },
        "id": "EF-_j9ujlGcS",
        "outputId": "10068d46-8ccc-4cca-bf4c-6980baf56038"
      },
      "execution_count": 32,
      "outputs": [
        {
          "output_type": "execute_result",
          "data": {
            "text/plain": [
              "['num_refill_req_l3m',\n",
              " 'transport_issue_l1y',\n",
              " 'Competitor_in_mkt',\n",
              " 'retail_shop_num',\n",
              " 'distributor_num',\n",
              " 'flood_impacted',\n",
              " 'flood_proof',\n",
              " 'electric_supply',\n",
              " 'dist_from_hub',\n",
              " 'workers_num',\n",
              " 'wh_est_year',\n",
              " 'storage_issue_reported_l3m',\n",
              " 'temp_reg_mach',\n",
              " 'wh_breakdown_l3m',\n",
              " 'govt_check_l3m',\n",
              " 'Location_type_Rural',\n",
              " 'Location_type_Urban',\n",
              " 'WH_capacity_size_Large',\n",
              " 'WH_capacity_size_Mid',\n",
              " 'WH_capacity_size_Small',\n",
              " 'zone_East',\n",
              " 'zone_North',\n",
              " 'zone_South',\n",
              " 'zone_West',\n",
              " 'WH_regional_zone_Zone 1',\n",
              " 'WH_regional_zone_Zone 2',\n",
              " 'WH_regional_zone_Zone 3',\n",
              " 'WH_regional_zone_Zone 4',\n",
              " 'WH_regional_zone_Zone 5',\n",
              " 'WH_regional_zone_Zone 6',\n",
              " 'wh_owner_type_Company Owned',\n",
              " 'wh_owner_type_Rented',\n",
              " 'approved_wh_govt_certificate_A',\n",
              " 'approved_wh_govt_certificate_A+',\n",
              " 'approved_wh_govt_certificate_B',\n",
              " 'approved_wh_govt_certificate_B+',\n",
              " 'approved_wh_govt_certificate_C']"
            ]
          },
          "metadata": {},
          "execution_count": 32
        }
      ]
    },
    {
      "cell_type": "code",
      "source": [
        "Xt_processed = col_tf.fit(Xt)"
      ],
      "metadata": {
        "id": "FPaCOxVSlIew"
      },
      "execution_count": 33,
      "outputs": []
    },
    {
      "cell_type": "code",
      "source": [
        "X_train_tf = col_tf.transform(X_train)\n",
        "X_test_tf = col_tf.transform(X_test)"
      ],
      "metadata": {
        "id": "fNtbh5-8lRcZ"
      },
      "execution_count": 34,
      "outputs": []
    },
    {
      "cell_type": "code",
      "source": [
        "Xtest_tf = col_tf.transform(Xt)"
      ],
      "metadata": {
        "id": "g7obBr4MlWjM"
      },
      "execution_count": 35,
      "outputs": []
    },
    {
      "cell_type": "code",
      "source": [
        "X_train_output = pd.DataFrame(X_train_tf, columns = final_cols)\n",
        "X_test_output = pd.DataFrame(X_test_tf, columns = final_cols)"
      ],
      "metadata": {
        "id": "ENS8muEOlYUM"
      },
      "execution_count": 36,
      "outputs": []
    },
    {
      "cell_type": "code",
      "source": [
        "def eval_model(true, pred):\n",
        "  mae = mean_absolute_error(true, pred)\n",
        "  mse = mean_squared_error(true, pred)\n",
        "  rmse = np.sqrt(mse)\n",
        "  r2 = r2_score(true, pred)\n",
        "  # print the results\n",
        "  rmse\n",
        "  print(f' MAE: {mae:.2f} \\n MSE: {mse:.2f} \\n RMSE: {rmse:.2f} \\n R2_score: {r2:.2f}')"
      ],
      "metadata": {
        "id": "rb_DYMFHlbTr"
      },
      "execution_count": 37,
      "outputs": []
    },
    {
      "cell_type": "code",
      "source": [
        "lr = LinearRegression()"
      ],
      "metadata": {
        "id": "mBgczjuWld4M"
      },
      "execution_count": 38,
      "outputs": []
    },
    {
      "cell_type": "code",
      "source": [
        "lr.fit(X_train_tf, y_train)"
      ],
      "metadata": {
        "colab": {
          "base_uri": "https://localhost:8080/",
          "height": 74
        },
        "id": "fxY-RRvGlgLe",
        "outputId": "6efa6a20-6d30-460f-b268-968ce3684eb0"
      },
      "execution_count": 39,
      "outputs": [
        {
          "output_type": "execute_result",
          "data": {
            "text/plain": [
              "LinearRegression()"
            ],
            "text/html": [
              "<style>#sk-container-id-1 {color: black;background-color: white;}#sk-container-id-1 pre{padding: 0;}#sk-container-id-1 div.sk-toggleable {background-color: white;}#sk-container-id-1 label.sk-toggleable__label {cursor: pointer;display: block;width: 100%;margin-bottom: 0;padding: 0.3em;box-sizing: border-box;text-align: center;}#sk-container-id-1 label.sk-toggleable__label-arrow:before {content: \"▸\";float: left;margin-right: 0.25em;color: #696969;}#sk-container-id-1 label.sk-toggleable__label-arrow:hover:before {color: black;}#sk-container-id-1 div.sk-estimator:hover label.sk-toggleable__label-arrow:before {color: black;}#sk-container-id-1 div.sk-toggleable__content {max-height: 0;max-width: 0;overflow: hidden;text-align: left;background-color: #f0f8ff;}#sk-container-id-1 div.sk-toggleable__content pre {margin: 0.2em;color: black;border-radius: 0.25em;background-color: #f0f8ff;}#sk-container-id-1 input.sk-toggleable__control:checked~div.sk-toggleable__content {max-height: 200px;max-width: 100%;overflow: auto;}#sk-container-id-1 input.sk-toggleable__control:checked~label.sk-toggleable__label-arrow:before {content: \"▾\";}#sk-container-id-1 div.sk-estimator input.sk-toggleable__control:checked~label.sk-toggleable__label {background-color: #d4ebff;}#sk-container-id-1 div.sk-label input.sk-toggleable__control:checked~label.sk-toggleable__label {background-color: #d4ebff;}#sk-container-id-1 input.sk-hidden--visually {border: 0;clip: rect(1px 1px 1px 1px);clip: rect(1px, 1px, 1px, 1px);height: 1px;margin: -1px;overflow: hidden;padding: 0;position: absolute;width: 1px;}#sk-container-id-1 div.sk-estimator {font-family: monospace;background-color: #f0f8ff;border: 1px dotted black;border-radius: 0.25em;box-sizing: border-box;margin-bottom: 0.5em;}#sk-container-id-1 div.sk-estimator:hover {background-color: #d4ebff;}#sk-container-id-1 div.sk-parallel-item::after {content: \"\";width: 100%;border-bottom: 1px solid gray;flex-grow: 1;}#sk-container-id-1 div.sk-label:hover label.sk-toggleable__label {background-color: #d4ebff;}#sk-container-id-1 div.sk-serial::before {content: \"\";position: absolute;border-left: 1px solid gray;box-sizing: border-box;top: 0;bottom: 0;left: 50%;z-index: 0;}#sk-container-id-1 div.sk-serial {display: flex;flex-direction: column;align-items: center;background-color: white;padding-right: 0.2em;padding-left: 0.2em;position: relative;}#sk-container-id-1 div.sk-item {position: relative;z-index: 1;}#sk-container-id-1 div.sk-parallel {display: flex;align-items: stretch;justify-content: center;background-color: white;position: relative;}#sk-container-id-1 div.sk-item::before, #sk-container-id-1 div.sk-parallel-item::before {content: \"\";position: absolute;border-left: 1px solid gray;box-sizing: border-box;top: 0;bottom: 0;left: 50%;z-index: -1;}#sk-container-id-1 div.sk-parallel-item {display: flex;flex-direction: column;z-index: 1;position: relative;background-color: white;}#sk-container-id-1 div.sk-parallel-item:first-child::after {align-self: flex-end;width: 50%;}#sk-container-id-1 div.sk-parallel-item:last-child::after {align-self: flex-start;width: 50%;}#sk-container-id-1 div.sk-parallel-item:only-child::after {width: 0;}#sk-container-id-1 div.sk-dashed-wrapped {border: 1px dashed gray;margin: 0 0.4em 0.5em 0.4em;box-sizing: border-box;padding-bottom: 0.4em;background-color: white;}#sk-container-id-1 div.sk-label label {font-family: monospace;font-weight: bold;display: inline-block;line-height: 1.2em;}#sk-container-id-1 div.sk-label-container {text-align: center;}#sk-container-id-1 div.sk-container {/* jupyter's `normalize.less` sets `[hidden] { display: none; }` but bootstrap.min.css set `[hidden] { display: none !important; }` so we also need the `!important` here to be able to override the default hidden behavior on the sphinx rendered scikit-learn.org. See: https://github.com/scikit-learn/scikit-learn/issues/21755 */display: inline-block !important;position: relative;}#sk-container-id-1 div.sk-text-repr-fallback {display: none;}</style><div id=\"sk-container-id-1\" class=\"sk-top-container\"><div class=\"sk-text-repr-fallback\"><pre>LinearRegression()</pre><b>In a Jupyter environment, please rerun this cell to show the HTML representation or trust the notebook. <br />On GitHub, the HTML representation is unable to render, please try loading this page with nbviewer.org.</b></div><div class=\"sk-container\" hidden><div class=\"sk-item\"><div class=\"sk-estimator sk-toggleable\"><input class=\"sk-toggleable__control sk-hidden--visually\" id=\"sk-estimator-id-1\" type=\"checkbox\" checked><label for=\"sk-estimator-id-1\" class=\"sk-toggleable__label sk-toggleable__label-arrow\">LinearRegression</label><div class=\"sk-toggleable__content\"><pre>LinearRegression()</pre></div></div></div></div></div>"
            ]
          },
          "metadata": {},
          "execution_count": 39
        }
      ]
    },
    {
      "cell_type": "code",
      "source": [
        "lr_train_preds = lr.predict(X_train_tf)\n",
        "lr_test_preds = lr.predict(X_test_tf)\n",
        "lr_test_p =lr.predict(Xtest_tf)\n",
        "Xtest_tf.dtype.names"
      ],
      "metadata": {
        "id": "29yHtTfeljLN"
      },
      "execution_count": 40,
      "outputs": []
    },
    {
      "cell_type": "code",
      "source": [
        "print('Training Data')\n",
        "eval_model(y_train, lr_train_preds)\n",
        "print('\\nTesting Data')\n",
        "eval_model(y_test , lr_test_preds)\n",
        "print('\\nFor given test data')\n",
        "eval_model(yt,lr_test_p)"
      ],
      "metadata": {
        "colab": {
          "base_uri": "https://localhost:8080/"
        },
        "id": "Zdix4dUMllOx",
        "outputId": "bf3195d7-d8fa-47fc-bc9d-6ce58397877a"
      },
      "execution_count": 41,
      "outputs": [
        {
          "output_type": "stream",
          "name": "stdout",
          "text": [
            "Training Data\n",
            " MAE: 1004.58 \n",
            " MSE: 1870522.86 \n",
            " RMSE: 1367.67 \n",
            " R2_score: 0.99\n",
            "\n",
            "Testing Data\n",
            " MAE: 1032.11 \n",
            " MSE: 2085307.87 \n",
            " RMSE: 1444.06 \n",
            " R2_score: 0.98\n",
            "\n",
            "For given test data\n",
            " MAE: 1007.52 \n",
            " MSE: 1900505.48 \n",
            " RMSE: 1378.59 \n",
            " R2_score: 0.99\n"
          ]
        }
      ]
    },
    {
      "cell_type": "markdown",
      "source": [
        "Random Forest"
      ],
      "metadata": {
        "id": "Sz7jYSHFv8J3"
      }
    },
    {
      "cell_type": "code",
      "source": [
        "# prompt: build random forest\n",
        "\n",
        "rf = RandomForestRegressor()\n",
        "rf.fit(X_train_tf, y_train)\n",
        "rf_train_preds = rf.predict(X_train_tf)\n",
        "rf_test_preds = rf.predict(X_test_tf)\n",
        "rf_test_p =rf.predict(Xtest_tf)\n",
        "print('Training Data')\n",
        "eval_model(y_train, rf_train_preds)\n",
        "print('\\nTesting Data')\n",
        "eval_model(y_test , rf_test_preds)\n",
        "print('\\nFor given test data')\n",
        "eval_model(yt,rf_test_p)\n"
      ],
      "metadata": {
        "colab": {
          "base_uri": "https://localhost:8080/"
        },
        "id": "Dqtt02kclr1r",
        "outputId": "83704bc6-90c1-42d0-eb45-55870924e383"
      },
      "execution_count": 42,
      "outputs": [
        {
          "output_type": "stream",
          "name": "stdout",
          "text": [
            "Training Data\n",
            " MAE: 252.64 \n",
            " MSE: 118616.03 \n",
            " RMSE: 344.41 \n",
            " R2_score: 1.00\n",
            "\n",
            "Testing Data\n",
            " MAE: 681.05 \n",
            " MSE: 872382.14 \n",
            " RMSE: 934.01 \n",
            " R2_score: 0.99\n",
            "\n",
            "For given test data\n",
            " MAE: 666.27 \n",
            " MSE: 804159.76 \n",
            " RMSE: 896.75 \n",
            " R2_score: 0.99\n"
          ]
        }
      ]
    },
    {
      "cell_type": "markdown",
      "source": [
        "Neural Network"
      ],
      "metadata": {
        "id": "YnOQF9ddw4--"
      }
    },
    {
      "cell_type": "code",
      "source": [
        "from keras import backend as K\n",
        "\n",
        "def r2_score(y_true, y_pred):\n",
        "    SS_res =  K.sum(K.square(y_true - y_pred))\n",
        "    SS_tot = K.sum(K.square(y_true - K.mean(y_true)))\n",
        "    return (1 - SS_res / (SS_tot + K.epsilon()))"
      ],
      "metadata": {
        "id": "Rd0jeSxuwE-5"
      },
      "execution_count": 43,
      "outputs": []
    },
    {
      "cell_type": "code",
      "source": [
        "model_1 = Sequential()\n",
        "\n",
        "# Hidden layers\n",
        "model_1.add(Dense(37, input_dim = X_train_tf.shape[1], activation='relu'))\n",
        "model_1.add(Dense(25, activation='relu'))\n",
        "model_1.add(Dense(10, activation='relu'))\n",
        "\n",
        "# Output layer\n",
        "model_1.add(Dense(1, activation='linear'))\n",
        "\n",
        "# Compile the model\n",
        "model_1.compile(loss='mse', optimizer='adam', metrics=[metrics.MeanAbsoluteError(), metrics.RootMeanSquaredError()])\n",
        "\n",
        "# Fit the model\n",
        "history = model_1.fit(X_train_tf, y_train,\n",
        "                    validation_data = (X_test_tf, y_test),\n",
        "                    epochs = 100,\n",
        "                    batch_size = 32)"
      ],
      "metadata": {
        "colab": {
          "base_uri": "https://localhost:8080/"
        },
        "id": "w9842wGKw_fy",
        "outputId": "a9d605f7-325d-4471-a0c0-04e0a1b39373"
      },
      "execution_count": 44,
      "outputs": [
        {
          "output_type": "stream",
          "name": "stdout",
          "text": [
            "Epoch 1/100\n",
            "390/390 [==============================] - 3s 4ms/step - loss: 565750848.0000 - mean_absolute_error: 20850.4609 - root_mean_squared_error: 23785.5176 - val_loss: 335095776.0000 - val_mean_absolute_error: 15412.2578 - val_root_mean_squared_error: 18305.6211\n",
            "Epoch 2/100\n",
            "390/390 [==============================] - 2s 4ms/step - loss: 93965936.0000 - mean_absolute_error: 7146.9072 - root_mean_squared_error: 9693.6025 - val_loss: 32869296.0000 - val_mean_absolute_error: 4561.3643 - val_root_mean_squared_error: 5733.1748\n",
            "Epoch 3/100\n",
            "390/390 [==============================] - 1s 3ms/step - loss: 26556980.0000 - mean_absolute_error: 4081.0430 - root_mean_squared_error: 5153.3467 - val_loss: 21127670.0000 - val_mean_absolute_error: 3645.2410 - val_root_mean_squared_error: 4596.4844\n",
            "Epoch 4/100\n",
            "390/390 [==============================] - 1s 3ms/step - loss: 16837674.0000 - mean_absolute_error: 3239.9783 - root_mean_squared_error: 4103.3735 - val_loss: 13000321.0000 - val_mean_absolute_error: 2853.3311 - val_root_mean_squared_error: 3605.5957\n",
            "Epoch 5/100\n",
            "390/390 [==============================] - 2s 4ms/step - loss: 9764836.0000 - mean_absolute_error: 2453.8098 - root_mean_squared_error: 3124.8738 - val_loss: 7063156.0000 - val_mean_absolute_error: 2085.7815 - val_root_mean_squared_error: 2657.6599\n",
            "Epoch 6/100\n",
            "390/390 [==============================] - 2s 5ms/step - loss: 4991267.0000 - mean_absolute_error: 1731.6504 - root_mean_squared_error: 2234.1143 - val_loss: 3534102.2500 - val_mean_absolute_error: 1438.8589 - val_root_mean_squared_error: 1879.9208\n",
            "Epoch 7/100\n",
            "390/390 [==============================] - 1s 3ms/step - loss: 2502650.0000 - mean_absolute_error: 1208.3812 - root_mean_squared_error: 1581.9766 - val_loss: 1985260.6250 - val_mean_absolute_error: 1053.8359 - val_root_mean_squared_error: 1408.9928\n",
            "Epoch 8/100\n",
            "390/390 [==============================] - 1s 3ms/step - loss: 1575588.2500 - mean_absolute_error: 956.5469 - root_mean_squared_error: 1255.2244 - val_loss: 1516776.3750 - val_mean_absolute_error: 919.5017 - val_root_mean_squared_error: 1231.5747\n",
            "Epoch 9/100\n",
            "390/390 [==============================] - 1s 3ms/step - loss: 1330633.8750 - mean_absolute_error: 885.3460 - root_mean_squared_error: 1153.5310 - val_loss: 1393352.8750 - val_mean_absolute_error: 887.6693 - val_root_mean_squared_error: 1180.4037\n",
            "Epoch 10/100\n",
            "390/390 [==============================] - 1s 3ms/step - loss: 1273444.8750 - mean_absolute_error: 873.7219 - root_mean_squared_error: 1128.4701 - val_loss: 1364073.1250 - val_mean_absolute_error: 886.9163 - val_root_mean_squared_error: 1167.9354\n",
            "Epoch 11/100\n",
            "390/390 [==============================] - 1s 3ms/step - loss: 1254000.6250 - mean_absolute_error: 872.9244 - root_mean_squared_error: 1119.8217 - val_loss: 1331333.8750 - val_mean_absolute_error: 877.4951 - val_root_mean_squared_error: 1153.8345\n",
            "Epoch 12/100\n",
            "390/390 [==============================] - 1s 3ms/step - loss: 1240909.1250 - mean_absolute_error: 870.4496 - root_mean_squared_error: 1113.9611 - val_loss: 1315888.8750 - val_mean_absolute_error: 877.0967 - val_root_mean_squared_error: 1147.1219\n",
            "Epoch 13/100\n",
            "390/390 [==============================] - 1s 3ms/step - loss: 1232184.7500 - mean_absolute_error: 869.1644 - root_mean_squared_error: 1110.0382 - val_loss: 1312965.5000 - val_mean_absolute_error: 880.9255 - val_root_mean_squared_error: 1145.8470\n",
            "Epoch 14/100\n",
            "390/390 [==============================] - 1s 3ms/step - loss: 1223192.8750 - mean_absolute_error: 866.2495 - root_mean_squared_error: 1105.9805 - val_loss: 1299486.3750 - val_mean_absolute_error: 875.7258 - val_root_mean_squared_error: 1139.9502\n",
            "Epoch 15/100\n",
            "390/390 [==============================] - 2s 4ms/step - loss: 1214947.5000 - mean_absolute_error: 863.5670 - root_mean_squared_error: 1102.2466 - val_loss: 1280394.3750 - val_mean_absolute_error: 867.6282 - val_root_mean_squared_error: 1131.5452\n",
            "Epoch 16/100\n",
            "390/390 [==============================] - 2s 5ms/step - loss: 1203875.2500 - mean_absolute_error: 861.0394 - root_mean_squared_error: 1097.2125 - val_loss: 1280469.0000 - val_mean_absolute_error: 870.5598 - val_root_mean_squared_error: 1131.5781\n",
            "Epoch 17/100\n",
            "390/390 [==============================] - 1s 4ms/step - loss: 1195651.6250 - mean_absolute_error: 856.9844 - root_mean_squared_error: 1093.4586 - val_loss: 1279071.6250 - val_mean_absolute_error: 870.9700 - val_root_mean_squared_error: 1130.9604\n",
            "Epoch 18/100\n",
            "390/390 [==============================] - 1s 3ms/step - loss: 1185074.3750 - mean_absolute_error: 852.6691 - root_mean_squared_error: 1088.6112 - val_loss: 1260449.2500 - val_mean_absolute_error: 859.0338 - val_root_mean_squared_error: 1122.6973\n",
            "Epoch 19/100\n",
            "390/390 [==============================] - 1s 3ms/step - loss: 1175081.6250 - mean_absolute_error: 850.8329 - root_mean_squared_error: 1084.0118 - val_loss: 1240891.3750 - val_mean_absolute_error: 853.2812 - val_root_mean_squared_error: 1113.9530\n",
            "Epoch 20/100\n",
            "390/390 [==============================] - 1s 3ms/step - loss: 1155255.3750 - mean_absolute_error: 840.4290 - root_mean_squared_error: 1074.8281 - val_loss: 1225682.1250 - val_mean_absolute_error: 844.2000 - val_root_mean_squared_error: 1107.1053\n",
            "Epoch 21/100\n",
            "390/390 [==============================] - 1s 3ms/step - loss: 1144179.5000 - mean_absolute_error: 835.2989 - root_mean_squared_error: 1069.6632 - val_loss: 1203964.8750 - val_mean_absolute_error: 837.8981 - val_root_mean_squared_error: 1097.2533\n",
            "Epoch 22/100\n",
            "390/390 [==============================] - 1s 3ms/step - loss: 1128082.6250 - mean_absolute_error: 828.1222 - root_mean_squared_error: 1062.1123 - val_loss: 1250436.2500 - val_mean_absolute_error: 855.5976 - val_root_mean_squared_error: 1118.2291\n",
            "Epoch 23/100\n",
            "390/390 [==============================] - 1s 3ms/step - loss: 1109525.1250 - mean_absolute_error: 821.5751 - root_mean_squared_error: 1053.3400 - val_loss: 1185419.1250 - val_mean_absolute_error: 827.0858 - val_root_mean_squared_error: 1088.7695\n",
            "Epoch 24/100\n",
            "390/390 [==============================] - 1s 3ms/step - loss: 1086691.8750 - mean_absolute_error: 810.1172 - root_mean_squared_error: 1042.4452 - val_loss: 1162971.0000 - val_mean_absolute_error: 817.8257 - val_root_mean_squared_error: 1078.4114\n",
            "Epoch 25/100\n",
            "390/390 [==============================] - 1s 3ms/step - loss: 1070552.7500 - mean_absolute_error: 804.0650 - root_mean_squared_error: 1034.6752 - val_loss: 1180452.0000 - val_mean_absolute_error: 826.4717 - val_root_mean_squared_error: 1086.4861\n",
            "Epoch 26/100\n",
            "390/390 [==============================] - 2s 4ms/step - loss: 1054191.6250 - mean_absolute_error: 797.3579 - root_mean_squared_error: 1026.7384 - val_loss: 1126471.8750 - val_mean_absolute_error: 802.1767 - val_root_mean_squared_error: 1061.3538\n",
            "Epoch 27/100\n",
            "390/390 [==============================] - 1s 3ms/step - loss: 1030452.3750 - mean_absolute_error: 787.2965 - root_mean_squared_error: 1015.1120 - val_loss: 1139509.7500 - val_mean_absolute_error: 809.0167 - val_root_mean_squared_error: 1067.4783\n",
            "Epoch 28/100\n",
            "390/390 [==============================] - 1s 3ms/step - loss: 1020802.0625 - mean_absolute_error: 784.5068 - root_mean_squared_error: 1010.3475 - val_loss: 1100228.7500 - val_mean_absolute_error: 791.5284 - val_root_mean_squared_error: 1048.9178\n",
            "Epoch 29/100\n",
            "390/390 [==============================] - 1s 3ms/step - loss: 1002297.1250 - mean_absolute_error: 777.5466 - root_mean_squared_error: 1001.1479 - val_loss: 1085647.5000 - val_mean_absolute_error: 783.8438 - val_root_mean_squared_error: 1041.9441\n",
            "Epoch 30/100\n",
            "390/390 [==============================] - 1s 3ms/step - loss: 993169.7500 - mean_absolute_error: 773.1329 - root_mean_squared_error: 996.5790 - val_loss: 1079036.3750 - val_mean_absolute_error: 778.1603 - val_root_mean_squared_error: 1038.7667\n",
            "Epoch 31/100\n",
            "390/390 [==============================] - 1s 3ms/step - loss: 984659.1875 - mean_absolute_error: 767.6569 - root_mean_squared_error: 992.2999 - val_loss: 1066665.5000 - val_mean_absolute_error: 774.5049 - val_root_mean_squared_error: 1032.7950\n",
            "Epoch 32/100\n",
            "390/390 [==============================] - 1s 3ms/step - loss: 975319.0625 - mean_absolute_error: 764.6328 - root_mean_squared_error: 987.5825 - val_loss: 1051912.3750 - val_mean_absolute_error: 771.9501 - val_root_mean_squared_error: 1025.6278\n",
            "Epoch 33/100\n",
            "390/390 [==============================] - 2s 4ms/step - loss: 968526.5625 - mean_absolute_error: 761.0301 - root_mean_squared_error: 984.1375 - val_loss: 1060500.6250 - val_mean_absolute_error: 772.1078 - val_root_mean_squared_error: 1029.8062\n",
            "Epoch 34/100\n",
            "390/390 [==============================] - 2s 4ms/step - loss: 964626.0000 - mean_absolute_error: 758.4804 - root_mean_squared_error: 982.1537 - val_loss: 1042214.5000 - val_mean_absolute_error: 765.2758 - val_root_mean_squared_error: 1020.8891\n",
            "Epoch 35/100\n",
            "390/390 [==============================] - 2s 4ms/step - loss: 956216.5625 - mean_absolute_error: 756.2303 - root_mean_squared_error: 977.8633 - val_loss: 1046865.1250 - val_mean_absolute_error: 766.6072 - val_root_mean_squared_error: 1023.1642\n",
            "Epoch 36/100\n",
            "390/390 [==============================] - 2s 4ms/step - loss: 951568.0000 - mean_absolute_error: 752.9211 - root_mean_squared_error: 975.4835 - val_loss: 1042125.4375 - val_mean_absolute_error: 765.3218 - val_root_mean_squared_error: 1020.8455\n",
            "Epoch 37/100\n",
            "390/390 [==============================] - 1s 3ms/step - loss: 949215.8750 - mean_absolute_error: 751.5032 - root_mean_squared_error: 974.2771 - val_loss: 1037739.0000 - val_mean_absolute_error: 760.0710 - val_root_mean_squared_error: 1018.6948\n",
            "Epoch 38/100\n",
            "390/390 [==============================] - 1s 3ms/step - loss: 943086.1875 - mean_absolute_error: 747.6563 - root_mean_squared_error: 971.1262 - val_loss: 1024674.3750 - val_mean_absolute_error: 760.0049 - val_root_mean_squared_error: 1012.2620\n",
            "Epoch 39/100\n",
            "390/390 [==============================] - 1s 3ms/step - loss: 940723.3750 - mean_absolute_error: 748.0646 - root_mean_squared_error: 969.9089 - val_loss: 1020242.0000 - val_mean_absolute_error: 755.3755 - val_root_mean_squared_error: 1010.0703\n",
            "Epoch 40/100\n",
            "390/390 [==============================] - 1s 3ms/step - loss: 932081.1875 - mean_absolute_error: 742.6117 - root_mean_squared_error: 965.4435 - val_loss: 1015435.1875 - val_mean_absolute_error: 753.0021 - val_root_mean_squared_error: 1007.6880\n",
            "Epoch 41/100\n",
            "390/390 [==============================] - 1s 3ms/step - loss: 928740.5000 - mean_absolute_error: 741.6953 - root_mean_squared_error: 963.7119 - val_loss: 1011621.6875 - val_mean_absolute_error: 752.3138 - val_root_mean_squared_error: 1005.7941\n",
            "Epoch 42/100\n",
            "390/390 [==============================] - 1s 3ms/step - loss: 924653.9375 - mean_absolute_error: 740.4900 - root_mean_squared_error: 961.5893 - val_loss: 1034597.0000 - val_mean_absolute_error: 761.9462 - val_root_mean_squared_error: 1017.1514\n",
            "Epoch 43/100\n",
            "390/390 [==============================] - 1s 3ms/step - loss: 921800.5000 - mean_absolute_error: 738.7581 - root_mean_squared_error: 960.1044 - val_loss: 1026624.0625 - val_mean_absolute_error: 757.7994 - val_root_mean_squared_error: 1013.2246\n",
            "Epoch 44/100\n",
            "390/390 [==============================] - 1s 3ms/step - loss: 921341.3125 - mean_absolute_error: 737.7466 - root_mean_squared_error: 959.8652 - val_loss: 1008823.2500 - val_mean_absolute_error: 752.0745 - val_root_mean_squared_error: 1004.4019\n",
            "Epoch 45/100\n",
            "390/390 [==============================] - 1s 3ms/step - loss: 918260.1875 - mean_absolute_error: 736.5695 - root_mean_squared_error: 958.2589 - val_loss: 999857.6875 - val_mean_absolute_error: 745.4622 - val_root_mean_squared_error: 999.9288\n",
            "Epoch 46/100\n",
            "390/390 [==============================] - 2s 4ms/step - loss: 912768.8125 - mean_absolute_error: 734.2258 - root_mean_squared_error: 955.3893 - val_loss: 998705.0000 - val_mean_absolute_error: 746.4419 - val_root_mean_squared_error: 999.3523\n",
            "Epoch 47/100\n",
            "390/390 [==============================] - 2s 4ms/step - loss: 912557.7500 - mean_absolute_error: 733.9532 - root_mean_squared_error: 955.2789 - val_loss: 991220.5625 - val_mean_absolute_error: 742.7366 - val_root_mean_squared_error: 995.6006\n",
            "Epoch 48/100\n",
            "390/390 [==============================] - 1s 4ms/step - loss: 908376.6250 - mean_absolute_error: 731.8456 - root_mean_squared_error: 953.0880 - val_loss: 990474.9375 - val_mean_absolute_error: 746.2976 - val_root_mean_squared_error: 995.2261\n",
            "Epoch 49/100\n",
            "390/390 [==============================] - 1s 3ms/step - loss: 901784.1250 - mean_absolute_error: 730.2891 - root_mean_squared_error: 949.6232 - val_loss: 984709.1875 - val_mean_absolute_error: 742.7216 - val_root_mean_squared_error: 992.3251\n",
            "Epoch 50/100\n",
            "390/390 [==============================] - 1s 3ms/step - loss: 902402.1875 - mean_absolute_error: 730.4960 - root_mean_squared_error: 949.9485 - val_loss: 991350.0625 - val_mean_absolute_error: 741.8050 - val_root_mean_squared_error: 995.6656\n",
            "Epoch 51/100\n",
            "390/390 [==============================] - 1s 3ms/step - loss: 897620.0000 - mean_absolute_error: 726.5269 - root_mean_squared_error: 947.4281 - val_loss: 980568.1875 - val_mean_absolute_error: 741.4132 - val_root_mean_squared_error: 990.2365\n",
            "Epoch 52/100\n",
            "390/390 [==============================] - 1s 3ms/step - loss: 894508.5625 - mean_absolute_error: 726.3998 - root_mean_squared_error: 945.7846 - val_loss: 980749.3125 - val_mean_absolute_error: 741.5799 - val_root_mean_squared_error: 990.3279\n",
            "Epoch 53/100\n",
            "390/390 [==============================] - 1s 3ms/step - loss: 891902.1250 - mean_absolute_error: 725.8785 - root_mean_squared_error: 944.4057 - val_loss: 984775.7500 - val_mean_absolute_error: 737.6741 - val_root_mean_squared_error: 992.3587\n",
            "Epoch 54/100\n",
            "390/390 [==============================] - 1s 3ms/step - loss: 892688.6875 - mean_absolute_error: 723.1612 - root_mean_squared_error: 944.8220 - val_loss: 993542.5000 - val_mean_absolute_error: 741.9662 - val_root_mean_squared_error: 996.7660\n",
            "Epoch 55/100\n",
            "390/390 [==============================] - 1s 3ms/step - loss: 887044.3125 - mean_absolute_error: 721.6583 - root_mean_squared_error: 941.8303 - val_loss: 991492.5625 - val_mean_absolute_error: 744.5641 - val_root_mean_squared_error: 995.7372\n",
            "Epoch 56/100\n",
            "390/390 [==============================] - 1s 3ms/step - loss: 883811.5625 - mean_absolute_error: 721.7081 - root_mean_squared_error: 940.1125 - val_loss: 973465.3750 - val_mean_absolute_error: 735.0593 - val_root_mean_squared_error: 986.6435\n",
            "Epoch 57/100\n",
            "390/390 [==============================] - 2s 5ms/step - loss: 878645.5000 - mean_absolute_error: 718.5331 - root_mean_squared_error: 937.3609 - val_loss: 962381.1250 - val_mean_absolute_error: 735.4553 - val_root_mean_squared_error: 981.0103\n",
            "Epoch 58/100\n",
            "390/390 [==============================] - 2s 4ms/step - loss: 876560.1250 - mean_absolute_error: 717.0788 - root_mean_squared_error: 936.2479 - val_loss: 966940.1875 - val_mean_absolute_error: 736.8918 - val_root_mean_squared_error: 983.3312\n",
            "Epoch 59/100\n",
            "390/390 [==============================] - 1s 3ms/step - loss: 876566.1250 - mean_absolute_error: 717.6935 - root_mean_squared_error: 936.2511 - val_loss: 963906.5625 - val_mean_absolute_error: 735.9583 - val_root_mean_squared_error: 981.7874\n",
            "Epoch 60/100\n",
            "390/390 [==============================] - 1s 3ms/step - loss: 875404.8125 - mean_absolute_error: 716.3789 - root_mean_squared_error: 935.6307 - val_loss: 970355.0000 - val_mean_absolute_error: 737.4261 - val_root_mean_squared_error: 985.0660\n",
            "Epoch 61/100\n",
            "390/390 [==============================] - 1s 3ms/step - loss: 871971.3125 - mean_absolute_error: 716.2954 - root_mean_squared_error: 933.7941 - val_loss: 954979.9375 - val_mean_absolute_error: 728.4333 - val_root_mean_squared_error: 977.2308\n",
            "Epoch 62/100\n",
            "390/390 [==============================] - 1s 3ms/step - loss: 868498.9375 - mean_absolute_error: 713.1061 - root_mean_squared_error: 931.9329 - val_loss: 975041.6250 - val_mean_absolute_error: 738.3602 - val_root_mean_squared_error: 987.4420\n",
            "Epoch 63/100\n",
            "390/390 [==============================] - 1s 3ms/step - loss: 866206.2500 - mean_absolute_error: 713.9459 - root_mean_squared_error: 930.7020 - val_loss: 956362.9375 - val_mean_absolute_error: 726.9370 - val_root_mean_squared_error: 977.9381\n",
            "Epoch 64/100\n",
            "390/390 [==============================] - 1s 3ms/step - loss: 866530.3750 - mean_absolute_error: 712.9423 - root_mean_squared_error: 930.8762 - val_loss: 953712.4375 - val_mean_absolute_error: 729.1232 - val_root_mean_squared_error: 976.5820\n",
            "Epoch 65/100\n",
            "390/390 [==============================] - 1s 3ms/step - loss: 863831.8750 - mean_absolute_error: 711.8260 - root_mean_squared_error: 929.4255 - val_loss: 945411.5625 - val_mean_absolute_error: 726.3606 - val_root_mean_squared_error: 972.3228\n",
            "Epoch 66/100\n",
            "390/390 [==============================] - 1s 3ms/step - loss: 863300.1875 - mean_absolute_error: 711.6966 - root_mean_squared_error: 929.1395 - val_loss: 945534.3125 - val_mean_absolute_error: 726.8928 - val_root_mean_squared_error: 972.3859\n",
            "Epoch 67/100\n",
            "390/390 [==============================] - 2s 4ms/step - loss: 860756.5000 - mean_absolute_error: 710.2571 - root_mean_squared_error: 927.7697 - val_loss: 950265.1250 - val_mean_absolute_error: 729.8132 - val_root_mean_squared_error: 974.8154\n",
            "Epoch 68/100\n",
            "390/390 [==============================] - 2s 5ms/step - loss: 860836.5000 - mean_absolute_error: 710.1483 - root_mean_squared_error: 927.8127 - val_loss: 944626.9375 - val_mean_absolute_error: 727.9383 - val_root_mean_squared_error: 971.9192\n",
            "Epoch 69/100\n",
            "390/390 [==============================] - 1s 4ms/step - loss: 853142.2500 - mean_absolute_error: 707.5854 - root_mean_squared_error: 923.6570 - val_loss: 945439.9375 - val_mean_absolute_error: 728.6961 - val_root_mean_squared_error: 972.3373\n",
            "Epoch 70/100\n",
            "390/390 [==============================] - 1s 3ms/step - loss: 853061.4375 - mean_absolute_error: 708.0490 - root_mean_squared_error: 923.6133 - val_loss: 954558.5000 - val_mean_absolute_error: 726.0661 - val_root_mean_squared_error: 977.0151\n",
            "Epoch 71/100\n",
            "390/390 [==============================] - 1s 4ms/step - loss: 852222.7500 - mean_absolute_error: 705.7860 - root_mean_squared_error: 923.1591 - val_loss: 946604.1875 - val_mean_absolute_error: 724.3847 - val_root_mean_squared_error: 972.9359\n",
            "Epoch 72/100\n",
            "390/390 [==============================] - 1s 4ms/step - loss: 852569.9375 - mean_absolute_error: 706.5527 - root_mean_squared_error: 923.3472 - val_loss: 937577.0000 - val_mean_absolute_error: 722.9379 - val_root_mean_squared_error: 968.2856\n",
            "Epoch 73/100\n",
            "390/390 [==============================] - 1s 4ms/step - loss: 853026.0625 - mean_absolute_error: 706.4944 - root_mean_squared_error: 923.5941 - val_loss: 937891.0000 - val_mean_absolute_error: 719.9650 - val_root_mean_squared_error: 968.4478\n",
            "Epoch 74/100\n",
            "390/390 [==============================] - 1s 4ms/step - loss: 850304.4375 - mean_absolute_error: 706.3439 - root_mean_squared_error: 922.1195 - val_loss: 954503.5000 - val_mean_absolute_error: 727.8654 - val_root_mean_squared_error: 976.9869\n",
            "Epoch 75/100\n",
            "390/390 [==============================] - 1s 4ms/step - loss: 846143.8125 - mean_absolute_error: 703.9053 - root_mean_squared_error: 919.8608 - val_loss: 930272.2500 - val_mean_absolute_error: 718.8080 - val_root_mean_squared_error: 964.5062\n",
            "Epoch 76/100\n",
            "390/390 [==============================] - 2s 4ms/step - loss: 847710.8125 - mean_absolute_error: 705.7731 - root_mean_squared_error: 920.7121 - val_loss: 936996.9375 - val_mean_absolute_error: 722.1568 - val_root_mean_squared_error: 967.9860\n",
            "Epoch 77/100\n",
            "390/390 [==============================] - 2s 4ms/step - loss: 845153.7500 - mean_absolute_error: 702.4227 - root_mean_squared_error: 919.3224 - val_loss: 947702.0000 - val_mean_absolute_error: 733.5180 - val_root_mean_squared_error: 973.4999\n",
            "Epoch 78/100\n",
            "390/390 [==============================] - 2s 6ms/step - loss: 843604.2500 - mean_absolute_error: 704.1885 - root_mean_squared_error: 918.4793 - val_loss: 954925.4375 - val_mean_absolute_error: 725.5119 - val_root_mean_squared_error: 977.2029\n",
            "Epoch 79/100\n",
            "390/390 [==============================] - 1s 3ms/step - loss: 844302.5625 - mean_absolute_error: 701.9487 - root_mean_squared_error: 918.8594 - val_loss: 928829.1875 - val_mean_absolute_error: 722.2255 - val_root_mean_squared_error: 963.7579\n",
            "Epoch 80/100\n",
            "390/390 [==============================] - 1s 3ms/step - loss: 840169.5625 - mean_absolute_error: 703.1649 - root_mean_squared_error: 916.6077 - val_loss: 928795.7500 - val_mean_absolute_error: 718.4597 - val_root_mean_squared_error: 963.7405\n",
            "Epoch 81/100\n",
            "390/390 [==============================] - 1s 3ms/step - loss: 842325.8750 - mean_absolute_error: 701.9918 - root_mean_squared_error: 917.7831 - val_loss: 938569.1250 - val_mean_absolute_error: 723.3889 - val_root_mean_squared_error: 968.7978\n",
            "Epoch 82/100\n",
            "390/390 [==============================] - 1s 3ms/step - loss: 843438.0625 - mean_absolute_error: 703.1588 - root_mean_squared_error: 918.3889 - val_loss: 928456.0625 - val_mean_absolute_error: 721.3818 - val_root_mean_squared_error: 963.5643\n",
            "Epoch 83/100\n",
            "390/390 [==============================] - 1s 3ms/step - loss: 841754.9375 - mean_absolute_error: 702.3707 - root_mean_squared_error: 917.4720 - val_loss: 931751.5625 - val_mean_absolute_error: 719.0184 - val_root_mean_squared_error: 965.2728\n",
            "Epoch 84/100\n",
            "390/390 [==============================] - 1s 3ms/step - loss: 840576.0625 - mean_absolute_error: 701.4725 - root_mean_squared_error: 916.8293 - val_loss: 927275.1250 - val_mean_absolute_error: 721.5647 - val_root_mean_squared_error: 962.9512\n",
            "Epoch 85/100\n",
            "390/390 [==============================] - 1s 3ms/step - loss: 841913.5625 - mean_absolute_error: 703.0374 - root_mean_squared_error: 917.5585 - val_loss: 926509.3125 - val_mean_absolute_error: 718.9950 - val_root_mean_squared_error: 962.5535\n",
            "Epoch 86/100\n",
            "390/390 [==============================] - 2s 5ms/step - loss: 840927.8750 - mean_absolute_error: 701.6844 - root_mean_squared_error: 917.0212 - val_loss: 922874.5625 - val_mean_absolute_error: 719.0564 - val_root_mean_squared_error: 960.6636\n",
            "Epoch 87/100\n",
            "390/390 [==============================] - 2s 5ms/step - loss: 836241.3750 - mean_absolute_error: 701.0031 - root_mean_squared_error: 914.4623 - val_loss: 934289.4375 - val_mean_absolute_error: 722.5756 - val_root_mean_squared_error: 966.5865\n",
            "Epoch 88/100\n",
            "390/390 [==============================] - 1s 3ms/step - loss: 836389.6250 - mean_absolute_error: 700.3125 - root_mean_squared_error: 914.5434 - val_loss: 923575.6875 - val_mean_absolute_error: 715.7711 - val_root_mean_squared_error: 961.0284\n",
            "Epoch 89/100\n",
            "390/390 [==============================] - 1s 3ms/step - loss: 836592.3750 - mean_absolute_error: 700.2180 - root_mean_squared_error: 914.6542 - val_loss: 923098.0000 - val_mean_absolute_error: 717.7885 - val_root_mean_squared_error: 960.7799\n",
            "Epoch 90/100\n",
            "390/390 [==============================] - 1s 3ms/step - loss: 836241.0625 - mean_absolute_error: 700.1116 - root_mean_squared_error: 914.4622 - val_loss: 921708.6875 - val_mean_absolute_error: 716.9000 - val_root_mean_squared_error: 960.0566\n",
            "Epoch 91/100\n",
            "390/390 [==============================] - 1s 3ms/step - loss: 833860.1875 - mean_absolute_error: 699.6214 - root_mean_squared_error: 913.1594 - val_loss: 930711.7500 - val_mean_absolute_error: 719.6395 - val_root_mean_squared_error: 964.7340\n",
            "Epoch 92/100\n",
            "390/390 [==============================] - 1s 3ms/step - loss: 833251.6875 - mean_absolute_error: 698.0121 - root_mean_squared_error: 912.8262 - val_loss: 943563.6250 - val_mean_absolute_error: 729.0352 - val_root_mean_squared_error: 971.3720\n",
            "Epoch 93/100\n",
            "390/390 [==============================] - 1s 3ms/step - loss: 834040.3750 - mean_absolute_error: 700.7448 - root_mean_squared_error: 913.2581 - val_loss: 919109.4375 - val_mean_absolute_error: 717.1022 - val_root_mean_squared_error: 958.7020\n",
            "Epoch 94/100\n",
            "390/390 [==============================] - 1s 3ms/step - loss: 830535.3750 - mean_absolute_error: 698.1906 - root_mean_squared_error: 911.3372 - val_loss: 923758.0000 - val_mean_absolute_error: 719.1461 - val_root_mean_squared_error: 961.1233\n",
            "Epoch 95/100\n",
            "390/390 [==============================] - 1s 3ms/step - loss: 835173.0625 - mean_absolute_error: 700.2960 - root_mean_squared_error: 913.8781 - val_loss: 921079.3750 - val_mean_absolute_error: 716.5978 - val_root_mean_squared_error: 959.7288\n",
            "Epoch 96/100\n",
            "390/390 [==============================] - 2s 5ms/step - loss: 831183.3125 - mean_absolute_error: 697.7155 - root_mean_squared_error: 911.6926 - val_loss: 934193.2500 - val_mean_absolute_error: 725.0948 - val_root_mean_squared_error: 966.5367\n",
            "Epoch 97/100\n",
            "390/390 [==============================] - 2s 4ms/step - loss: 831660.8125 - mean_absolute_error: 698.4976 - root_mean_squared_error: 911.9544 - val_loss: 919759.9375 - val_mean_absolute_error: 716.3956 - val_root_mean_squared_error: 959.0411\n",
            "Epoch 98/100\n",
            "390/390 [==============================] - 1s 3ms/step - loss: 829149.6875 - mean_absolute_error: 697.3042 - root_mean_squared_error: 910.5766 - val_loss: 932244.6250 - val_mean_absolute_error: 724.0750 - val_root_mean_squared_error: 965.5281\n",
            "Epoch 99/100\n",
            "390/390 [==============================] - 1s 3ms/step - loss: 828281.2500 - mean_absolute_error: 695.9406 - root_mean_squared_error: 910.0996 - val_loss: 919232.3750 - val_mean_absolute_error: 719.1207 - val_root_mean_squared_error: 958.7661\n",
            "Epoch 100/100\n",
            "390/390 [==============================] - 1s 3ms/step - loss: 835364.0625 - mean_absolute_error: 699.8280 - root_mean_squared_error: 913.9825 - val_loss: 923234.3125 - val_mean_absolute_error: 721.7282 - val_root_mean_squared_error: 960.8508\n"
          ]
        }
      ]
    },
    {
      "cell_type": "code",
      "source": [
        "y_pred_train_1 = model_1.predict(X_train_tf)\n",
        "y_pred_test_1 = model_1.predict(X_test_tf)\n",
        "y_t = model_1.predict(Xtest_tf)"
      ],
      "metadata": {
        "colab": {
          "base_uri": "https://localhost:8080/"
        },
        "id": "tCr-NWT4xEQk",
        "outputId": "7bdcbd26-d33e-4864-8123-e252e4257c51"
      },
      "execution_count": 45,
      "outputs": [
        {
          "output_type": "stream",
          "name": "stdout",
          "text": [
            "390/390 [==============================] - 1s 1ms/step\n",
            "130/130 [==============================] - 0s 2ms/step\n",
            "173/173 [==============================] - 0s 1ms/step\n"
          ]
        }
      ]
    },
    {
      "cell_type": "code",
      "source": [
        "model_2 = Sequential()\n",
        "\n",
        "# Hidden layers\n",
        "model_2.add(Dense(37, input_dim = X_train_tf.shape[1], activation='relu'))\n",
        "model_2.add(Dropout(.2))\n",
        "model_2.add(Dense(25, activation='relu'))\n",
        "model_2.add(Dropout(.2))\n",
        "model_2.add(Dense(10, activation='relu'))\n",
        "model_2.add(Dropout(.2))\n",
        "\n",
        "# Output layer\n",
        "model_2.add(Dense(1, activation='linear'))\n",
        "\n",
        "# Compile the model\n",
        "model_2.compile(loss='mse', optimizer='adam', metrics=[metrics.MeanAbsoluteError(), metrics.RootMeanSquaredError()])\n",
        "\n",
        "# Fit the model\n",
        "history = model_2.fit(X_train_tf, y_train,\n",
        "                    validation_data = (X_test_tf, y_test),\n",
        "                    epochs = 100,\n",
        "                    batch_size = 32)\n"
      ],
      "metadata": {
        "colab": {
          "base_uri": "https://localhost:8080/"
        },
        "id": "2lADXRwgx3CW",
        "outputId": "679bbb89-b44e-4cc3-9f94-df220277bc57"
      },
      "execution_count": 46,
      "outputs": [
        {
          "output_type": "stream",
          "name": "stdout",
          "text": [
            "Epoch 1/100\n",
            "390/390 [==============================] - 2s 3ms/step - loss: 542316416.0000 - mean_absolute_error: 20251.3711 - root_mean_squared_error: 23287.6875 - val_loss: 228506560.0000 - val_mean_absolute_error: 12283.2441 - val_root_mean_squared_error: 15116.4336\n",
            "Epoch 2/100\n",
            "390/390 [==============================] - 1s 3ms/step - loss: 90334320.0000 - mean_absolute_error: 7241.5234 - root_mean_squared_error: 9504.4365 - val_loss: 31232526.0000 - val_mean_absolute_error: 4376.7637 - val_root_mean_squared_error: 5588.6069\n",
            "Epoch 3/100\n",
            "390/390 [==============================] - 1s 3ms/step - loss: 59978364.0000 - mean_absolute_error: 5926.7656 - root_mean_squared_error: 7744.5698 - val_loss: 20837964.0000 - val_mean_absolute_error: 3561.1448 - val_root_mean_squared_error: 4564.8618\n",
            "Epoch 4/100\n",
            "390/390 [==============================] - 1s 4ms/step - loss: 49637168.0000 - mean_absolute_error: 5309.0117 - root_mean_squared_error: 7045.3652 - val_loss: 11908190.0000 - val_mean_absolute_error: 2697.8413 - val_root_mean_squared_error: 3450.8245\n",
            "Epoch 5/100\n",
            "390/390 [==============================] - 1s 3ms/step - loss: 42917532.0000 - mean_absolute_error: 4856.4609 - root_mean_squared_error: 6551.1475 - val_loss: 7451942.0000 - val_mean_absolute_error: 2109.0105 - val_root_mean_squared_error: 2729.8245\n",
            "Epoch 6/100\n",
            "390/390 [==============================] - 2s 5ms/step - loss: 40591572.0000 - mean_absolute_error: 4644.8032 - root_mean_squared_error: 6371.1514 - val_loss: 5562343.0000 - val_mean_absolute_error: 1796.3962 - val_root_mean_squared_error: 2358.4619\n",
            "Epoch 7/100\n",
            "390/390 [==============================] - 2s 5ms/step - loss: 39239768.0000 - mean_absolute_error: 4555.6865 - root_mean_squared_error: 6264.1655 - val_loss: 4769450.5000 - val_mean_absolute_error: 1674.3147 - val_root_mean_squared_error: 2183.9072\n",
            "Epoch 8/100\n",
            "390/390 [==============================] - 1s 4ms/step - loss: 38120400.0000 - mean_absolute_error: 4459.9956 - root_mean_squared_error: 6174.1719 - val_loss: 3339543.5000 - val_mean_absolute_error: 1358.2922 - val_root_mean_squared_error: 1827.4418\n",
            "Epoch 9/100\n",
            "390/390 [==============================] - 1s 3ms/step - loss: 38505516.0000 - mean_absolute_error: 4451.3730 - root_mean_squared_error: 6205.2812 - val_loss: 3726796.2500 - val_mean_absolute_error: 1479.1649 - val_root_mean_squared_error: 1930.4912\n",
            "Epoch 10/100\n",
            "390/390 [==============================] - 1s 3ms/step - loss: 36738936.0000 - mean_absolute_error: 4367.8452 - root_mean_squared_error: 6061.2651 - val_loss: 3527626.5000 - val_mean_absolute_error: 1428.8276 - val_root_mean_squared_error: 1878.1976\n",
            "Epoch 11/100\n",
            "390/390 [==============================] - 1s 3ms/step - loss: 37811028.0000 - mean_absolute_error: 4448.1543 - root_mean_squared_error: 6149.0674 - val_loss: 3780700.7500 - val_mean_absolute_error: 1501.4342 - val_root_mean_squared_error: 1944.4025\n",
            "Epoch 12/100\n",
            "390/390 [==============================] - 1s 4ms/step - loss: 37600444.0000 - mean_absolute_error: 4409.6045 - root_mean_squared_error: 6131.9199 - val_loss: 4066169.5000 - val_mean_absolute_error: 1555.6481 - val_root_mean_squared_error: 2016.4745\n",
            "Epoch 13/100\n",
            "390/390 [==============================] - 1s 4ms/step - loss: 38043148.0000 - mean_absolute_error: 4444.7925 - root_mean_squared_error: 6167.9126 - val_loss: 2809790.5000 - val_mean_absolute_error: 1253.3629 - val_root_mean_squared_error: 1676.2429\n",
            "Epoch 14/100\n",
            "390/390 [==============================] - 1s 3ms/step - loss: 38676196.0000 - mean_absolute_error: 4461.0991 - root_mean_squared_error: 6219.0190 - val_loss: 2448616.5000 - val_mean_absolute_error: 1175.0990 - val_root_mean_squared_error: 1564.8055\n",
            "Epoch 15/100\n",
            "390/390 [==============================] - 2s 5ms/step - loss: 37716112.0000 - mean_absolute_error: 4420.2344 - root_mean_squared_error: 6141.3442 - val_loss: 3076222.5000 - val_mean_absolute_error: 1334.0293 - val_root_mean_squared_error: 1753.9164\n",
            "Epoch 16/100\n",
            "390/390 [==============================] - 2s 4ms/step - loss: 37615328.0000 - mean_absolute_error: 4421.9834 - root_mean_squared_error: 6133.1338 - val_loss: 2844657.0000 - val_mean_absolute_error: 1272.1826 - val_root_mean_squared_error: 1686.6111\n",
            "Epoch 17/100\n",
            "390/390 [==============================] - 1s 3ms/step - loss: 37869988.0000 - mean_absolute_error: 4409.3398 - root_mean_squared_error: 6153.8594 - val_loss: 4836250.0000 - val_mean_absolute_error: 1736.4796 - val_root_mean_squared_error: 2199.1475\n",
            "Epoch 18/100\n",
            "390/390 [==============================] - 1s 4ms/step - loss: 38814216.0000 - mean_absolute_error: 4457.8535 - root_mean_squared_error: 6230.1055 - val_loss: 3131851.2500 - val_mean_absolute_error: 1352.5011 - val_root_mean_squared_error: 1769.7037\n",
            "Epoch 19/100\n",
            "390/390 [==============================] - 1s 3ms/step - loss: 36647704.0000 - mean_absolute_error: 4354.1431 - root_mean_squared_error: 6053.7349 - val_loss: 3891429.7500 - val_mean_absolute_error: 1530.4419 - val_root_mean_squared_error: 1972.6707\n",
            "Epoch 20/100\n",
            "390/390 [==============================] - 1s 3ms/step - loss: 38131292.0000 - mean_absolute_error: 4470.0508 - root_mean_squared_error: 6175.0542 - val_loss: 4189386.2500 - val_mean_absolute_error: 1629.6893 - val_root_mean_squared_error: 2046.7991\n",
            "Epoch 21/100\n",
            "390/390 [==============================] - 1s 3ms/step - loss: 37635672.0000 - mean_absolute_error: 4422.7510 - root_mean_squared_error: 6134.7920 - val_loss: 1997387.3750 - val_mean_absolute_error: 1051.7449 - val_root_mean_squared_error: 1413.2896\n",
            "Epoch 22/100\n",
            "390/390 [==============================] - 1s 3ms/step - loss: 37679776.0000 - mean_absolute_error: 4420.9707 - root_mean_squared_error: 6138.3853 - val_loss: 2938912.7500 - val_mean_absolute_error: 1312.8947 - val_root_mean_squared_error: 1714.3257\n",
            "Epoch 23/100\n",
            "390/390 [==============================] - 1s 3ms/step - loss: 36649016.0000 - mean_absolute_error: 4363.0933 - root_mean_squared_error: 6053.8433 - val_loss: 4042577.5000 - val_mean_absolute_error: 1594.7670 - val_root_mean_squared_error: 2010.6162\n",
            "Epoch 24/100\n",
            "390/390 [==============================] - 2s 4ms/step - loss: 37256868.0000 - mean_absolute_error: 4388.8315 - root_mean_squared_error: 6103.8403 - val_loss: 4245402.5000 - val_mean_absolute_error: 1622.8485 - val_root_mean_squared_error: 2060.4375\n",
            "Epoch 25/100\n",
            "390/390 [==============================] - 2s 5ms/step - loss: 38057880.0000 - mean_absolute_error: 4425.1919 - root_mean_squared_error: 6169.1069 - val_loss: 2722259.2500 - val_mean_absolute_error: 1230.8156 - val_root_mean_squared_error: 1649.9270\n",
            "Epoch 26/100\n",
            "390/390 [==============================] - 2s 4ms/step - loss: 37488224.0000 - mean_absolute_error: 4385.9282 - root_mean_squared_error: 6122.7627 - val_loss: 3504467.5000 - val_mean_absolute_error: 1448.4143 - val_root_mean_squared_error: 1872.0223\n",
            "Epoch 27/100\n",
            "390/390 [==============================] - 1s 3ms/step - loss: 37269572.0000 - mean_absolute_error: 4397.0571 - root_mean_squared_error: 6104.8809 - val_loss: 3585720.5000 - val_mean_absolute_error: 1467.9164 - val_root_mean_squared_error: 1893.5999\n",
            "Epoch 28/100\n",
            "390/390 [==============================] - 1s 3ms/step - loss: 37687480.0000 - mean_absolute_error: 4411.0215 - root_mean_squared_error: 6139.0132 - val_loss: 2940498.2500 - val_mean_absolute_error: 1297.3268 - val_root_mean_squared_error: 1714.7881\n",
            "Epoch 29/100\n",
            "390/390 [==============================] - 1s 3ms/step - loss: 37903380.0000 - mean_absolute_error: 4433.8643 - root_mean_squared_error: 6156.5723 - val_loss: 3736988.2500 - val_mean_absolute_error: 1509.9679 - val_root_mean_squared_error: 1933.1292\n",
            "Epoch 30/100\n",
            "390/390 [==============================] - 1s 3ms/step - loss: 37896544.0000 - mean_absolute_error: 4432.1309 - root_mean_squared_error: 6156.0171 - val_loss: 4303994.0000 - val_mean_absolute_error: 1677.1921 - val_root_mean_squared_error: 2074.6069\n",
            "Epoch 31/100\n",
            "390/390 [==============================] - 1s 3ms/step - loss: 37346472.0000 - mean_absolute_error: 4413.5029 - root_mean_squared_error: 6111.1758 - val_loss: 2441551.7500 - val_mean_absolute_error: 1171.0817 - val_root_mean_squared_error: 1562.5465\n",
            "Epoch 32/100\n",
            "390/390 [==============================] - 1s 3ms/step - loss: 37886524.0000 - mean_absolute_error: 4416.5903 - root_mean_squared_error: 6155.2031 - val_loss: 3686334.7500 - val_mean_absolute_error: 1485.9196 - val_root_mean_squared_error: 1919.9830\n",
            "Epoch 33/100\n",
            "390/390 [==============================] - 1s 3ms/step - loss: 37973172.0000 - mean_absolute_error: 4421.2578 - root_mean_squared_error: 6162.2378 - val_loss: 3993605.5000 - val_mean_absolute_error: 1585.1924 - val_root_mean_squared_error: 1998.4008\n",
            "Epoch 34/100\n",
            "390/390 [==============================] - 2s 5ms/step - loss: 37822076.0000 - mean_absolute_error: 4423.9106 - root_mean_squared_error: 6149.9653 - val_loss: 3149433.2500 - val_mean_absolute_error: 1373.4104 - val_root_mean_squared_error: 1774.6643\n",
            "Epoch 35/100\n",
            "390/390 [==============================] - 2s 5ms/step - loss: 36956912.0000 - mean_absolute_error: 4372.6484 - root_mean_squared_error: 6079.2197 - val_loss: 3466470.2500 - val_mean_absolute_error: 1452.4696 - val_root_mean_squared_error: 1861.8459\n",
            "Epoch 36/100\n",
            "390/390 [==============================] - 1s 3ms/step - loss: 36820880.0000 - mean_absolute_error: 4370.0000 - root_mean_squared_error: 6068.0210 - val_loss: 2462342.5000 - val_mean_absolute_error: 1173.6875 - val_root_mean_squared_error: 1569.1853\n",
            "Epoch 37/100\n",
            "390/390 [==============================] - 1s 3ms/step - loss: 36782828.0000 - mean_absolute_error: 4371.8979 - root_mean_squared_error: 6064.8848 - val_loss: 2492335.0000 - val_mean_absolute_error: 1184.7804 - val_root_mean_squared_error: 1578.7131\n",
            "Epoch 38/100\n",
            "390/390 [==============================] - 1s 3ms/step - loss: 37181548.0000 - mean_absolute_error: 4404.1338 - root_mean_squared_error: 6097.6675 - val_loss: 3941858.0000 - val_mean_absolute_error: 1557.4659 - val_root_mean_squared_error: 1985.4113\n",
            "Epoch 39/100\n",
            "390/390 [==============================] - 1s 4ms/step - loss: 37630856.0000 - mean_absolute_error: 4382.3228 - root_mean_squared_error: 6134.3994 - val_loss: 3674891.5000 - val_mean_absolute_error: 1498.9313 - val_root_mean_squared_error: 1917.0006\n",
            "Epoch 40/100\n",
            "390/390 [==============================] - 1s 3ms/step - loss: 37030724.0000 - mean_absolute_error: 4381.0630 - root_mean_squared_error: 6085.2876 - val_loss: 3664146.0000 - val_mean_absolute_error: 1508.5288 - val_root_mean_squared_error: 1914.1959\n",
            "Epoch 41/100\n",
            "390/390 [==============================] - 1s 4ms/step - loss: 37177392.0000 - mean_absolute_error: 4380.7192 - root_mean_squared_error: 6097.3267 - val_loss: 3700106.0000 - val_mean_absolute_error: 1505.1481 - val_root_mean_squared_error: 1923.5659\n",
            "Epoch 42/100\n",
            "390/390 [==============================] - 1s 4ms/step - loss: 38308756.0000 - mean_absolute_error: 4429.2598 - root_mean_squared_error: 6189.4067 - val_loss: 4022352.2500 - val_mean_absolute_error: 1578.4437 - val_root_mean_squared_error: 2005.5803\n",
            "Epoch 43/100\n",
            "390/390 [==============================] - 2s 6ms/step - loss: 36690208.0000 - mean_absolute_error: 4354.7173 - root_mean_squared_error: 6057.2441 - val_loss: 2297457.0000 - val_mean_absolute_error: 1134.1754 - val_root_mean_squared_error: 1515.7365\n",
            "Epoch 44/100\n",
            "390/390 [==============================] - 2s 5ms/step - loss: 37469072.0000 - mean_absolute_error: 4410.5649 - root_mean_squared_error: 6121.1987 - val_loss: 2835042.7500 - val_mean_absolute_error: 1279.2318 - val_root_mean_squared_error: 1683.7585\n",
            "Epoch 45/100\n",
            "390/390 [==============================] - 2s 4ms/step - loss: 37317696.0000 - mean_absolute_error: 4364.3423 - root_mean_squared_error: 6108.8213 - val_loss: 3180590.7500 - val_mean_absolute_error: 1358.5701 - val_root_mean_squared_error: 1783.4210\n",
            "Epoch 46/100\n",
            "390/390 [==============================] - 1s 4ms/step - loss: 37989584.0000 - mean_absolute_error: 4450.6953 - root_mean_squared_error: 6163.5693 - val_loss: 3703031.0000 - val_mean_absolute_error: 1500.7134 - val_root_mean_squared_error: 1924.3262\n",
            "Epoch 47/100\n",
            "390/390 [==============================] - 1s 4ms/step - loss: 37965100.0000 - mean_absolute_error: 4400.4751 - root_mean_squared_error: 6161.5825 - val_loss: 3697950.7500 - val_mean_absolute_error: 1504.8174 - val_root_mean_squared_error: 1923.0056\n",
            "Epoch 48/100\n",
            "390/390 [==============================] - 1s 3ms/step - loss: 37410732.0000 - mean_absolute_error: 4399.7925 - root_mean_squared_error: 6116.4312 - val_loss: 2878764.7500 - val_mean_absolute_error: 1268.4752 - val_root_mean_squared_error: 1696.6923\n",
            "Epoch 49/100\n",
            "390/390 [==============================] - 1s 4ms/step - loss: 37894400.0000 - mean_absolute_error: 4431.7744 - root_mean_squared_error: 6155.8428 - val_loss: 4282356.0000 - val_mean_absolute_error: 1635.9546 - val_root_mean_squared_error: 2069.3855\n",
            "Epoch 50/100\n",
            "390/390 [==============================] - 1s 3ms/step - loss: 37336796.0000 - mean_absolute_error: 4366.4116 - root_mean_squared_error: 6110.3843 - val_loss: 4706792.0000 - val_mean_absolute_error: 1739.9457 - val_root_mean_squared_error: 2169.5142\n",
            "Epoch 51/100\n",
            "390/390 [==============================] - 1s 3ms/step - loss: 37846952.0000 - mean_absolute_error: 4426.1938 - root_mean_squared_error: 6151.9878 - val_loss: 3504050.2500 - val_mean_absolute_error: 1437.2456 - val_root_mean_squared_error: 1871.9109\n",
            "Epoch 52/100\n",
            "390/390 [==============================] - 2s 6ms/step - loss: 37508548.0000 - mean_absolute_error: 4381.1953 - root_mean_squared_error: 6124.4224 - val_loss: 3534479.2500 - val_mean_absolute_error: 1462.0498 - val_root_mean_squared_error: 1880.0211\n",
            "Epoch 53/100\n",
            "390/390 [==============================] - 2s 4ms/step - loss: 37904940.0000 - mean_absolute_error: 4400.9678 - root_mean_squared_error: 6156.6987 - val_loss: 2768007.7500 - val_mean_absolute_error: 1259.4530 - val_root_mean_squared_error: 1663.7330\n",
            "Epoch 54/100\n",
            "390/390 [==============================] - 2s 5ms/step - loss: 37111164.0000 - mean_absolute_error: 4355.5977 - root_mean_squared_error: 6091.8931 - val_loss: 4726541.5000 - val_mean_absolute_error: 1735.5087 - val_root_mean_squared_error: 2174.0610\n",
            "Epoch 55/100\n",
            "390/390 [==============================] - 2s 5ms/step - loss: 37096416.0000 - mean_absolute_error: 4387.8228 - root_mean_squared_error: 6090.6826 - val_loss: 4085526.5000 - val_mean_absolute_error: 1592.8538 - val_root_mean_squared_error: 2021.2686\n",
            "Epoch 56/100\n",
            "390/390 [==============================] - 1s 3ms/step - loss: 37754636.0000 - mean_absolute_error: 4374.6465 - root_mean_squared_error: 6144.4800 - val_loss: 2534162.5000 - val_mean_absolute_error: 1188.1715 - val_root_mean_squared_error: 1591.9053\n",
            "Epoch 57/100\n",
            "390/390 [==============================] - 1s 3ms/step - loss: 36811740.0000 - mean_absolute_error: 4348.0190 - root_mean_squared_error: 6067.2681 - val_loss: 2550039.5000 - val_mean_absolute_error: 1199.3859 - val_root_mean_squared_error: 1596.8843\n",
            "Epoch 58/100\n",
            "390/390 [==============================] - 1s 3ms/step - loss: 36794428.0000 - mean_absolute_error: 4359.6846 - root_mean_squared_error: 6065.8413 - val_loss: 2358821.5000 - val_mean_absolute_error: 1148.0891 - val_root_mean_squared_error: 1535.8456\n",
            "Epoch 59/100\n",
            "390/390 [==============================] - 1s 3ms/step - loss: 37529608.0000 - mean_absolute_error: 4394.0464 - root_mean_squared_error: 6126.1416 - val_loss: 3608798.5000 - val_mean_absolute_error: 1499.6968 - val_root_mean_squared_error: 1899.6838\n",
            "Epoch 60/100\n",
            "390/390 [==============================] - 2s 5ms/step - loss: 38236340.0000 - mean_absolute_error: 4405.7871 - root_mean_squared_error: 6183.5542 - val_loss: 2370154.5000 - val_mean_absolute_error: 1155.8429 - val_root_mean_squared_error: 1539.5306\n",
            "Epoch 61/100\n",
            "390/390 [==============================] - 2s 5ms/step - loss: 37808876.0000 - mean_absolute_error: 4411.6709 - root_mean_squared_error: 6148.8921 - val_loss: 4979523.5000 - val_mean_absolute_error: 1800.6288 - val_root_mean_squared_error: 2231.4846\n",
            "Epoch 62/100\n",
            "390/390 [==============================] - 1s 3ms/step - loss: 37058496.0000 - mean_absolute_error: 4368.1763 - root_mean_squared_error: 6087.5688 - val_loss: 2734307.2500 - val_mean_absolute_error: 1273.6163 - val_root_mean_squared_error: 1653.5741\n",
            "Epoch 63/100\n",
            "390/390 [==============================] - 1s 3ms/step - loss: 38629096.0000 - mean_absolute_error: 4438.0195 - root_mean_squared_error: 6215.2310 - val_loss: 3448679.2500 - val_mean_absolute_error: 1428.2466 - val_root_mean_squared_error: 1857.0620\n",
            "Epoch 64/100\n",
            "390/390 [==============================] - 1s 3ms/step - loss: 36572508.0000 - mean_absolute_error: 4314.3452 - root_mean_squared_error: 6047.5210 - val_loss: 3466003.5000 - val_mean_absolute_error: 1435.8295 - val_root_mean_squared_error: 1861.7206\n",
            "Epoch 65/100\n",
            "390/390 [==============================] - 1s 3ms/step - loss: 37178992.0000 - mean_absolute_error: 4394.0459 - root_mean_squared_error: 6097.4580 - val_loss: 3356312.0000 - val_mean_absolute_error: 1420.3517 - val_root_mean_squared_error: 1832.0240\n",
            "Epoch 66/100\n",
            "390/390 [==============================] - 1s 3ms/step - loss: 37758776.0000 - mean_absolute_error: 4409.2490 - root_mean_squared_error: 6144.8169 - val_loss: 4053670.7500 - val_mean_absolute_error: 1603.8408 - val_root_mean_squared_error: 2013.3729\n",
            "Epoch 67/100\n",
            "390/390 [==============================] - 1s 3ms/step - loss: 37059136.0000 - mean_absolute_error: 4368.6021 - root_mean_squared_error: 6087.6216 - val_loss: 4403714.5000 - val_mean_absolute_error: 1678.2058 - val_root_mean_squared_error: 2098.5029\n",
            "Epoch 68/100\n",
            "390/390 [==============================] - 1s 3ms/step - loss: 37397156.0000 - mean_absolute_error: 4369.4146 - root_mean_squared_error: 6115.3213 - val_loss: 3570005.7500 - val_mean_absolute_error: 1460.4963 - val_root_mean_squared_error: 1889.4459\n",
            "Epoch 69/100\n",
            "390/390 [==============================] - 2s 5ms/step - loss: 37861324.0000 - mean_absolute_error: 4448.8940 - root_mean_squared_error: 6153.1558 - val_loss: 4279021.0000 - val_mean_absolute_error: 1644.3341 - val_root_mean_squared_error: 2068.5793\n",
            "Epoch 70/100\n",
            "390/390 [==============================] - 2s 6ms/step - loss: 38697520.0000 - mean_absolute_error: 4433.1846 - root_mean_squared_error: 6220.7329 - val_loss: 2477196.7500 - val_mean_absolute_error: 1183.8199 - val_root_mean_squared_error: 1573.9113\n",
            "Epoch 71/100\n",
            "390/390 [==============================] - 1s 3ms/step - loss: 37429660.0000 - mean_absolute_error: 4381.4014 - root_mean_squared_error: 6117.9785 - val_loss: 2522954.0000 - val_mean_absolute_error: 1210.0814 - val_root_mean_squared_error: 1588.3810\n",
            "Epoch 72/100\n",
            "390/390 [==============================] - 1s 4ms/step - loss: 37017440.0000 - mean_absolute_error: 4379.9722 - root_mean_squared_error: 6084.1958 - val_loss: 2944250.0000 - val_mean_absolute_error: 1318.9199 - val_root_mean_squared_error: 1715.8817\n",
            "Epoch 73/100\n",
            "390/390 [==============================] - 1s 4ms/step - loss: 36932292.0000 - mean_absolute_error: 4375.0142 - root_mean_squared_error: 6077.1943 - val_loss: 3305602.2500 - val_mean_absolute_error: 1391.6664 - val_root_mean_squared_error: 1818.1315\n",
            "Epoch 74/100\n",
            "390/390 [==============================] - 1s 4ms/step - loss: 37458128.0000 - mean_absolute_error: 4370.4644 - root_mean_squared_error: 6120.3047 - val_loss: 3259772.0000 - val_mean_absolute_error: 1401.7310 - val_root_mean_squared_error: 1805.4839\n",
            "Epoch 75/100\n",
            "390/390 [==============================] - 1s 4ms/step - loss: 36482064.0000 - mean_absolute_error: 4334.5977 - root_mean_squared_error: 6040.0386 - val_loss: 3031973.5000 - val_mean_absolute_error: 1339.4950 - val_root_mean_squared_error: 1741.2563\n",
            "Epoch 76/100\n",
            "390/390 [==============================] - 1s 3ms/step - loss: 37455060.0000 - mean_absolute_error: 4407.6196 - root_mean_squared_error: 6120.0537 - val_loss: 3719507.2500 - val_mean_absolute_error: 1534.7058 - val_root_mean_squared_error: 1928.6024\n",
            "Epoch 77/100\n",
            "390/390 [==============================] - 1s 3ms/step - loss: 37531012.0000 - mean_absolute_error: 4392.7725 - root_mean_squared_error: 6126.2559 - val_loss: 2656695.0000 - val_mean_absolute_error: 1257.0786 - val_root_mean_squared_error: 1629.9371\n",
            "Epoch 78/100\n",
            "390/390 [==============================] - 2s 4ms/step - loss: 36417652.0000 - mean_absolute_error: 4316.0596 - root_mean_squared_error: 6034.7041 - val_loss: 3078554.0000 - val_mean_absolute_error: 1360.8590 - val_root_mean_squared_error: 1754.5808\n",
            "Epoch 79/100\n",
            "390/390 [==============================] - 2s 5ms/step - loss: 37786452.0000 - mean_absolute_error: 4412.9653 - root_mean_squared_error: 6147.0684 - val_loss: 3301538.2500 - val_mean_absolute_error: 1416.2743 - val_root_mean_squared_error: 1817.0135\n",
            "Epoch 80/100\n",
            "390/390 [==============================] - 1s 3ms/step - loss: 38725988.0000 - mean_absolute_error: 4427.2476 - root_mean_squared_error: 6223.0210 - val_loss: 2569787.0000 - val_mean_absolute_error: 1225.3495 - val_root_mean_squared_error: 1603.0555\n",
            "Epoch 81/100\n",
            "390/390 [==============================] - 1s 3ms/step - loss: 37033224.0000 - mean_absolute_error: 4350.8506 - root_mean_squared_error: 6085.4927 - val_loss: 3643176.2500 - val_mean_absolute_error: 1484.5645 - val_root_mean_squared_error: 1908.7106\n",
            "Epoch 82/100\n",
            "390/390 [==============================] - 1s 3ms/step - loss: 37600360.0000 - mean_absolute_error: 4363.2642 - root_mean_squared_error: 6131.9131 - val_loss: 3268017.5000 - val_mean_absolute_error: 1404.9089 - val_root_mean_squared_error: 1807.7659\n",
            "Epoch 83/100\n",
            "390/390 [==============================] - 1s 4ms/step - loss: 36966380.0000 - mean_absolute_error: 4362.4268 - root_mean_squared_error: 6079.9985 - val_loss: 3297509.2500 - val_mean_absolute_error: 1397.6946 - val_root_mean_squared_error: 1815.9045\n",
            "Epoch 84/100\n",
            "390/390 [==============================] - 1s 3ms/step - loss: 37915716.0000 - mean_absolute_error: 4386.1328 - root_mean_squared_error: 6157.5737 - val_loss: 2743098.0000 - val_mean_absolute_error: 1264.7411 - val_root_mean_squared_error: 1656.2301\n",
            "Epoch 85/100\n",
            "390/390 [==============================] - 1s 4ms/step - loss: 38070156.0000 - mean_absolute_error: 4418.0010 - root_mean_squared_error: 6170.1016 - val_loss: 2632539.7500 - val_mean_absolute_error: 1239.2706 - val_root_mean_squared_error: 1622.5104\n",
            "Epoch 86/100\n",
            "390/390 [==============================] - 1s 3ms/step - loss: 37392652.0000 - mean_absolute_error: 4383.6802 - root_mean_squared_error: 6114.9531 - val_loss: 4234273.0000 - val_mean_absolute_error: 1636.2490 - val_root_mean_squared_error: 2057.7349\n",
            "Epoch 87/100\n",
            "390/390 [==============================] - 2s 5ms/step - loss: 37636184.0000 - mean_absolute_error: 4377.1230 - root_mean_squared_error: 6134.8335 - val_loss: 3428290.7500 - val_mean_absolute_error: 1435.1080 - val_root_mean_squared_error: 1851.5645\n",
            "Epoch 88/100\n",
            "390/390 [==============================] - 2s 5ms/step - loss: 36928856.0000 - mean_absolute_error: 4333.8931 - root_mean_squared_error: 6076.9116 - val_loss: 3078633.2500 - val_mean_absolute_error: 1362.7926 - val_root_mean_squared_error: 1754.6034\n",
            "Epoch 89/100\n",
            "390/390 [==============================] - 2s 4ms/step - loss: 37491732.0000 - mean_absolute_error: 4366.5332 - root_mean_squared_error: 6123.0493 - val_loss: 3140992.7500 - val_mean_absolute_error: 1370.6685 - val_root_mean_squared_error: 1772.2847\n",
            "Epoch 90/100\n",
            "390/390 [==============================] - 1s 3ms/step - loss: 37896132.0000 - mean_absolute_error: 4391.6348 - root_mean_squared_error: 6155.9834 - val_loss: 3385718.5000 - val_mean_absolute_error: 1436.3167 - val_root_mean_squared_error: 1840.0322\n",
            "Epoch 91/100\n",
            "390/390 [==============================] - 1s 3ms/step - loss: 36719064.0000 - mean_absolute_error: 4361.3022 - root_mean_squared_error: 6059.6255 - val_loss: 3618906.2500 - val_mean_absolute_error: 1460.7695 - val_root_mean_squared_error: 1902.3423\n",
            "Epoch 92/100\n",
            "390/390 [==============================] - 1s 4ms/step - loss: 37601248.0000 - mean_absolute_error: 4376.1929 - root_mean_squared_error: 6131.9858 - val_loss: 2515175.5000 - val_mean_absolute_error: 1209.2716 - val_root_mean_squared_error: 1585.9305\n",
            "Epoch 93/100\n",
            "390/390 [==============================] - 1s 4ms/step - loss: 37122964.0000 - mean_absolute_error: 4382.1797 - root_mean_squared_error: 6092.8618 - val_loss: 2503924.7500 - val_mean_absolute_error: 1202.2438 - val_root_mean_squared_error: 1582.3795\n",
            "Epoch 94/100\n",
            "390/390 [==============================] - 1s 3ms/step - loss: 39062012.0000 - mean_absolute_error: 4448.8750 - root_mean_squared_error: 6249.9609 - val_loss: 2636617.0000 - val_mean_absolute_error: 1233.6204 - val_root_mean_squared_error: 1623.7664\n",
            "Epoch 95/100\n",
            "390/390 [==============================] - 1s 3ms/step - loss: 36462004.0000 - mean_absolute_error: 4343.0698 - root_mean_squared_error: 6038.3774 - val_loss: 4063704.7500 - val_mean_absolute_error: 1591.3215 - val_root_mean_squared_error: 2015.8633\n",
            "Epoch 96/100\n",
            "390/390 [==============================] - 2s 4ms/step - loss: 36976672.0000 - mean_absolute_error: 4367.5620 - root_mean_squared_error: 6080.8447 - val_loss: 3010217.5000 - val_mean_absolute_error: 1333.5973 - val_root_mean_squared_error: 1734.9978\n",
            "Epoch 97/100\n",
            "390/390 [==============================] - 2s 5ms/step - loss: 37066248.0000 - mean_absolute_error: 4368.5894 - root_mean_squared_error: 6088.2056 - val_loss: 4193322.7500 - val_mean_absolute_error: 1621.8297 - val_root_mean_squared_error: 2047.7604\n",
            "Epoch 98/100\n",
            "390/390 [==============================] - 2s 4ms/step - loss: 37209468.0000 - mean_absolute_error: 4359.5640 - root_mean_squared_error: 6099.9565 - val_loss: 3917577.2500 - val_mean_absolute_error: 1617.4829 - val_root_mean_squared_error: 1979.2871\n",
            "Epoch 99/100\n",
            "390/390 [==============================] - 1s 4ms/step - loss: 36981780.0000 - mean_absolute_error: 4365.0220 - root_mean_squared_error: 6081.2646 - val_loss: 2822189.7500 - val_mean_absolute_error: 1282.4187 - val_root_mean_squared_error: 1679.9374\n",
            "Epoch 100/100\n",
            "390/390 [==============================] - 1s 3ms/step - loss: 36727572.0000 - mean_absolute_error: 4367.7417 - root_mean_squared_error: 6060.3276 - val_loss: 3873006.0000 - val_mean_absolute_error: 1559.6138 - val_root_mean_squared_error: 1967.9955\n"
          ]
        }
      ]
    },
    {
      "cell_type": "code",
      "source": [
        "y_t2 = model_2.predict(Xtest_tf)"
      ],
      "metadata": {
        "colab": {
          "base_uri": "https://localhost:8080/"
        },
        "id": "JwGqttVhzF08",
        "outputId": "da8ffef1-c7f9-4650-d7a8-cf3621f65138"
      },
      "execution_count": 47,
      "outputs": [
        {
          "output_type": "stream",
          "name": "stdout",
          "text": [
            "173/173 [==============================] - 0s 2ms/step\n"
          ]
        }
      ]
    },
    {
      "cell_type": "code",
      "source": [
        "# Model Sequential\n",
        "model_3 = Sequential()\n",
        "\n",
        "# Hidden layers\n",
        "model_3.add(Dense(37, input_dim = X_train_tf.shape[1], activation='relu')),\n",
        "BatchNormalization(),\n",
        "model_3.add(Dropout(.2)),\n",
        "model_3.add(Dense(25, activation='relu')),\n",
        "BatchNormalization(),\n",
        "model_3.add(Dropout(.2)),\n",
        "model_3.add(Dense(10, activation='relu')),\n",
        "BatchNormalization(),\n",
        "model_3.add(Dropout(.2)),\n",
        "\n",
        "# Output layer\n",
        "model_3.add(Dense(1, activation='linear'))\n",
        "\n",
        "# Compile the model\n",
        "model_3.compile(loss='mse', optimizer='adam', metrics=[metrics.MeanAbsoluteError(), metrics.RootMeanSquaredError()])\n",
        "\n",
        "# Fit the model\n",
        "history = model_3.fit(X_train_tf, y_train,\n",
        "                    validation_data = (X_test_tf, y_test),\n",
        "                    epochs = 100,\n",
        "                    batch_size = 32)\n"
      ],
      "metadata": {
        "colab": {
          "base_uri": "https://localhost:8080/"
        },
        "id": "-6G_5JcLx-BG",
        "outputId": "95e4ef63-adb6-479c-c1c3-29cdd738d066"
      },
      "execution_count": 48,
      "outputs": [
        {
          "output_type": "stream",
          "name": "stdout",
          "text": [
            "Epoch 1/100\n",
            "390/390 [==============================] - 4s 7ms/step - loss: 492610912.0000 - mean_absolute_error: 18893.1348 - root_mean_squared_error: 22194.8398 - val_loss: 102161408.0000 - val_mean_absolute_error: 7897.4800 - val_root_mean_squared_error: 10107.4922\n",
            "Epoch 2/100\n",
            "390/390 [==============================] - 1s 3ms/step - loss: 67489416.0000 - mean_absolute_error: 6332.5190 - root_mean_squared_error: 8215.1943 - val_loss: 27466498.0000 - val_mean_absolute_error: 4107.4136 - val_root_mean_squared_error: 5240.8491\n",
            "Epoch 3/100\n",
            "390/390 [==============================] - 1s 3ms/step - loss: 48390976.0000 - mean_absolute_error: 5339.2168 - root_mean_squared_error: 6956.3623 - val_loss: 15368646.0000 - val_mean_absolute_error: 3082.6873 - val_root_mean_squared_error: 3920.2864\n",
            "Epoch 4/100\n",
            "390/390 [==============================] - 1s 3ms/step - loss: 40673072.0000 - mean_absolute_error: 4789.8599 - root_mean_squared_error: 6377.5444 - val_loss: 9306239.0000 - val_mean_absolute_error: 2382.4536 - val_root_mean_squared_error: 3050.6128\n",
            "Epoch 5/100\n",
            "390/390 [==============================] - 1s 3ms/step - loss: 34490312.0000 - mean_absolute_error: 4324.6177 - root_mean_squared_error: 5872.8452 - val_loss: 5230257.0000 - val_mean_absolute_error: 1741.5320 - val_root_mean_squared_error: 2286.9756\n",
            "Epoch 6/100\n",
            "390/390 [==============================] - 1s 3ms/step - loss: 31679790.0000 - mean_absolute_error: 4119.6377 - root_mean_squared_error: 5628.4805 - val_loss: 3128257.7500 - val_mean_absolute_error: 1307.8867 - val_root_mean_squared_error: 1768.6881\n",
            "Epoch 7/100\n",
            "390/390 [==============================] - 1s 3ms/step - loss: 32051600.0000 - mean_absolute_error: 4090.4944 - root_mean_squared_error: 5661.4131 - val_loss: 3268919.7500 - val_mean_absolute_error: 1345.6235 - val_root_mean_squared_error: 1808.0154\n",
            "Epoch 8/100\n",
            "390/390 [==============================] - 1s 4ms/step - loss: 31217468.0000 - mean_absolute_error: 4023.5845 - root_mean_squared_error: 5587.2593 - val_loss: 3819606.7500 - val_mean_absolute_error: 1501.5830 - val_root_mean_squared_error: 1954.3815\n",
            "Epoch 9/100\n",
            "390/390 [==============================] - 2s 4ms/step - loss: 30777984.0000 - mean_absolute_error: 4032.7178 - root_mean_squared_error: 5547.7910 - val_loss: 3155891.5000 - val_mean_absolute_error: 1347.8463 - val_root_mean_squared_error: 1776.4829\n",
            "Epoch 10/100\n",
            "390/390 [==============================] - 2s 5ms/step - loss: 31378372.0000 - mean_absolute_error: 4055.4426 - root_mean_squared_error: 5601.6401 - val_loss: 2652117.2500 - val_mean_absolute_error: 1219.6250 - val_root_mean_squared_error: 1628.5322\n",
            "Epoch 11/100\n",
            "390/390 [==============================] - 1s 3ms/step - loss: 31042324.0000 - mean_absolute_error: 4007.8210 - root_mean_squared_error: 5571.5640 - val_loss: 2823210.5000 - val_mean_absolute_error: 1269.3940 - val_root_mean_squared_error: 1680.2412\n",
            "Epoch 12/100\n",
            "390/390 [==============================] - 1s 3ms/step - loss: 31286334.0000 - mean_absolute_error: 4053.9248 - root_mean_squared_error: 5593.4189 - val_loss: 3962309.0000 - val_mean_absolute_error: 1542.3290 - val_root_mean_squared_error: 1990.5549\n",
            "Epoch 13/100\n",
            "390/390 [==============================] - 1s 3ms/step - loss: 31346190.0000 - mean_absolute_error: 4052.0583 - root_mean_squared_error: 5598.7666 - val_loss: 2542409.5000 - val_mean_absolute_error: 1198.2345 - val_root_mean_squared_error: 1594.4935\n",
            "Epoch 14/100\n",
            "390/390 [==============================] - 1s 3ms/step - loss: 31519456.0000 - mean_absolute_error: 4051.3403 - root_mean_squared_error: 5614.2192 - val_loss: 2753932.0000 - val_mean_absolute_error: 1251.6306 - val_root_mean_squared_error: 1659.4976\n",
            "Epoch 15/100\n",
            "390/390 [==============================] - 1s 3ms/step - loss: 31015660.0000 - mean_absolute_error: 4012.6013 - root_mean_squared_error: 5569.1704 - val_loss: 3817147.0000 - val_mean_absolute_error: 1513.7168 - val_root_mean_squared_error: 1953.7521\n",
            "Epoch 16/100\n",
            "390/390 [==============================] - 1s 3ms/step - loss: 31120092.0000 - mean_absolute_error: 4030.4067 - root_mean_squared_error: 5578.5386 - val_loss: 2846328.0000 - val_mean_absolute_error: 1276.8406 - val_root_mean_squared_error: 1687.1064\n",
            "Epoch 17/100\n",
            "390/390 [==============================] - 1s 3ms/step - loss: 30930626.0000 - mean_absolute_error: 4017.7104 - root_mean_squared_error: 5561.5308 - val_loss: 2009192.1250 - val_mean_absolute_error: 1064.5752 - val_root_mean_squared_error: 1417.4597\n",
            "Epoch 18/100\n",
            "390/390 [==============================] - 1s 3ms/step - loss: 31591820.0000 - mean_absolute_error: 4042.6465 - root_mean_squared_error: 5620.6602 - val_loss: 2858487.2500 - val_mean_absolute_error: 1281.0928 - val_root_mean_squared_error: 1690.7062\n",
            "Epoch 19/100\n",
            "390/390 [==============================] - 2s 6ms/step - loss: 31731570.0000 - mean_absolute_error: 4048.7493 - root_mean_squared_error: 5633.0781 - val_loss: 3494721.5000 - val_mean_absolute_error: 1452.3566 - val_root_mean_squared_error: 1869.4175\n",
            "Epoch 20/100\n",
            "390/390 [==============================] - 2s 4ms/step - loss: 31089464.0000 - mean_absolute_error: 4024.4990 - root_mean_squared_error: 5575.7925 - val_loss: 3158935.2500 - val_mean_absolute_error: 1350.5059 - val_root_mean_squared_error: 1777.3394\n",
            "Epoch 21/100\n",
            "390/390 [==============================] - 1s 3ms/step - loss: 31250556.0000 - mean_absolute_error: 4027.4338 - root_mean_squared_error: 5590.2197 - val_loss: 2544574.7500 - val_mean_absolute_error: 1206.7230 - val_root_mean_squared_error: 1595.1724\n",
            "Epoch 22/100\n",
            "390/390 [==============================] - 1s 3ms/step - loss: 31098538.0000 - mean_absolute_error: 4018.7141 - root_mean_squared_error: 5576.6064 - val_loss: 2545290.0000 - val_mean_absolute_error: 1200.8943 - val_root_mean_squared_error: 1595.3965\n",
            "Epoch 23/100\n",
            "390/390 [==============================] - 1s 3ms/step - loss: 30429710.0000 - mean_absolute_error: 3986.6990 - root_mean_squared_error: 5516.3130 - val_loss: 3184058.2500 - val_mean_absolute_error: 1351.1893 - val_root_mean_squared_error: 1784.3929\n",
            "Epoch 24/100\n",
            "390/390 [==============================] - 1s 3ms/step - loss: 30930544.0000 - mean_absolute_error: 4009.0879 - root_mean_squared_error: 5561.5234 - val_loss: 2208820.0000 - val_mean_absolute_error: 1103.9468 - val_root_mean_squared_error: 1486.2100\n",
            "Epoch 25/100\n",
            "390/390 [==============================] - 1s 3ms/step - loss: 32134470.0000 - mean_absolute_error: 4081.2107 - root_mean_squared_error: 5668.7275 - val_loss: 3469839.0000 - val_mean_absolute_error: 1432.0378 - val_root_mean_squared_error: 1862.7504\n",
            "Epoch 26/100\n",
            "390/390 [==============================] - 1s 4ms/step - loss: 31201522.0000 - mean_absolute_error: 4020.1064 - root_mean_squared_error: 5585.8320 - val_loss: 2278759.2500 - val_mean_absolute_error: 1130.2195 - val_root_mean_squared_error: 1509.5560\n",
            "Epoch 27/100\n",
            "390/390 [==============================] - 1s 4ms/step - loss: 30972424.0000 - mean_absolute_error: 4011.3018 - root_mean_squared_error: 5565.2876 - val_loss: 3333172.5000 - val_mean_absolute_error: 1404.7985 - val_root_mean_squared_error: 1825.6978\n",
            "Epoch 28/100\n",
            "390/390 [==============================] - 2s 5ms/step - loss: 31187948.0000 - mean_absolute_error: 4025.1934 - root_mean_squared_error: 5584.6172 - val_loss: 2803915.5000 - val_mean_absolute_error: 1271.9457 - val_root_mean_squared_error: 1674.4896\n",
            "Epoch 29/100\n",
            "390/390 [==============================] - 2s 6ms/step - loss: 32020346.0000 - mean_absolute_error: 4055.9253 - root_mean_squared_error: 5658.6523 - val_loss: 2518992.5000 - val_mean_absolute_error: 1192.6737 - val_root_mean_squared_error: 1587.1334\n",
            "Epoch 30/100\n",
            "390/390 [==============================] - 1s 3ms/step - loss: 31214148.0000 - mean_absolute_error: 4036.3032 - root_mean_squared_error: 5586.9624 - val_loss: 2125193.7500 - val_mean_absolute_error: 1076.6553 - val_root_mean_squared_error: 1457.8044\n",
            "Epoch 31/100\n",
            "390/390 [==============================] - 1s 4ms/step - loss: 30941854.0000 - mean_absolute_error: 4029.7712 - root_mean_squared_error: 5562.5400 - val_loss: 2760831.0000 - val_mean_absolute_error: 1257.8781 - val_root_mean_squared_error: 1661.5748\n",
            "Epoch 32/100\n",
            "390/390 [==============================] - 1s 4ms/step - loss: 31505096.0000 - mean_absolute_error: 4059.4275 - root_mean_squared_error: 5612.9399 - val_loss: 2506926.2500 - val_mean_absolute_error: 1171.6990 - val_root_mean_squared_error: 1583.3276\n",
            "Epoch 33/100\n",
            "390/390 [==============================] - 1s 4ms/step - loss: 31092152.0000 - mean_absolute_error: 4014.9924 - root_mean_squared_error: 5576.0337 - val_loss: 2703201.5000 - val_mean_absolute_error: 1242.4739 - val_root_mean_squared_error: 1644.1416\n",
            "Epoch 34/100\n",
            "390/390 [==============================] - 1s 3ms/step - loss: 30474630.0000 - mean_absolute_error: 3995.2283 - root_mean_squared_error: 5520.3833 - val_loss: 2901431.5000 - val_mean_absolute_error: 1274.6791 - val_root_mean_squared_error: 1703.3589\n",
            "Epoch 35/100\n",
            "390/390 [==============================] - 1s 3ms/step - loss: 31286728.0000 - mean_absolute_error: 4033.1228 - root_mean_squared_error: 5593.4541 - val_loss: 3495385.2500 - val_mean_absolute_error: 1455.0690 - val_root_mean_squared_error: 1869.5950\n",
            "Epoch 36/100\n",
            "390/390 [==============================] - 2s 4ms/step - loss: 31723058.0000 - mean_absolute_error: 4038.9475 - root_mean_squared_error: 5632.3228 - val_loss: 2825924.7500 - val_mean_absolute_error: 1265.7109 - val_root_mean_squared_error: 1681.0487\n",
            "Epoch 37/100\n",
            "390/390 [==============================] - 3s 7ms/step - loss: 30379466.0000 - mean_absolute_error: 3980.0635 - root_mean_squared_error: 5511.7568 - val_loss: 2184274.0000 - val_mean_absolute_error: 1107.7301 - val_root_mean_squared_error: 1477.9290\n",
            "Epoch 38/100\n",
            "390/390 [==============================] - 3s 7ms/step - loss: 30682656.0000 - mean_absolute_error: 3987.3853 - root_mean_squared_error: 5539.1929 - val_loss: 2756520.7500 - val_mean_absolute_error: 1237.6222 - val_root_mean_squared_error: 1660.2773\n",
            "Epoch 39/100\n",
            "390/390 [==============================] - 2s 4ms/step - loss: 30637092.0000 - mean_absolute_error: 4024.8376 - root_mean_squared_error: 5535.0781 - val_loss: 3847613.2500 - val_mean_absolute_error: 1524.4572 - val_root_mean_squared_error: 1961.5334\n",
            "Epoch 40/100\n",
            "390/390 [==============================] - 2s 4ms/step - loss: 30284472.0000 - mean_absolute_error: 3966.8499 - root_mean_squared_error: 5503.1328 - val_loss: 3261113.0000 - val_mean_absolute_error: 1400.4215 - val_root_mean_squared_error: 1805.8552\n",
            "Epoch 41/100\n",
            "390/390 [==============================] - 2s 4ms/step - loss: 30741754.0000 - mean_absolute_error: 3994.5979 - root_mean_squared_error: 5544.5249 - val_loss: 2921031.0000 - val_mean_absolute_error: 1300.6265 - val_root_mean_squared_error: 1709.1024\n",
            "Epoch 42/100\n",
            "390/390 [==============================] - 1s 3ms/step - loss: 30979520.0000 - mean_absolute_error: 4014.8562 - root_mean_squared_error: 5565.9248 - val_loss: 3274064.2500 - val_mean_absolute_error: 1385.0112 - val_root_mean_squared_error: 1809.4375\n",
            "Epoch 43/100\n",
            "390/390 [==============================] - 1s 4ms/step - loss: 30742948.0000 - mean_absolute_error: 4000.1001 - root_mean_squared_error: 5544.6323 - val_loss: 3169130.7500 - val_mean_absolute_error: 1366.1143 - val_root_mean_squared_error: 1780.2052\n",
            "Epoch 44/100\n",
            "390/390 [==============================] - 1s 4ms/step - loss: 30737814.0000 - mean_absolute_error: 3970.3718 - root_mean_squared_error: 5544.1694 - val_loss: 2912941.0000 - val_mean_absolute_error: 1311.4076 - val_root_mean_squared_error: 1706.7340\n",
            "Epoch 45/100\n",
            "390/390 [==============================] - 2s 4ms/step - loss: 29802192.0000 - mean_absolute_error: 3950.8792 - root_mean_squared_error: 5459.1382 - val_loss: 3163272.5000 - val_mean_absolute_error: 1374.2402 - val_root_mean_squared_error: 1778.5591\n",
            "Epoch 46/100\n",
            "390/390 [==============================] - 3s 7ms/step - loss: 30844628.0000 - mean_absolute_error: 4025.8743 - root_mean_squared_error: 5553.7939 - val_loss: 2826121.0000 - val_mean_absolute_error: 1272.9928 - val_root_mean_squared_error: 1681.1071\n",
            "Epoch 47/100\n",
            "390/390 [==============================] - 2s 4ms/step - loss: 30920502.0000 - mean_absolute_error: 4015.9028 - root_mean_squared_error: 5560.6206 - val_loss: 3312017.2500 - val_mean_absolute_error: 1408.7673 - val_root_mean_squared_error: 1819.8949\n",
            "Epoch 48/100\n",
            "390/390 [==============================] - 2s 4ms/step - loss: 30500846.0000 - mean_absolute_error: 4002.8062 - root_mean_squared_error: 5522.7573 - val_loss: 3042490.2500 - val_mean_absolute_error: 1354.0659 - val_root_mean_squared_error: 1744.2736\n",
            "Epoch 49/100\n",
            "390/390 [==============================] - 2s 4ms/step - loss: 30616948.0000 - mean_absolute_error: 3993.3542 - root_mean_squared_error: 5533.2583 - val_loss: 2186279.7500 - val_mean_absolute_error: 1097.9991 - val_root_mean_squared_error: 1478.6074\n",
            "Epoch 50/100\n",
            "390/390 [==============================] - 2s 4ms/step - loss: 31744192.0000 - mean_absolute_error: 4030.7019 - root_mean_squared_error: 5634.1982 - val_loss: 2654221.2500 - val_mean_absolute_error: 1233.0688 - val_root_mean_squared_error: 1629.1781\n",
            "Epoch 51/100\n",
            "390/390 [==============================] - 2s 5ms/step - loss: 30538248.0000 - mean_absolute_error: 3971.0417 - root_mean_squared_error: 5526.1421 - val_loss: 3276816.0000 - val_mean_absolute_error: 1393.2454 - val_root_mean_squared_error: 1810.1978\n",
            "Epoch 52/100\n",
            "390/390 [==============================] - 2s 6ms/step - loss: 31018840.0000 - mean_absolute_error: 4010.9648 - root_mean_squared_error: 5569.4561 - val_loss: 2893510.0000 - val_mean_absolute_error: 1305.5392 - val_root_mean_squared_error: 1701.0320\n",
            "Epoch 53/100\n",
            "390/390 [==============================] - 3s 7ms/step - loss: 31277086.0000 - mean_absolute_error: 4009.8687 - root_mean_squared_error: 5592.5923 - val_loss: 2689555.0000 - val_mean_absolute_error: 1260.4471 - val_root_mean_squared_error: 1639.9863\n",
            "Epoch 54/100\n",
            "390/390 [==============================] - 1s 4ms/step - loss: 31224908.0000 - mean_absolute_error: 4021.4832 - root_mean_squared_error: 5587.9253 - val_loss: 2178326.0000 - val_mean_absolute_error: 1091.4493 - val_root_mean_squared_error: 1475.9153\n",
            "Epoch 55/100\n",
            "390/390 [==============================] - 1s 4ms/step - loss: 31627870.0000 - mean_absolute_error: 4048.5911 - root_mean_squared_error: 5623.8662 - val_loss: 1884592.8750 - val_mean_absolute_error: 1030.4633 - val_root_mean_squared_error: 1372.8047\n",
            "Epoch 56/100\n",
            "390/390 [==============================] - 1s 4ms/step - loss: 30993096.0000 - mean_absolute_error: 4002.2058 - root_mean_squared_error: 5567.1445 - val_loss: 2882278.0000 - val_mean_absolute_error: 1291.5217 - val_root_mean_squared_error: 1697.7273\n",
            "Epoch 57/100\n",
            "390/390 [==============================] - 1s 4ms/step - loss: 30393860.0000 - mean_absolute_error: 3963.1475 - root_mean_squared_error: 5513.0625 - val_loss: 2988891.5000 - val_mean_absolute_error: 1318.4714 - val_root_mean_squared_error: 1728.8411\n",
            "Epoch 58/100\n",
            "390/390 [==============================] - 2s 4ms/step - loss: 30303198.0000 - mean_absolute_error: 3963.9646 - root_mean_squared_error: 5504.8340 - val_loss: 2031988.2500 - val_mean_absolute_error: 1053.3461 - val_root_mean_squared_error: 1425.4783\n",
            "Epoch 59/100\n",
            "390/390 [==============================] - 2s 4ms/step - loss: 30422528.0000 - mean_absolute_error: 3973.9426 - root_mean_squared_error: 5515.6621 - val_loss: 2976345.7500 - val_mean_absolute_error: 1321.9116 - val_root_mean_squared_error: 1725.2089\n",
            "Epoch 60/100\n",
            "390/390 [==============================] - 2s 5ms/step - loss: 31205096.0000 - mean_absolute_error: 4003.7891 - root_mean_squared_error: 5586.1523 - val_loss: 2999039.5000 - val_mean_absolute_error: 1319.5637 - val_root_mean_squared_error: 1731.7736\n",
            "Epoch 61/100\n",
            "390/390 [==============================] - 2s 6ms/step - loss: 30742460.0000 - mean_absolute_error: 3968.3296 - root_mean_squared_error: 5544.5884 - val_loss: 2049997.2500 - val_mean_absolute_error: 1054.5378 - val_root_mean_squared_error: 1431.7811\n",
            "Epoch 62/100\n",
            "390/390 [==============================] - 2s 4ms/step - loss: 30994646.0000 - mean_absolute_error: 3993.5044 - root_mean_squared_error: 5567.2837 - val_loss: 3633000.7500 - val_mean_absolute_error: 1465.0698 - val_root_mean_squared_error: 1906.0432\n",
            "Epoch 63/100\n",
            "390/390 [==============================] - 2s 4ms/step - loss: 30759230.0000 - mean_absolute_error: 3974.1230 - root_mean_squared_error: 5546.1006 - val_loss: 1963507.5000 - val_mean_absolute_error: 1036.9629 - val_root_mean_squared_error: 1401.2521\n",
            "Epoch 64/100\n",
            "390/390 [==============================] - 2s 4ms/step - loss: 30986560.0000 - mean_absolute_error: 4001.7769 - root_mean_squared_error: 5566.5571 - val_loss: 2457497.5000 - val_mean_absolute_error: 1163.7493 - val_root_mean_squared_error: 1567.6407\n",
            "Epoch 65/100\n",
            "390/390 [==============================] - 2s 4ms/step - loss: 30719738.0000 - mean_absolute_error: 3966.5630 - root_mean_squared_error: 5542.5391 - val_loss: 3411757.7500 - val_mean_absolute_error: 1401.0320 - val_root_mean_squared_error: 1847.0944\n",
            "Epoch 66/100\n",
            "390/390 [==============================] - 2s 4ms/step - loss: 30988176.0000 - mean_absolute_error: 4008.8455 - root_mean_squared_error: 5566.7026 - val_loss: 3200228.7500 - val_mean_absolute_error: 1376.1631 - val_root_mean_squared_error: 1788.9183\n",
            "Epoch 67/100\n",
            "390/390 [==============================] - 2s 4ms/step - loss: 32006128.0000 - mean_absolute_error: 4041.5430 - root_mean_squared_error: 5657.3960 - val_loss: 2191526.7500 - val_mean_absolute_error: 1101.9620 - val_root_mean_squared_error: 1480.3806\n",
            "Epoch 68/100\n",
            "390/390 [==============================] - 3s 7ms/step - loss: 31130770.0000 - mean_absolute_error: 4002.8511 - root_mean_squared_error: 5579.4956 - val_loss: 2408660.2500 - val_mean_absolute_error: 1176.2070 - val_root_mean_squared_error: 1551.9860\n",
            "Epoch 69/100\n",
            "390/390 [==============================] - 2s 5ms/step - loss: 31251916.0000 - mean_absolute_error: 4020.4500 - root_mean_squared_error: 5590.3413 - val_loss: 2577503.2500 - val_mean_absolute_error: 1207.6735 - val_root_mean_squared_error: 1605.4604\n",
            "Epoch 70/100\n",
            "390/390 [==============================] - 1s 4ms/step - loss: 29941418.0000 - mean_absolute_error: 3936.3889 - root_mean_squared_error: 5471.8750 - val_loss: 1987731.5000 - val_mean_absolute_error: 1038.4542 - val_root_mean_squared_error: 1409.8693\n",
            "Epoch 71/100\n",
            "390/390 [==============================] - 2s 4ms/step - loss: 30722498.0000 - mean_absolute_error: 3969.3381 - root_mean_squared_error: 5542.7881 - val_loss: 3052812.2500 - val_mean_absolute_error: 1352.8311 - val_root_mean_squared_error: 1747.2299\n",
            "Epoch 72/100\n",
            "390/390 [==============================] - 2s 4ms/step - loss: 31717610.0000 - mean_absolute_error: 4064.6294 - root_mean_squared_error: 5631.8389 - val_loss: 3204984.2500 - val_mean_absolute_error: 1396.9958 - val_root_mean_squared_error: 1790.2469\n",
            "Epoch 73/100\n",
            "390/390 [==============================] - 1s 4ms/step - loss: 31083180.0000 - mean_absolute_error: 4000.6594 - root_mean_squared_error: 5575.2290 - val_loss: 1999629.5000 - val_mean_absolute_error: 1062.3011 - val_root_mean_squared_error: 1414.0825\n",
            "Epoch 74/100\n",
            "390/390 [==============================] - 2s 4ms/step - loss: 30762722.0000 - mean_absolute_error: 3968.4600 - root_mean_squared_error: 5546.4150 - val_loss: 2658264.5000 - val_mean_absolute_error: 1264.5393 - val_root_mean_squared_error: 1630.4185\n",
            "Epoch 75/100\n",
            "390/390 [==============================] - 2s 4ms/step - loss: 31595626.0000 - mean_absolute_error: 4039.6436 - root_mean_squared_error: 5620.9985 - val_loss: 2561080.2500 - val_mean_absolute_error: 1218.3833 - val_root_mean_squared_error: 1600.3375\n",
            "Epoch 76/100\n",
            "390/390 [==============================] - 3s 7ms/step - loss: 30807232.0000 - mean_absolute_error: 3979.7334 - root_mean_squared_error: 5550.4263 - val_loss: 2126019.7500 - val_mean_absolute_error: 1083.8932 - val_root_mean_squared_error: 1458.0876\n",
            "Epoch 77/100\n",
            "390/390 [==============================] - 2s 4ms/step - loss: 30196160.0000 - mean_absolute_error: 3931.7246 - root_mean_squared_error: 5495.1035 - val_loss: 2540834.0000 - val_mean_absolute_error: 1195.0530 - val_root_mean_squared_error: 1593.9994\n",
            "Epoch 78/100\n",
            "390/390 [==============================] - 2s 4ms/step - loss: 31472708.0000 - mean_absolute_error: 3993.6340 - root_mean_squared_error: 5610.0542 - val_loss: 2945006.7500 - val_mean_absolute_error: 1309.6541 - val_root_mean_squared_error: 1716.1022\n",
            "Epoch 79/100\n",
            "390/390 [==============================] - 1s 4ms/step - loss: 30404548.0000 - mean_absolute_error: 3965.6848 - root_mean_squared_error: 5514.0317 - val_loss: 2237024.2500 - val_mean_absolute_error: 1138.6522 - val_root_mean_squared_error: 1495.6685\n",
            "Epoch 80/100\n",
            "390/390 [==============================] - 1s 3ms/step - loss: 29477652.0000 - mean_absolute_error: 3911.2271 - root_mean_squared_error: 5429.3325 - val_loss: 2580695.5000 - val_mean_absolute_error: 1216.6313 - val_root_mean_squared_error: 1606.4543\n",
            "Epoch 81/100\n",
            "390/390 [==============================] - 1s 3ms/step - loss: 31347272.0000 - mean_absolute_error: 4013.3525 - root_mean_squared_error: 5598.8633 - val_loss: 3426644.0000 - val_mean_absolute_error: 1427.2169 - val_root_mean_squared_error: 1851.1196\n",
            "Epoch 82/100\n",
            "390/390 [==============================] - 1s 3ms/step - loss: 31045984.0000 - mean_absolute_error: 3980.6182 - root_mean_squared_error: 5571.8921 - val_loss: 2011982.6250 - val_mean_absolute_error: 1070.1479 - val_root_mean_squared_error: 1418.4437\n",
            "Epoch 83/100\n",
            "390/390 [==============================] - 1s 3ms/step - loss: 30520870.0000 - mean_absolute_error: 3938.3086 - root_mean_squared_error: 5524.5698 - val_loss: 2654418.2500 - val_mean_absolute_error: 1230.7416 - val_root_mean_squared_error: 1629.2385\n",
            "Epoch 84/100\n",
            "390/390 [==============================] - 2s 5ms/step - loss: 30281494.0000 - mean_absolute_error: 3962.6274 - root_mean_squared_error: 5502.8623 - val_loss: 1669318.8750 - val_mean_absolute_error: 966.0421 - val_root_mean_squared_error: 1292.0212\n",
            "Epoch 85/100\n",
            "390/390 [==============================] - 2s 5ms/step - loss: 30657786.0000 - mean_absolute_error: 3959.1174 - root_mean_squared_error: 5536.9473 - val_loss: 3267515.2500 - val_mean_absolute_error: 1416.0653 - val_root_mean_squared_error: 1807.6270\n",
            "Epoch 86/100\n",
            "390/390 [==============================] - 1s 4ms/step - loss: 30717034.0000 - mean_absolute_error: 3984.5105 - root_mean_squared_error: 5542.2949 - val_loss: 2327215.2500 - val_mean_absolute_error: 1143.1121 - val_root_mean_squared_error: 1525.5214\n",
            "Epoch 87/100\n",
            "390/390 [==============================] - 1s 3ms/step - loss: 30823608.0000 - mean_absolute_error: 4001.1975 - root_mean_squared_error: 5551.9014 - val_loss: 2548866.0000 - val_mean_absolute_error: 1216.6246 - val_root_mean_squared_error: 1596.5168\n",
            "Epoch 88/100\n",
            "390/390 [==============================] - 1s 4ms/step - loss: 30744596.0000 - mean_absolute_error: 3982.6506 - root_mean_squared_error: 5544.7808 - val_loss: 2320452.5000 - val_mean_absolute_error: 1166.9116 - val_root_mean_squared_error: 1523.3031\n",
            "Epoch 89/100\n",
            "390/390 [==============================] - 1s 3ms/step - loss: 30542140.0000 - mean_absolute_error: 3954.5771 - root_mean_squared_error: 5526.4941 - val_loss: 2290498.7500 - val_mean_absolute_error: 1140.8724 - val_root_mean_squared_error: 1513.4393\n",
            "Epoch 90/100\n",
            "390/390 [==============================] - 1s 4ms/step - loss: 29684432.0000 - mean_absolute_error: 3922.2126 - root_mean_squared_error: 5448.3423 - val_loss: 1835789.1250 - val_mean_absolute_error: 1013.5880 - val_root_mean_squared_error: 1354.9130\n",
            "Epoch 91/100\n",
            "390/390 [==============================] - 2s 5ms/step - loss: 30580996.0000 - mean_absolute_error: 3976.4487 - root_mean_squared_error: 5530.0088 - val_loss: 1994581.8750 - val_mean_absolute_error: 1067.2263 - val_root_mean_squared_error: 1412.2966\n",
            "Epoch 92/100\n",
            "390/390 [==============================] - 3s 7ms/step - loss: 30705950.0000 - mean_absolute_error: 3961.6248 - root_mean_squared_error: 5541.2949 - val_loss: 3083942.2500 - val_mean_absolute_error: 1351.2577 - val_root_mean_squared_error: 1756.1157\n",
            "Epoch 93/100\n",
            "390/390 [==============================] - 3s 7ms/step - loss: 30131186.0000 - mean_absolute_error: 3949.0735 - root_mean_squared_error: 5489.1880 - val_loss: 2353717.5000 - val_mean_absolute_error: 1153.6465 - val_root_mean_squared_error: 1534.1830\n",
            "Epoch 94/100\n",
            "390/390 [==============================] - 1s 3ms/step - loss: 30855876.0000 - mean_absolute_error: 3966.8669 - root_mean_squared_error: 5554.8066 - val_loss: 3251538.5000 - val_mean_absolute_error: 1434.0778 - val_root_mean_squared_error: 1803.2023\n",
            "Epoch 95/100\n",
            "390/390 [==============================] - 1s 4ms/step - loss: 29854786.0000 - mean_absolute_error: 3933.4341 - root_mean_squared_error: 5463.9531 - val_loss: 2464203.0000 - val_mean_absolute_error: 1204.2054 - val_root_mean_squared_error: 1569.7780\n",
            "Epoch 96/100\n",
            "390/390 [==============================] - 2s 4ms/step - loss: 30179548.0000 - mean_absolute_error: 3933.9136 - root_mean_squared_error: 5493.5913 - val_loss: 2056956.7500 - val_mean_absolute_error: 1086.2577 - val_root_mean_squared_error: 1434.2095\n",
            "Epoch 97/100\n",
            "390/390 [==============================] - 2s 4ms/step - loss: 29334788.0000 - mean_absolute_error: 3894.8596 - root_mean_squared_error: 5416.1597 - val_loss: 2786453.5000 - val_mean_absolute_error: 1288.7412 - val_root_mean_squared_error: 1669.2673\n",
            "Epoch 98/100\n",
            "390/390 [==============================] - 2s 4ms/step - loss: 30430796.0000 - mean_absolute_error: 3966.8484 - root_mean_squared_error: 5516.4116 - val_loss: 1964365.8750 - val_mean_absolute_error: 1063.0767 - val_root_mean_squared_error: 1401.5583\n",
            "Epoch 99/100\n",
            "390/390 [==============================] - 2s 4ms/step - loss: 30537500.0000 - mean_absolute_error: 3993.4189 - root_mean_squared_error: 5526.0747 - val_loss: 2786199.2500 - val_mean_absolute_error: 1283.2145 - val_root_mean_squared_error: 1669.1912\n",
            "Epoch 100/100\n",
            "390/390 [==============================] - 2s 5ms/step - loss: 31112620.0000 - mean_absolute_error: 4000.8320 - root_mean_squared_error: 5577.8687 - val_loss: 2231421.5000 - val_mean_absolute_error: 1121.7538 - val_root_mean_squared_error: 1493.7943\n"
          ]
        }
      ]
    },
    {
      "cell_type": "code",
      "source": [
        "y_t3 = model_3.predict(Xtest_tf)"
      ],
      "metadata": {
        "colab": {
          "base_uri": "https://localhost:8080/"
        },
        "id": "h0AJkA23yqPp",
        "outputId": "504a50d7-5b15-47af-dcdc-4a5be1901a4f"
      },
      "execution_count": 49,
      "outputs": [
        {
          "output_type": "stream",
          "name": "stdout",
          "text": [
            "173/173 [==============================] - 0s 2ms/step\n"
          ]
        }
      ]
    },
    {
      "cell_type": "code",
      "source": [
        "import tensorflow as tf"
      ],
      "metadata": {
        "id": "HQAbFlbU8AxM"
      },
      "execution_count": 50,
      "outputs": []
    },
    {
      "cell_type": "code",
      "source": [
        "def display_metrics(y_true, y_pred, model_name):\n",
        "    mae = mean_absolute_error(y_true, y_pred)\n",
        "    mse = mean_squared_error(y_true, y_pred)\n",
        "    rmse = np.sqrt(mean_squared_error(y_true, y_pred))\n",
        "    r2 = r2_score(y_true, y_pred)\n",
        "\n",
        "    print(f'Model: {model_name}')\n",
        "    print(f'MAE: {mae:.2f}')\n",
        "    print(f'MSE: {mse:.2f}')\n",
        "    print(f'RMSE: {rmse:.2f}')\n",
        "    print(f'R2-Score: {r2:.2f}')\n",
        "    print()\n",
        "\n",
        "print('Training set')\n",
        "# Assuming y_test is a pandas Series\n",
        "y_train_array = y_train.values.reshape(-1, 1)\n",
        "# Predict probabilities for each model\n",
        "ytr_pred_v1 = model_1.predict(X_train_tf).reshape(-1, 1)\n",
        "ytr_pred_v2 = model_2.predict(X_train_tf).reshape(-1, 1)\n",
        "ytr_pred_v3 = model_3.predict(X_train_tf).reshape(-1, 1)\n",
        "# Display metrics for each model\n",
        "y_train_array = tf.convert_to_tensor(value=y_train_array, dtype='float32')\n",
        "display_metrics(y_train_array, ytr_pred_v1, 'Model v1')\n",
        "display_metrics(y_train_array, ytr_pred_v2, 'Model v2')\n",
        "display_metrics(y_train_array, ytr_pred_v3, 'Model v3')\n",
        "\n",
        "print('Sample Testing set')\n",
        "# Assuming y_test is a pandas Series\n",
        "y_test_array = y_test.values.reshape(-1, 1)\n",
        "# Predict probabilities for each model\n",
        "yts_pred_v1 = model_1.predict(X_test_tf).reshape(-1, 1)\n",
        "yts_pred_v2 = model_2.predict(X_test_tf).reshape(-1, 1)\n",
        "yts_pred_v3 = model_3.predict(X_test_tf).reshape(-1, 1)\n",
        "# Display metrics for each model\n",
        "y_test_array = tf.convert_to_tensor(value=y_test_array, dtype='float32')\n",
        "display_metrics(y_test_array, yts_pred_v1, 'Model v1')\n",
        "display_metrics(y_test_array, yts_pred_v2, 'Model v2')\n",
        "display_metrics(y_test_array, yts_pred_v3, 'Model v3')\n",
        "\n",
        "\n",
        "y_pred_train_1 = model_1.predict(X_train_tf)\n",
        "y_pred_test_1 = model_1.predict(X_test_tf)\n",
        "y_t = model_1.predict(Xtest_tf)"
      ],
      "metadata": {
        "colab": {
          "base_uri": "https://localhost:8080/"
        },
        "id": "ZLagiE0GziRX",
        "outputId": "7fe18a2d-ad24-4ecd-fcbf-28b29ada80a6"
      },
      "execution_count": 51,
      "outputs": [
        {
          "output_type": "stream",
          "name": "stdout",
          "text": [
            "Training set\n",
            "390/390 [==============================] - 1s 2ms/step\n",
            "390/390 [==============================] - 1s 2ms/step\n",
            "390/390 [==============================] - 1s 2ms/step\n",
            "Model: Model v1\n",
            "MAE: 696.56\n",
            "MSE: 822439.44\n",
            "RMSE: 906.88\n",
            "R2-Score: 0.99\n",
            "\n",
            "Model: Model v2\n",
            "MAE: 1585.24\n",
            "MSE: 3918373.00\n",
            "RMSE: 1979.49\n",
            "R2-Score: 0.97\n",
            "\n",
            "Model: Model v3\n",
            "MAE: 1128.46\n",
            "MSE: 2205216.00\n",
            "RMSE: 1485.00\n",
            "R2-Score: 0.98\n",
            "\n",
            "Sample Testing set\n",
            "130/130 [==============================] - 0s 2ms/step\n",
            "130/130 [==============================] - 0s 2ms/step\n",
            "130/130 [==============================] - 0s 1ms/step\n",
            "Model: Model v1\n",
            "MAE: 721.73\n",
            "MSE: 923234.06\n",
            "RMSE: 960.85\n",
            "R2-Score: 0.99\n",
            "\n",
            "Model: Model v2\n",
            "MAE: 1559.61\n",
            "MSE: 3873005.75\n",
            "RMSE: 1968.00\n",
            "R2-Score: 0.97\n",
            "\n",
            "Model: Model v3\n",
            "MAE: 1121.75\n",
            "MSE: 2231420.75\n",
            "RMSE: 1493.79\n",
            "R2-Score: 0.98\n",
            "\n"
          ]
        }
      ]
    },
    {
      "cell_type": "code",
      "source": [
        "import matplotlib.pyplot as plt"
      ],
      "metadata": {
        "id": "Wa7F0jHXQrlF"
      },
      "execution_count": 52,
      "outputs": []
    },
    {
      "cell_type": "code",
      "source": [
        "\n",
        "plt.figure(figsize=(8,8))\n",
        "plt.scatter(y_train, lr_train_preds,color = 'yellow')\n",
        "plt.xlabel(\"Actual Product Weight\")\n",
        "plt.ylabel(\"Predicted Product Weight\")\n",
        "plt.title(\"Actual vs. Predicted Product Weight\")\n",
        "plt.show()"
      ],
      "metadata": {
        "colab": {
          "base_uri": "https://localhost:8080/",
          "height": 718
        },
        "id": "9ZfH5MEtzucc",
        "outputId": "d2a77bb2-2270-4961-8aab-e8a0abfe74bf"
      },
      "execution_count": 55,
      "outputs": [
        {
          "output_type": "display_data",
          "data": {
            "text/plain": [
              "<Figure size 800x800 with 1 Axes>"
            ],
            "image/png": "[encoded data removed]"
          },
          "metadata": {}
        }
      ]
    },
    {
      "cell_type": "code",
      "source": [],
      "metadata": {
        "id": "fxdMvzvWHUId"
      },
      "execution_count": 53,
      "outputs": []
    }
  ]
}