{
  "nbformat": 4,
  "nbformat_minor": 0,
  "metadata": {
    "colab": {
      "provenance": []
    },
    "kernelspec": {
      "name": "python3",
      "display_name": "Python 3"
    },
    "language_info": {
      "name": "python"
    }
  },
  "cells": [
    {
      "cell_type": "markdown",
      "source": [],
      "metadata": {
        "id": "Plg-WQVFiNoA"
      }
    },
    {
      "cell_type": "code",
      "source": [
        "import pandas as pd\n",
        "import numpy as np\n",
        "import matplotlib.pyplot as plt\n",
        "import seaborn as sns\n",
        "from sklearn.impute import SimpleImputer\n",
        "from sklearn.compose import make_column_selector, make_column_transformer\n",
        "from sklearn.model_selection import train_test_split, GridSearchCV\n",
        "from sklearn.preprocessing import StandardScaler, OneHotEncoder\n",
        "from sklearn.pipeline import make_pipeline\n",
        "from sklearn.linear_model import LinearRegression\n",
        "from sklearn.metrics import mean_absolute_error, mean_squared_error, r2_score\n",
        "from sklearn.tree import DecisionTreeRegressor\n",
        "from sklearn.ensemble import RandomForestRegressor, GradientBoostingRegressor\n",
        "from xgboost import XGBRegressor\n",
        "from tensorflow.keras.models import Sequential\n",
        "from tensorflow.keras.layers import Dense, Dropout, BatchNormalization\n",
        "from tensorflow.keras import metrics"
      ],
      "metadata": {
        "id": "cBTOz5PJifuX"
      },
      "execution_count": 4,
      "outputs": []
    },
    {
      "cell_type": "code",
      "source": [
        "df = pd.read_csv('/content/drive/MyDrive/supply_train.csv')\n",
        "test = pd.read_csv('/content/drive/MyDrive/supply_test.csv')"
      ],
      "metadata": {
        "id": "iBm02olNiI4p"
      },
      "execution_count": 5,
      "outputs": []
    },
    {
      "cell_type": "code",
      "source": [
        "df.shape"
      ],
      "metadata": {
        "colab": {
          "base_uri": "https://localhost:8080/"
        },
        "id": "e_yZ_vshiOsk",
        "outputId": "b8a2d5aa-54a1-43ca-fa78-bf0af2f582b8"
      },
      "execution_count": 6,
      "outputs": [
        {
          "output_type": "execute_result",
          "data": {
            "text/plain": [
              "(16620, 25)"
            ]
          },
          "metadata": {},
          "execution_count": 6
        }
      ]
    },
    {
      "cell_type": "code",
      "source": [
        "test.shape"
      ],
      "metadata": {
        "colab": {
          "base_uri": "https://localhost:8080/"
        },
        "id": "sJbSaElEjQdm",
        "outputId": "e891b025-f52f-4264-a6aa-da94f1091156"
      },
      "execution_count": 7,
      "outputs": [
        {
          "output_type": "execute_result",
          "data": {
            "text/plain": [
              "(5529, 25)"
            ]
          },
          "metadata": {},
          "execution_count": 7
        }
      ]
    },
    {
      "cell_type": "code",
      "source": [
        "df = df.drop(columns = ['Unnamed: 0','Ware_house_ID', 'WH_Manager_ID'])"
      ],
      "metadata": {
        "id": "7Xr5E_jujSES"
      },
      "execution_count": 8,
      "outputs": []
    },
    {
      "cell_type": "code",
      "source": [
        "test = test.drop(columns = ['Unnamed: 0','Ware_house_ID', 'WH_Manager_ID'])"
      ],
      "metadata": {
        "id": "W-0irPuOjZTy"
      },
      "execution_count": 9,
      "outputs": []
    },
    {
      "cell_type": "code",
      "source": [
        "df.shape"
      ],
      "metadata": {
        "colab": {
          "base_uri": "https://localhost:8080/"
        },
        "id": "m6JOeiwRjcoi",
        "outputId": "dfcc406f-b066-417d-cfd2-b2f460996382"
      },
      "execution_count": 10,
      "outputs": [
        {
          "output_type": "execute_result",
          "data": {
            "text/plain": [
              "(16620, 22)"
            ]
          },
          "metadata": {},
          "execution_count": 10
        }
      ]
    },
    {
      "cell_type": "code",
      "source": [
        "test.shape"
      ],
      "metadata": {
        "colab": {
          "base_uri": "https://localhost:8080/"
        },
        "id": "K84qT8BFjedW",
        "outputId": "a254a26f-74e1-41f2-b351-2fea1839e617"
      },
      "execution_count": 11,
      "outputs": [
        {
          "output_type": "execute_result",
          "data": {
            "text/plain": [
              "(5529, 22)"
            ]
          },
          "metadata": {},
          "execution_count": 11
        }
      ]
    },
    {
      "cell_type": "code",
      "source": [
        "df.duplicated().sum()\n",
        "test.duplicated().sum()"
      ],
      "metadata": {
        "colab": {
          "base_uri": "https://localhost:8080/"
        },
        "id": "f9tYo2Nljf54",
        "outputId": "01fdbf79-008e-44f1-df67-71ef049bf15d"
      },
      "execution_count": 12,
      "outputs": [
        {
          "output_type": "execute_result",
          "data": {
            "text/plain": [
              "0"
            ]
          },
          "metadata": {},
          "execution_count": 12
        }
      ]
    },
    {
      "cell_type": "code",
      "source": [
        "df.isna().sum()\n",
        "print(\"----\")\n",
        "test.isna().sum()"
      ],
      "metadata": {
        "colab": {
          "base_uri": "https://localhost:8080/"
        },
        "id": "8ZfYaLlAjjOw",
        "outputId": "6d1569d0-129c-45e8-f8d3-765bd8ac5773"
      },
      "execution_count": 13,
      "outputs": [
        {
          "output_type": "stream",
          "name": "stdout",
          "text": [
            "----\n"
          ]
        },
        {
          "output_type": "execute_result",
          "data": {
            "text/plain": [
              "Location_type                      0\n",
              "WH_capacity_size                   0\n",
              "zone                               0\n",
              "WH_regional_zone                   0\n",
              "num_refill_req_l3m                 0\n",
              "transport_issue_l1y                0\n",
              "Competitor_in_mkt                  0\n",
              "retail_shop_num                    0\n",
              "wh_owner_type                      0\n",
              "distributor_num                    0\n",
              "flood_impacted                     0\n",
              "flood_proof                        0\n",
              "electric_supply                    0\n",
              "dist_from_hub                      0\n",
              "workers_num                      210\n",
              "wh_est_year                     2685\n",
              "storage_issue_reported_l3m         0\n",
              "temp_reg_mach                      0\n",
              "approved_wh_govt_certificate     206\n",
              "wh_breakdown_l3m                   0\n",
              "govt_check_l3m                     0\n",
              "product_wg_ton                     0\n",
              "dtype: int64"
            ]
          },
          "metadata": {},
          "execution_count": 13
        }
      ]
    },
    {
      "cell_type": "code",
      "source": [
        "df.isna().sum()"
      ],
      "metadata": {
        "colab": {
          "base_uri": "https://localhost:8080/"
        },
        "id": "P5ZwL3Uujr9a",
        "outputId": "17ef25c6-f67d-4fc0-ec01-aea73fc5064d"
      },
      "execution_count": 14,
      "outputs": [
        {
          "output_type": "execute_result",
          "data": {
            "text/plain": [
              "Location_type                      0\n",
              "WH_capacity_size                   0\n",
              "zone                               0\n",
              "WH_regional_zone                   0\n",
              "num_refill_req_l3m                 0\n",
              "transport_issue_l1y                0\n",
              "Competitor_in_mkt                  0\n",
              "retail_shop_num                    0\n",
              "wh_owner_type                      0\n",
              "distributor_num                    0\n",
              "flood_impacted                     0\n",
              "flood_proof                        0\n",
              "electric_supply                    0\n",
              "dist_from_hub                      0\n",
              "workers_num                      667\n",
              "wh_est_year                     7860\n",
              "storage_issue_reported_l3m         0\n",
              "temp_reg_mach                      0\n",
              "approved_wh_govt_certificate     599\n",
              "wh_breakdown_l3m                   0\n",
              "govt_check_l3m                     0\n",
              "product_wg_ton                     0\n",
              "dtype: int64"
            ]
          },
          "metadata": {},
          "execution_count": 14
        }
      ]
    },
    {
      "cell_type": "code",
      "source": [
        "test['workers_num'].fillna(value =test['workers_num'].mean(),inplace=True)"
      ],
      "metadata": {
        "id": "u-Fxj0uGj13H"
      },
      "execution_count": 15,
      "outputs": []
    },
    {
      "cell_type": "code",
      "source": [
        "df['workers_num'].fillna(value =test['workers_num'].mean(),inplace=True)"
      ],
      "metadata": {
        "id": "xXKt9oipj-yx"
      },
      "execution_count": 16,
      "outputs": []
    },
    {
      "cell_type": "code",
      "source": [
        "test['wh_est_year'].fillna(value =test['wh_est_year'].mean(),inplace=True)"
      ],
      "metadata": {
        "id": "Hm04XDcvkAmv"
      },
      "execution_count": 17,
      "outputs": []
    },
    {
      "cell_type": "code",
      "source": [
        "df['wh_est_year'].fillna(value =test['wh_est_year'].mean(),inplace=True)"
      ],
      "metadata": {
        "id": "Dteray34kFFD"
      },
      "execution_count": 18,
      "outputs": []
    },
    {
      "cell_type": "code",
      "source": [
        "test['approved_wh_govt_certificate'].value_counts()"
      ],
      "metadata": {
        "colab": {
          "base_uri": "https://localhost:8080/"
        },
        "id": "6kAxYLnCkGei",
        "outputId": "0611dd4a-243c-46d9-c730-3afc487adca4"
      },
      "execution_count": 19,
      "outputs": [
        {
          "output_type": "execute_result",
          "data": {
            "text/plain": [
              "C     1220\n",
              "B+    1061\n",
              "B     1049\n",
              "A     1026\n",
              "A+     967\n",
              "Name: approved_wh_govt_certificate, dtype: int64"
            ]
          },
          "metadata": {},
          "execution_count": 19
        }
      ]
    },
    {
      "cell_type": "code",
      "source": [
        "df['approved_wh_govt_certificate'].value_counts()"
      ],
      "metadata": {
        "colab": {
          "base_uri": "https://localhost:8080/"
        },
        "id": "s627GatOkJke",
        "outputId": "1bda3ba6-1fb7-4b4d-f943-df38038e4662"
      },
      "execution_count": 20,
      "outputs": [
        {
          "output_type": "execute_result",
          "data": {
            "text/plain": [
              "C     3638\n",
              "B+    3260\n",
              "B     3220\n",
              "A     3132\n",
              "A+    2771\n",
              "Name: approved_wh_govt_certificate, dtype: int64"
            ]
          },
          "metadata": {},
          "execution_count": 20
        }
      ]
    },
    {
      "cell_type": "code",
      "source": [
        "test['approved_wh_govt_certificate'].fillna(value='C',inplace=True)"
      ],
      "metadata": {
        "id": "gGDtjyilkLfA"
      },
      "execution_count": 21,
      "outputs": []
    },
    {
      "cell_type": "code",
      "source": [
        "df['approved_wh_govt_certificate'].fillna(value='C',inplace=True)"
      ],
      "metadata": {
        "id": "s0-SfgRLkNtZ"
      },
      "execution_count": 22,
      "outputs": []
    },
    {
      "cell_type": "code",
      "source": [
        "df.isna().sum()"
      ],
      "metadata": {
        "colab": {
          "base_uri": "https://localhost:8080/"
        },
        "id": "JtzV1UQLkO6s",
        "outputId": "f94a9a9e-7dd7-43fd-aba0-3ac6de699346"
      },
      "execution_count": 23,
      "outputs": [
        {
          "output_type": "execute_result",
          "data": {
            "text/plain": [
              "Location_type                   0\n",
              "WH_capacity_size                0\n",
              "zone                            0\n",
              "WH_regional_zone                0\n",
              "num_refill_req_l3m              0\n",
              "transport_issue_l1y             0\n",
              "Competitor_in_mkt               0\n",
              "retail_shop_num                 0\n",
              "wh_owner_type                   0\n",
              "distributor_num                 0\n",
              "flood_impacted                  0\n",
              "flood_proof                     0\n",
              "electric_supply                 0\n",
              "dist_from_hub                   0\n",
              "workers_num                     0\n",
              "wh_est_year                     0\n",
              "storage_issue_reported_l3m      0\n",
              "temp_reg_mach                   0\n",
              "approved_wh_govt_certificate    0\n",
              "wh_breakdown_l3m                0\n",
              "govt_check_l3m                  0\n",
              "product_wg_ton                  0\n",
              "dtype: int64"
            ]
          },
          "metadata": {},
          "execution_count": 23
        }
      ]
    },
    {
      "cell_type": "code",
      "source": [
        "test.isna().sum()"
      ],
      "metadata": {
        "colab": {
          "base_uri": "https://localhost:8080/"
        },
        "id": "bJ31GGTSkRf1",
        "outputId": "ae132f02-62e5-4dbb-fd3f-07e92bfa7d1d"
      },
      "execution_count": 24,
      "outputs": [
        {
          "output_type": "execute_result",
          "data": {
            "text/plain": [
              "Location_type                   0\n",
              "WH_capacity_size                0\n",
              "zone                            0\n",
              "WH_regional_zone                0\n",
              "num_refill_req_l3m              0\n",
              "transport_issue_l1y             0\n",
              "Competitor_in_mkt               0\n",
              "retail_shop_num                 0\n",
              "wh_owner_type                   0\n",
              "distributor_num                 0\n",
              "flood_impacted                  0\n",
              "flood_proof                     0\n",
              "electric_supply                 0\n",
              "dist_from_hub                   0\n",
              "workers_num                     0\n",
              "wh_est_year                     0\n",
              "storage_issue_reported_l3m      0\n",
              "temp_reg_mach                   0\n",
              "approved_wh_govt_certificate    0\n",
              "wh_breakdown_l3m                0\n",
              "govt_check_l3m                  0\n",
              "product_wg_ton                  0\n",
              "dtype: int64"
            ]
          },
          "metadata": {},
          "execution_count": 24
        }
      ]
    },
    {
      "cell_type": "code",
      "source": [
        "#Training dataset\n",
        "X = df.drop(columns='product_wg_ton')\n",
        "y = df['product_wg_ton']"
      ],
      "metadata": {
        "id": "cH4TfAbKkTA3"
      },
      "execution_count": 25,
      "outputs": []
    },
    {
      "cell_type": "code",
      "source": [
        "#Testdata\n",
        "Xt = test.drop(columns='product_wg_ton')\n",
        "yt = test['product_wg_ton']"
      ],
      "metadata": {
        "id": "2ZMRm6KzkavC"
      },
      "execution_count": 26,
      "outputs": []
    },
    {
      "cell_type": "code",
      "source": [
        "X_train, X_test, y_train, y_test = train_test_split(X, y, random_state=42)"
      ],
      "metadata": {
        "id": "ZBj2oxw6ki5w"
      },
      "execution_count": 27,
      "outputs": []
    },
    {
      "cell_type": "code",
      "source": [
        "num_cols = make_column_selector(dtype_include='number')\n",
        "cat_cols = make_column_selector(dtype_include='object')"
      ],
      "metadata": {
        "id": "R5opVuGCk11G"
      },
      "execution_count": 28,
      "outputs": []
    },
    {
      "cell_type": "code",
      "source": [
        "scaler = StandardScaler()\n",
        "ohe = OneHotEncoder()\n",
        "impute_median = SimpleImputer(strategy='median')\n",
        "impute_freq = SimpleImputer(strategy='most_frequent')"
      ],
      "metadata": {
        "id": "KUhyjZ-Rk74q"
      },
      "execution_count": 29,
      "outputs": []
    },
    {
      "cell_type": "code",
      "source": [
        "# Make pipeline\n",
        "num_pipe = make_pipeline(impute_median, scaler)\n",
        "cat_pipe = make_pipeline(impute_freq, ohe)"
      ],
      "metadata": {
        "id": "N9mzN1Crk9s_"
      },
      "execution_count": 30,
      "outputs": []
    },
    {
      "cell_type": "code",
      "source": [
        "# Set tuple\n",
        "num_tup = (num_pipe, num_cols)\n",
        "cat_tup = (cat_pipe, cat_cols)"
      ],
      "metadata": {
        "id": "wFZcL6o7k_yi"
      },
      "execution_count": 31,
      "outputs": []
    },
    {
      "cell_type": "code",
      "source": [
        "col_tf = make_column_transformer(num_tup, cat_tup, remainder='passthrough')"
      ],
      "metadata": {
        "id": "Q7TjLKpXlBXx"
      },
      "execution_count": 32,
      "outputs": []
    },
    {
      "cell_type": "code",
      "source": [
        "X_train_processed = col_tf.fit(X_train)"
      ],
      "metadata": {
        "id": "0FrKttislDQV"
      },
      "execution_count": 33,
      "outputs": []
    },
    {
      "cell_type": "code",
      "source": [
        "# Extract the feature names from one hot encoder\n",
        "cat_feature_names = col_tf.named_transformers_['pipeline-2']\\\n",
        "                              .named_steps['onehotencoder']\\\n",
        "                              .get_feature_names_out(cat_cols(X_train))\n",
        "\n",
        "cat_feature_names"
      ],
      "metadata": {
        "colab": {
          "base_uri": "https://localhost:8080/"
        },
        "id": "McTD_JeclEyB",
        "outputId": "d24cd2a7-c47a-416a-f1b4-bab0b9db6814"
      },
      "execution_count": 34,
      "outputs": [
        {
          "output_type": "execute_result",
          "data": {
            "text/plain": [
              "array(['Location_type_Rural', 'Location_type_Urban',\n",
              "       'WH_capacity_size_Large', 'WH_capacity_size_Mid',\n",
              "       'WH_capacity_size_Small', 'zone_East', 'zone_North', 'zone_South',\n",
              "       'zone_West', 'WH_regional_zone_Zone 1', 'WH_regional_zone_Zone 2',\n",
              "       'WH_regional_zone_Zone 3', 'WH_regional_zone_Zone 4',\n",
              "       'WH_regional_zone_Zone 5', 'WH_regional_zone_Zone 6',\n",
              "       'wh_owner_type_Company Owned', 'wh_owner_type_Rented',\n",
              "       'approved_wh_govt_certificate_A',\n",
              "       'approved_wh_govt_certificate_A+',\n",
              "       'approved_wh_govt_certificate_B',\n",
              "       'approved_wh_govt_certificate_B+',\n",
              "       'approved_wh_govt_certificate_C'], dtype=object)"
            ]
          },
          "metadata": {},
          "execution_count": 34
        }
      ]
    },
    {
      "cell_type": "code",
      "source": [
        "final_cols = num_cols(X_train) + list(cat_feature_names)\n",
        "final_cols"
      ],
      "metadata": {
        "colab": {
          "base_uri": "https://localhost:8080/"
        },
        "id": "EF-_j9ujlGcS",
        "outputId": "6a71a617-0946-4c4a-9f29-cd25426f4f76"
      },
      "execution_count": 35,
      "outputs": [
        {
          "output_type": "execute_result",
          "data": {
            "text/plain": [
              "['num_refill_req_l3m',\n",
              " 'transport_issue_l1y',\n",
              " 'Competitor_in_mkt',\n",
              " 'retail_shop_num',\n",
              " 'distributor_num',\n",
              " 'flood_impacted',\n",
              " 'flood_proof',\n",
              " 'electric_supply',\n",
              " 'dist_from_hub',\n",
              " 'workers_num',\n",
              " 'wh_est_year',\n",
              " 'storage_issue_reported_l3m',\n",
              " 'temp_reg_mach',\n",
              " 'wh_breakdown_l3m',\n",
              " 'govt_check_l3m',\n",
              " 'Location_type_Rural',\n",
              " 'Location_type_Urban',\n",
              " 'WH_capacity_size_Large',\n",
              " 'WH_capacity_size_Mid',\n",
              " 'WH_capacity_size_Small',\n",
              " 'zone_East',\n",
              " 'zone_North',\n",
              " 'zone_South',\n",
              " 'zone_West',\n",
              " 'WH_regional_zone_Zone 1',\n",
              " 'WH_regional_zone_Zone 2',\n",
              " 'WH_regional_zone_Zone 3',\n",
              " 'WH_regional_zone_Zone 4',\n",
              " 'WH_regional_zone_Zone 5',\n",
              " 'WH_regional_zone_Zone 6',\n",
              " 'wh_owner_type_Company Owned',\n",
              " 'wh_owner_type_Rented',\n",
              " 'approved_wh_govt_certificate_A',\n",
              " 'approved_wh_govt_certificate_A+',\n",
              " 'approved_wh_govt_certificate_B',\n",
              " 'approved_wh_govt_certificate_B+',\n",
              " 'approved_wh_govt_certificate_C']"
            ]
          },
          "metadata": {},
          "execution_count": 35
        }
      ]
    },
    {
      "cell_type": "code",
      "source": [
        "Xt_processed = col_tf.fit(Xt)"
      ],
      "metadata": {
        "id": "FPaCOxVSlIew"
      },
      "execution_count": 36,
      "outputs": []
    },
    {
      "cell_type": "code",
      "source": [
        "X_train_tf = col_tf.transform(X_train)\n",
        "X_test_tf = col_tf.transform(X_test)"
      ],
      "metadata": {
        "id": "fNtbh5-8lRcZ"
      },
      "execution_count": 37,
      "outputs": []
    },
    {
      "cell_type": "code",
      "source": [
        "Xtest_tf = col_tf.transform(Xt)"
      ],
      "metadata": {
        "id": "g7obBr4MlWjM"
      },
      "execution_count": 38,
      "outputs": []
    },
    {
      "cell_type": "code",
      "source": [
        "X_train_output = pd.DataFrame(X_train_tf, columns = final_cols)\n",
        "X_test_output = pd.DataFrame(X_test_tf, columns = final_cols)"
      ],
      "metadata": {
        "id": "ENS8muEOlYUM"
      },
      "execution_count": 39,
      "outputs": []
    },
    {
      "cell_type": "code",
      "source": [
        "def eval_model(true, pred):\n",
        "  mae = mean_absolute_error(true, pred)\n",
        "  mse = mean_squared_error(true, pred)\n",
        "  rmse = np.sqrt(mse)\n",
        "  r2 = r2_score(true, pred)\n",
        "  # print the results\n",
        "  rmse\n",
        "  print(f' MAE: {mae:.2f} \\n MSE: {mse:.2f} \\n RMSE: {rmse:.2f} \\n R2_score: {r2:.2f}')"
      ],
      "metadata": {
        "id": "rb_DYMFHlbTr"
      },
      "execution_count": 40,
      "outputs": []
    },
    {
      "cell_type": "code",
      "source": [
        "lr = LinearRegression()"
      ],
      "metadata": {
        "id": "mBgczjuWld4M"
      },
      "execution_count": 41,
      "outputs": []
    },
    {
      "cell_type": "code",
      "source": [
        "lr.fit(X_train_tf, y_train)"
      ],
      "metadata": {
        "colab": {
          "base_uri": "https://localhost:8080/",
          "height": 74
        },
        "id": "fxY-RRvGlgLe",
        "outputId": "bc6d716d-3355-4a89-f746-ae2e12f66f4c"
      },
      "execution_count": 42,
      "outputs": [
        {
          "output_type": "execute_result",
          "data": {
            "text/plain": [
              "LinearRegression()"
            ],
            "text/html": [
              "<style>#sk-container-id-1 {color: black;background-color: white;}#sk-container-id-1 pre{padding: 0;}#sk-container-id-1 div.sk-toggleable {background-color: white;}#sk-container-id-1 label.sk-toggleable__label {cursor: pointer;display: block;width: 100%;margin-bottom: 0;padding: 0.3em;box-sizing: border-box;text-align: center;}#sk-container-id-1 label.sk-toggleable__label-arrow:before {content: \"▸\";float: left;margin-right: 0.25em;color: #696969;}#sk-container-id-1 label.sk-toggleable__label-arrow:hover:before {color: black;}#sk-container-id-1 div.sk-estimator:hover label.sk-toggleable__label-arrow:before {color: black;}#sk-container-id-1 div.sk-toggleable__content {max-height: 0;max-width: 0;overflow: hidden;text-align: left;background-color: #f0f8ff;}#sk-container-id-1 div.sk-toggleable__content pre {margin: 0.2em;color: black;border-radius: 0.25em;background-color: #f0f8ff;}#sk-container-id-1 input.sk-toggleable__control:checked~div.sk-toggleable__content {max-height: 200px;max-width: 100%;overflow: auto;}#sk-container-id-1 input.sk-toggleable__control:checked~label.sk-toggleable__label-arrow:before {content: \"▾\";}#sk-container-id-1 div.sk-estimator input.sk-toggleable__control:checked~label.sk-toggleable__label {background-color: #d4ebff;}#sk-container-id-1 div.sk-label input.sk-toggleable__control:checked~label.sk-toggleable__label {background-color: #d4ebff;}#sk-container-id-1 input.sk-hidden--visually {border: 0;clip: rect(1px 1px 1px 1px);clip: rect(1px, 1px, 1px, 1px);height: 1px;margin: -1px;overflow: hidden;padding: 0;position: absolute;width: 1px;}#sk-container-id-1 div.sk-estimator {font-family: monospace;background-color: #f0f8ff;border: 1px dotted black;border-radius: 0.25em;box-sizing: border-box;margin-bottom: 0.5em;}#sk-container-id-1 div.sk-estimator:hover {background-color: #d4ebff;}#sk-container-id-1 div.sk-parallel-item::after {content: \"\";width: 100%;border-bottom: 1px solid gray;flex-grow: 1;}#sk-container-id-1 div.sk-label:hover label.sk-toggleable__label {background-color: #d4ebff;}#sk-container-id-1 div.sk-serial::before {content: \"\";position: absolute;border-left: 1px solid gray;box-sizing: border-box;top: 0;bottom: 0;left: 50%;z-index: 0;}#sk-container-id-1 div.sk-serial {display: flex;flex-direction: column;align-items: center;background-color: white;padding-right: 0.2em;padding-left: 0.2em;position: relative;}#sk-container-id-1 div.sk-item {position: relative;z-index: 1;}#sk-container-id-1 div.sk-parallel {display: flex;align-items: stretch;justify-content: center;background-color: white;position: relative;}#sk-container-id-1 div.sk-item::before, #sk-container-id-1 div.sk-parallel-item::before {content: \"\";position: absolute;border-left: 1px solid gray;box-sizing: border-box;top: 0;bottom: 0;left: 50%;z-index: -1;}#sk-container-id-1 div.sk-parallel-item {display: flex;flex-direction: column;z-index: 1;position: relative;background-color: white;}#sk-container-id-1 div.sk-parallel-item:first-child::after {align-self: flex-end;width: 50%;}#sk-container-id-1 div.sk-parallel-item:last-child::after {align-self: flex-start;width: 50%;}#sk-container-id-1 div.sk-parallel-item:only-child::after {width: 0;}#sk-container-id-1 div.sk-dashed-wrapped {border: 1px dashed gray;margin: 0 0.4em 0.5em 0.4em;box-sizing: border-box;padding-bottom: 0.4em;background-color: white;}#sk-container-id-1 div.sk-label label {font-family: monospace;font-weight: bold;display: inline-block;line-height: 1.2em;}#sk-container-id-1 div.sk-label-container {text-align: center;}#sk-container-id-1 div.sk-container {/* jupyter's `normalize.less` sets `[hidden] { display: none; }` but bootstrap.min.css set `[hidden] { display: none !important; }` so we also need the `!important` here to be able to override the default hidden behavior on the sphinx rendered scikit-learn.org. See: https://github.com/scikit-learn/scikit-learn/issues/21755 */display: inline-block !important;position: relative;}#sk-container-id-1 div.sk-text-repr-fallback {display: none;}</style><div id=\"sk-container-id-1\" class=\"sk-top-container\"><div class=\"sk-text-repr-fallback\"><pre>LinearRegression()</pre><b>In a Jupyter environment, please rerun this cell to show the HTML representation or trust the notebook. <br />On GitHub, the HTML representation is unable to render, please try loading this page with nbviewer.org.</b></div><div class=\"sk-container\" hidden><div class=\"sk-item\"><div class=\"sk-estimator sk-toggleable\"><input class=\"sk-toggleable__control sk-hidden--visually\" id=\"sk-estimator-id-1\" type=\"checkbox\" checked><label for=\"sk-estimator-id-1\" class=\"sk-toggleable__label sk-toggleable__label-arrow\">LinearRegression</label><div class=\"sk-toggleable__content\"><pre>LinearRegression()</pre></div></div></div></div></div>"
            ]
          },
          "metadata": {},
          "execution_count": 42
        }
      ]
    },
    {
      "cell_type": "code",
      "source": [
        "lr_train_preds = lr.predict(X_train_tf)\n",
        "lr_test_preds = lr.predict(X_test_tf)\n",
        "lr_test_p =lr.predict(Xtest_tf)\n",
        "Xtest_tf.dtype.names"
      ],
      "metadata": {
        "id": "29yHtTfeljLN"
      },
      "execution_count": 43,
      "outputs": []
    },
    {
      "cell_type": "code",
      "source": [
        "print('Training Data')\n",
        "eval_model(y_train, lr_train_preds)\n",
        "print('\\nTesting Data')\n",
        "eval_model(y_test , lr_test_preds)\n",
        "print('\\nFor given test data')\n",
        "eval_model(yt,lr_test_p)"
      ],
      "metadata": {
        "colab": {
          "base_uri": "https://localhost:8080/"
        },
        "id": "Zdix4dUMllOx",
        "outputId": "d1b0b430-5a75-4578-e531-82426f000be9"
      },
      "execution_count": 44,
      "outputs": [
        {
          "output_type": "stream",
          "name": "stdout",
          "text": [
            "Training Data\n",
            " MAE: 1004.58 \n",
            " MSE: 1870522.86 \n",
            " RMSE: 1367.67 \n",
            " R2_score: 0.99\n",
            "\n",
            "Testing Data\n",
            " MAE: 1032.11 \n",
            " MSE: 2085307.87 \n",
            " RMSE: 1444.06 \n",
            " R2_score: 0.98\n",
            "\n",
            "For given test data\n",
            " MAE: 1007.52 \n",
            " MSE: 1900505.48 \n",
            " RMSE: 1378.59 \n",
            " R2_score: 0.99\n"
          ]
        }
      ]
    },
    {
      "cell_type": "markdown",
      "source": [
        "Random Forest"
      ],
      "metadata": {
        "id": "Sz7jYSHFv8J3"
      }
    },
    {
      "cell_type": "code",
      "source": [
        "# prompt: build random forest\n",
        "\n",
        "rf = RandomForestRegressor()\n",
        "rf.fit(X_train_tf, y_train)\n",
        "rf_train_preds = rf.predict(X_train_tf)\n",
        "rf_test_preds = rf.predict(X_test_tf)\n",
        "rf_test_p =rf.predict(Xtest_tf)\n",
        "print('Training Data')\n",
        "eval_model(y_train, rf_train_preds)\n",
        "print('\\nTesting Data')\n",
        "eval_model(y_test , rf_test_preds)\n",
        "print('\\nFor given test data')\n",
        "eval_model(yt,rf_test_p)\n"
      ],
      "metadata": {
        "colab": {
          "base_uri": "https://localhost:8080/"
        },
        "id": "Dqtt02kclr1r",
        "outputId": "9ca63547-d164-46ed-ec8b-c4be00094dac"
      },
      "execution_count": 45,
      "outputs": [
        {
          "output_type": "stream",
          "name": "stdout",
          "text": [
            "Training Data\n",
            " MAE: 252.74 \n",
            " MSE: 118826.94 \n",
            " RMSE: 344.71 \n",
            " R2_score: 1.00\n",
            "\n",
            "Testing Data\n",
            " MAE: 681.80 \n",
            " MSE: 875132.82 \n",
            " RMSE: 935.49 \n",
            " R2_score: 0.99\n",
            "\n",
            "For given test data\n",
            " MAE: 668.74 \n",
            " MSE: 815526.59 \n",
            " RMSE: 903.07 \n",
            " R2_score: 0.99\n"
          ]
        }
      ]
    },
    {
      "cell_type": "markdown",
      "source": [
        "Neural Network"
      ],
      "metadata": {
        "id": "YnOQF9ddw4--"
      }
    },
    {
      "cell_type": "code",
      "source": [
        "from keras import backend as K\n",
        "\n",
        "def r2_score(y_true, y_pred):\n",
        "    SS_res =  K.sum(K.square(y_true - y_pred))\n",
        "    SS_tot = K.sum(K.square(y_true - K.mean(y_true)))\n",
        "    return (1 - SS_res / (SS_tot + K.epsilon()))"
      ],
      "metadata": {
        "id": "Rd0jeSxuwE-5"
      },
      "execution_count": 46,
      "outputs": []
    },
    {
      "cell_type": "code",
      "source": [
        "model_1 = Sequential()\n",
        "\n",
        "# Hidden layers\n",
        "model_1.add(Dense(37, input_dim = X_train_tf.shape[1], activation='relu'))\n",
        "model_1.add(Dense(25, activation='relu'))\n",
        "model_1.add(Dense(10, activation='relu'))\n",
        "\n",
        "# Output layer\n",
        "model_1.add(Dense(1, activation='linear'))\n",
        "\n",
        "# Compile the model\n",
        "model_1.compile(loss='mse', optimizer='adam', metrics=[metrics.MeanAbsoluteError(), metrics.RootMeanSquaredError()])\n",
        "\n",
        "# Fit the model\n",
        "history = model_1.fit(X_train_tf, y_train,\n",
        "                    validation_data = (X_test_tf, y_test),\n",
        "                    epochs = 100,\n",
        "                    batch_size = 32)"
      ],
      "metadata": {
        "colab": {
          "base_uri": "https://localhost:8080/"
        },
        "id": "w9842wGKw_fy",
        "outputId": "c519ffc4-cb15-40d6-a785-0ac100bfd436"
      },
      "execution_count": 47,
      "outputs": [
        {
          "output_type": "stream",
          "name": "stdout",
          "text": [
            "Epoch 1/100\n",
            "390/390 [==============================] - 2s 3ms/step - loss: 531125248.0000 - mean_absolute_error: 19943.6582 - root_mean_squared_error: 23046.1543 - val_loss: 200542944.0000 - val_mean_absolute_error: 11397.8330 - val_root_mean_squared_error: 14161.3184\n",
            "Epoch 2/100\n",
            "390/390 [==============================] - 1s 2ms/step - loss: 55531020.0000 - mean_absolute_error: 5658.7490 - root_mean_squared_error: 7451.9141 - val_loss: 29114214.0000 - val_mean_absolute_error: 4287.3872 - val_root_mean_squared_error: 5395.7588\n",
            "Epoch 3/100\n",
            "390/390 [==============================] - 1s 2ms/step - loss: 22786062.0000 - mean_absolute_error: 3775.3699 - root_mean_squared_error: 4773.4746 - val_loss: 17198178.0000 - val_mean_absolute_error: 3290.7498 - val_root_mean_squared_error: 4147.0684\n",
            "Epoch 4/100\n",
            "390/390 [==============================] - 1s 3ms/step - loss: 12819501.0000 - mean_absolute_error: 2821.5891 - root_mean_squared_error: 3580.4331 - val_loss: 9044178.0000 - val_mean_absolute_error: 2371.5081 - val_root_mean_squared_error: 3007.3540\n",
            "Epoch 5/100\n",
            "390/390 [==============================] - 1s 4ms/step - loss: 6198593.0000 - mean_absolute_error: 1935.8923 - root_mean_squared_error: 2489.6973 - val_loss: 4110961.0000 - val_mean_absolute_error: 1573.4481 - val_root_mean_squared_error: 2027.5505\n",
            "Epoch 6/100\n",
            "390/390 [==============================] - 1s 4ms/step - loss: 2771517.5000 - mean_absolute_error: 1276.6608 - root_mean_squared_error: 1664.7875 - val_loss: 2059743.2500 - val_mean_absolute_error: 1077.7666 - val_root_mean_squared_error: 1435.1805\n",
            "Epoch 7/100\n",
            "390/390 [==============================] - 1s 3ms/step - loss: 1592687.0000 - mean_absolute_error: 960.3998 - root_mean_squared_error: 1262.0171 - val_loss: 1514615.5000 - val_mean_absolute_error: 922.5234 - val_root_mean_squared_error: 1230.6971\n",
            "Epoch 8/100\n",
            "390/390 [==============================] - 1s 2ms/step - loss: 1326487.7500 - mean_absolute_error: 883.0830 - root_mean_squared_error: 1151.7325 - val_loss: 1397981.2500 - val_mean_absolute_error: 892.7691 - val_root_mean_squared_error: 1182.3625\n",
            "Epoch 9/100\n",
            "390/390 [==============================] - 1s 2ms/step - loss: 1270586.1250 - mean_absolute_error: 871.6320 - root_mean_squared_error: 1127.2028 - val_loss: 1346450.0000 - val_mean_absolute_error: 878.3127 - val_root_mean_squared_error: 1160.3663\n",
            "Epoch 10/100\n",
            "390/390 [==============================] - 1s 2ms/step - loss: 1241328.7500 - mean_absolute_error: 865.1105 - root_mean_squared_error: 1114.1493 - val_loss: 1322175.1250 - val_mean_absolute_error: 870.4797 - val_root_mean_squared_error: 1149.8588\n",
            "Epoch 11/100\n",
            "390/390 [==============================] - 1s 3ms/step - loss: 1217917.3750 - mean_absolute_error: 859.9584 - root_mean_squared_error: 1103.5929 - val_loss: 1307981.7500 - val_mean_absolute_error: 868.0380 - val_root_mean_squared_error: 1143.6703\n",
            "Epoch 12/100\n",
            "390/390 [==============================] - 1s 2ms/step - loss: 1192021.5000 - mean_absolute_error: 850.2147 - root_mean_squared_error: 1091.7974 - val_loss: 1274265.7500 - val_mean_absolute_error: 859.5577 - val_root_mean_squared_error: 1128.8337\n",
            "Epoch 13/100\n",
            "390/390 [==============================] - 1s 2ms/step - loss: 1165215.5000 - mean_absolute_error: 840.2291 - root_mean_squared_error: 1079.4515 - val_loss: 1264443.6250 - val_mean_absolute_error: 855.0198 - val_root_mean_squared_error: 1124.4749\n",
            "Epoch 14/100\n",
            "390/390 [==============================] - 1s 2ms/step - loss: 1139912.5000 - mean_absolute_error: 830.7954 - root_mean_squared_error: 1067.6669 - val_loss: 1225600.6250 - val_mean_absolute_error: 839.1754 - val_root_mean_squared_error: 1107.0685\n",
            "Epoch 15/100\n",
            "390/390 [==============================] - 1s 2ms/step - loss: 1113770.3750 - mean_absolute_error: 820.7731 - root_mean_squared_error: 1055.3531 - val_loss: 1213351.0000 - val_mean_absolute_error: 836.6196 - val_root_mean_squared_error: 1101.5221\n",
            "Epoch 16/100\n",
            "390/390 [==============================] - 1s 3ms/step - loss: 1092115.7500 - mean_absolute_error: 813.3394 - root_mean_squared_error: 1045.0435 - val_loss: 1173222.6250 - val_mean_absolute_error: 821.6340 - val_root_mean_squared_error: 1083.1541\n",
            "Epoch 17/100\n",
            "390/390 [==============================] - 1s 4ms/step - loss: 1068981.8750 - mean_absolute_error: 804.3814 - root_mean_squared_error: 1033.9158 - val_loss: 1174512.1250 - val_mean_absolute_error: 821.7105 - val_root_mean_squared_error: 1083.7491\n",
            "Epoch 18/100\n",
            "390/390 [==============================] - 2s 4ms/step - loss: 1052894.8750 - mean_absolute_error: 799.8229 - root_mean_squared_error: 1026.1067 - val_loss: 1145245.7500 - val_mean_absolute_error: 811.6000 - val_root_mean_squared_error: 1070.1615\n",
            "Epoch 19/100\n",
            "390/390 [==============================] - 1s 3ms/step - loss: 1038975.4375 - mean_absolute_error: 794.1656 - root_mean_squared_error: 1019.3015 - val_loss: 1131707.3750 - val_mean_absolute_error: 805.0966 - val_root_mean_squared_error: 1063.8174\n",
            "Epoch 20/100\n",
            "390/390 [==============================] - 1s 2ms/step - loss: 1028178.5000 - mean_absolute_error: 789.3808 - root_mean_squared_error: 1013.9914 - val_loss: 1147667.1250 - val_mean_absolute_error: 814.2050 - val_root_mean_squared_error: 1071.2922\n",
            "Epoch 21/100\n",
            "390/390 [==============================] - 1s 2ms/step - loss: 1017528.3750 - mean_absolute_error: 785.8870 - root_mean_squared_error: 1008.7261 - val_loss: 1124001.2500 - val_mean_absolute_error: 804.4214 - val_root_mean_squared_error: 1060.1892\n",
            "Epoch 22/100\n",
            "390/390 [==============================] - 1s 3ms/step - loss: 1008236.0000 - mean_absolute_error: 781.7812 - root_mean_squared_error: 1004.1096 - val_loss: 1150225.1250 - val_mean_absolute_error: 811.7611 - val_root_mean_squared_error: 1072.4855\n",
            "Epoch 23/100\n",
            "390/390 [==============================] - 1s 2ms/step - loss: 1003810.2500 - mean_absolute_error: 779.1842 - root_mean_squared_error: 1001.9033 - val_loss: 1104272.5000 - val_mean_absolute_error: 794.5896 - val_root_mean_squared_error: 1050.8438\n",
            "Epoch 24/100\n",
            "390/390 [==============================] - 1s 3ms/step - loss: 994542.1250 - mean_absolute_error: 775.8079 - root_mean_squared_error: 997.2673 - val_loss: 1098086.3750 - val_mean_absolute_error: 790.6715 - val_root_mean_squared_error: 1047.8961\n",
            "Epoch 25/100\n",
            "390/390 [==============================] - 1s 2ms/step - loss: 985947.1875 - mean_absolute_error: 772.6389 - root_mean_squared_error: 992.9487 - val_loss: 1084074.5000 - val_mean_absolute_error: 788.7606 - val_root_mean_squared_error: 1041.1890\n",
            "Epoch 26/100\n",
            "390/390 [==============================] - 1s 3ms/step - loss: 983014.3125 - mean_absolute_error: 770.3907 - root_mean_squared_error: 991.4708 - val_loss: 1102780.8750 - val_mean_absolute_error: 799.8353 - val_root_mean_squared_error: 1050.1338\n",
            "Epoch 27/100\n",
            "390/390 [==============================] - 1s 3ms/step - loss: 983410.6875 - mean_absolute_error: 771.5022 - root_mean_squared_error: 991.6707 - val_loss: 1097415.8750 - val_mean_absolute_error: 796.5192 - val_root_mean_squared_error: 1047.5762\n",
            "Epoch 28/100\n",
            "390/390 [==============================] - 1s 2ms/step - loss: 975096.0625 - mean_absolute_error: 768.8959 - root_mean_squared_error: 987.4695 - val_loss: 1100563.8750 - val_mean_absolute_error: 794.8539 - val_root_mean_squared_error: 1049.0776\n",
            "Epoch 29/100\n",
            "390/390 [==============================] - 1s 3ms/step - loss: 974018.5000 - mean_absolute_error: 767.3733 - root_mean_squared_error: 986.9238 - val_loss: 1074122.1250 - val_mean_absolute_error: 785.2377 - val_root_mean_squared_error: 1036.3987\n",
            "Epoch 30/100\n",
            "390/390 [==============================] - 1s 4ms/step - loss: 966490.3750 - mean_absolute_error: 764.4975 - root_mean_squared_error: 983.1024 - val_loss: 1082294.7500 - val_mean_absolute_error: 787.1598 - val_root_mean_squared_error: 1040.3340\n",
            "Epoch 31/100\n",
            "390/390 [==============================] - 1s 3ms/step - loss: 966402.7500 - mean_absolute_error: 764.2457 - root_mean_squared_error: 983.0579 - val_loss: 1090408.3750 - val_mean_absolute_error: 790.2681 - val_root_mean_squared_error: 1044.2262\n",
            "Epoch 32/100\n",
            "390/390 [==============================] - 1s 3ms/step - loss: 963799.8125 - mean_absolute_error: 761.3719 - root_mean_squared_error: 981.7331 - val_loss: 1078925.6250 - val_mean_absolute_error: 785.5947 - val_root_mean_squared_error: 1038.7135\n",
            "Epoch 33/100\n",
            "390/390 [==============================] - 1s 3ms/step - loss: 960734.3125 - mean_absolute_error: 762.5602 - root_mean_squared_error: 980.1705 - val_loss: 1109451.1250 - val_mean_absolute_error: 794.5239 - val_root_mean_squared_error: 1053.3048\n",
            "Epoch 34/100\n",
            "390/390 [==============================] - 1s 3ms/step - loss: 959158.5625 - mean_absolute_error: 759.7012 - root_mean_squared_error: 979.3664 - val_loss: 1070099.5000 - val_mean_absolute_error: 781.8157 - val_root_mean_squared_error: 1034.4562\n",
            "Epoch 35/100\n",
            "390/390 [==============================] - 1s 2ms/step - loss: 953546.3125 - mean_absolute_error: 757.8641 - root_mean_squared_error: 976.4969 - val_loss: 1065566.5000 - val_mean_absolute_error: 780.3600 - val_root_mean_squared_error: 1032.2628\n",
            "Epoch 36/100\n",
            "390/390 [==============================] - 1s 2ms/step - loss: 952750.3750 - mean_absolute_error: 758.7411 - root_mean_squared_error: 976.0894 - val_loss: 1054517.7500 - val_mean_absolute_error: 777.2800 - val_root_mean_squared_error: 1026.8971\n",
            "Epoch 37/100\n",
            "390/390 [==============================] - 1s 2ms/step - loss: 948918.1875 - mean_absolute_error: 755.4372 - root_mean_squared_error: 974.1243 - val_loss: 1127946.6250 - val_mean_absolute_error: 803.2930 - val_root_mean_squared_error: 1062.0483\n",
            "Epoch 38/100\n",
            "390/390 [==============================] - 1s 2ms/step - loss: 949061.5000 - mean_absolute_error: 755.4827 - root_mean_squared_error: 974.1979 - val_loss: 1051213.0000 - val_mean_absolute_error: 774.3196 - val_root_mean_squared_error: 1025.2867\n",
            "Epoch 39/100\n",
            "390/390 [==============================] - 1s 3ms/step - loss: 950756.6875 - mean_absolute_error: 757.2297 - root_mean_squared_error: 975.0675 - val_loss: 1054272.2500 - val_mean_absolute_error: 775.0090 - val_root_mean_squared_error: 1026.7776\n",
            "Epoch 40/100\n",
            "390/390 [==============================] - 1s 2ms/step - loss: 945609.0625 - mean_absolute_error: 753.3439 - root_mean_squared_error: 972.4243 - val_loss: 1050877.5000 - val_mean_absolute_error: 778.4459 - val_root_mean_squared_error: 1025.1232\n",
            "Epoch 41/100\n",
            "390/390 [==============================] - 1s 3ms/step - loss: 947548.1250 - mean_absolute_error: 753.9913 - root_mean_squared_error: 973.4208 - val_loss: 1063220.5000 - val_mean_absolute_error: 783.2932 - val_root_mean_squared_error: 1031.1259\n",
            "Epoch 42/100\n",
            "390/390 [==============================] - 1s 4ms/step - loss: 943334.3750 - mean_absolute_error: 752.9263 - root_mean_squared_error: 971.2540 - val_loss: 1045203.4375 - val_mean_absolute_error: 774.2957 - val_root_mean_squared_error: 1022.3519\n",
            "Epoch 43/100\n",
            "390/390 [==============================] - 1s 4ms/step - loss: 941415.4375 - mean_absolute_error: 752.4212 - root_mean_squared_error: 970.2656 - val_loss: 1051762.3750 - val_mean_absolute_error: 774.9301 - val_root_mean_squared_error: 1025.5547\n",
            "Epoch 44/100\n",
            "390/390 [==============================] - 1s 2ms/step - loss: 939916.7500 - mean_absolute_error: 752.0133 - root_mean_squared_error: 969.4930 - val_loss: 1045161.4375 - val_mean_absolute_error: 774.8459 - val_root_mean_squared_error: 1022.3314\n",
            "Epoch 45/100\n",
            "390/390 [==============================] - 1s 2ms/step - loss: 940742.1875 - mean_absolute_error: 752.3276 - root_mean_squared_error: 969.9186 - val_loss: 1039723.8750 - val_mean_absolute_error: 772.8221 - val_root_mean_squared_error: 1019.6685\n",
            "Epoch 46/100\n",
            "390/390 [==============================] - 1s 2ms/step - loss: 936719.3750 - mean_absolute_error: 749.0195 - root_mean_squared_error: 967.8427 - val_loss: 1045627.9375 - val_mean_absolute_error: 776.8846 - val_root_mean_squared_error: 1022.5595\n",
            "Epoch 47/100\n",
            "390/390 [==============================] - 1s 3ms/step - loss: 937449.0625 - mean_absolute_error: 751.4738 - root_mean_squared_error: 968.2195 - val_loss: 1041583.2500 - val_mean_absolute_error: 772.4219 - val_root_mean_squared_error: 1020.5798\n",
            "Epoch 48/100\n",
            "390/390 [==============================] - 1s 3ms/step - loss: 933374.0625 - mean_absolute_error: 749.1505 - root_mean_squared_error: 966.1129 - val_loss: 1054390.1250 - val_mean_absolute_error: 773.3932 - val_root_mean_squared_error: 1026.8350\n",
            "Epoch 49/100\n",
            "390/390 [==============================] - 1s 2ms/step - loss: 934633.5625 - mean_absolute_error: 749.6663 - root_mean_squared_error: 966.7645 - val_loss: 1047162.2500 - val_mean_absolute_error: 775.6895 - val_root_mean_squared_error: 1023.3094\n",
            "Epoch 50/100\n",
            "390/390 [==============================] - 1s 2ms/step - loss: 938279.3125 - mean_absolute_error: 751.5096 - root_mean_squared_error: 968.6482 - val_loss: 1039460.4375 - val_mean_absolute_error: 770.4047 - val_root_mean_squared_error: 1019.5393\n",
            "Epoch 51/100\n",
            "390/390 [==============================] - 1s 3ms/step - loss: 937155.1250 - mean_absolute_error: 749.6490 - root_mean_squared_error: 968.0677 - val_loss: 1043309.3750 - val_mean_absolute_error: 770.5257 - val_root_mean_squared_error: 1021.4252\n",
            "Epoch 52/100\n",
            "390/390 [==============================] - 1s 2ms/step - loss: 932201.5625 - mean_absolute_error: 747.9055 - root_mean_squared_error: 965.5059 - val_loss: 1060022.6250 - val_mean_absolute_error: 782.1408 - val_root_mean_squared_error: 1029.5740\n",
            "Epoch 53/100\n",
            "390/390 [==============================] - 1s 2ms/step - loss: 929685.8750 - mean_absolute_error: 748.1072 - root_mean_squared_error: 964.2022 - val_loss: 1027662.6250 - val_mean_absolute_error: 770.1198 - val_root_mean_squared_error: 1013.7369\n",
            "Epoch 54/100\n",
            "390/390 [==============================] - 1s 3ms/step - loss: 926958.6250 - mean_absolute_error: 746.4616 - root_mean_squared_error: 962.7869 - val_loss: 1036951.4375 - val_mean_absolute_error: 774.8448 - val_root_mean_squared_error: 1018.3081\n",
            "Epoch 55/100\n",
            "390/390 [==============================] - 1s 4ms/step - loss: 931355.3125 - mean_absolute_error: 747.9342 - root_mean_squared_error: 965.0675 - val_loss: 1025845.9375 - val_mean_absolute_error: 767.9465 - val_root_mean_squared_error: 1012.8405\n",
            "Epoch 56/100\n",
            "390/390 [==============================] - 1s 4ms/step - loss: 924929.1250 - mean_absolute_error: 745.8665 - root_mean_squared_error: 961.7324 - val_loss: 1051029.8750 - val_mean_absolute_error: 771.9947 - val_root_mean_squared_error: 1025.1975\n",
            "Epoch 57/100\n",
            "390/390 [==============================] - 1s 3ms/step - loss: 927925.3750 - mean_absolute_error: 745.5142 - root_mean_squared_error: 963.2888 - val_loss: 1030462.3125 - val_mean_absolute_error: 766.4372 - val_root_mean_squared_error: 1015.1169\n",
            "Epoch 58/100\n",
            "390/390 [==============================] - 1s 3ms/step - loss: 924385.1250 - mean_absolute_error: 745.1367 - root_mean_squared_error: 961.4495 - val_loss: 1035887.0000 - val_mean_absolute_error: 772.4036 - val_root_mean_squared_error: 1017.7853\n",
            "Epoch 59/100\n",
            "390/390 [==============================] - 1s 3ms/step - loss: 925511.8125 - mean_absolute_error: 745.2855 - root_mean_squared_error: 962.0352 - val_loss: 1033661.0000 - val_mean_absolute_error: 769.3724 - val_root_mean_squared_error: 1016.6912\n",
            "Epoch 60/100\n",
            "390/390 [==============================] - 1s 3ms/step - loss: 922870.6875 - mean_absolute_error: 744.4886 - root_mean_squared_error: 960.6616 - val_loss: 1031398.1250 - val_mean_absolute_error: 767.7484 - val_root_mean_squared_error: 1015.5778\n",
            "Epoch 61/100\n",
            "390/390 [==============================] - 1s 2ms/step - loss: 920139.3125 - mean_absolute_error: 742.7720 - root_mean_squared_error: 959.2390 - val_loss: 1047631.0000 - val_mean_absolute_error: 773.9999 - val_root_mean_squared_error: 1023.5385\n",
            "Epoch 62/100\n",
            "390/390 [==============================] - 1s 2ms/step - loss: 921039.5625 - mean_absolute_error: 742.3890 - root_mean_squared_error: 959.7081 - val_loss: 1026374.8125 - val_mean_absolute_error: 764.3088 - val_root_mean_squared_error: 1013.1016\n",
            "Epoch 63/100\n",
            "390/390 [==============================] - 1s 2ms/step - loss: 922577.1875 - mean_absolute_error: 741.8768 - root_mean_squared_error: 960.5088 - val_loss: 1021458.5625 - val_mean_absolute_error: 765.4153 - val_root_mean_squared_error: 1010.6723\n",
            "Epoch 64/100\n",
            "390/390 [==============================] - 1s 2ms/step - loss: 919254.5625 - mean_absolute_error: 742.1265 - root_mean_squared_error: 958.7776 - val_loss: 1024306.8125 - val_mean_absolute_error: 762.6993 - val_root_mean_squared_error: 1012.0804\n",
            "Epoch 65/100\n",
            "390/390 [==============================] - 1s 2ms/step - loss: 920490.8125 - mean_absolute_error: 741.2798 - root_mean_squared_error: 959.4221 - val_loss: 1053622.6250 - val_mean_absolute_error: 774.7401 - val_root_mean_squared_error: 1026.4612\n",
            "Epoch 66/100\n",
            "390/390 [==============================] - 1s 3ms/step - loss: 920225.2500 - mean_absolute_error: 741.9285 - root_mean_squared_error: 959.2837 - val_loss: 1019300.2500 - val_mean_absolute_error: 761.3591 - val_root_mean_squared_error: 1009.6040\n",
            "Epoch 67/100\n",
            "390/390 [==============================] - 1s 4ms/step - loss: 916755.0625 - mean_absolute_error: 741.4919 - root_mean_squared_error: 957.4733 - val_loss: 1029249.3750 - val_mean_absolute_error: 764.8666 - val_root_mean_squared_error: 1014.5193\n",
            "Epoch 68/100\n",
            "390/390 [==============================] - 2s 4ms/step - loss: 913746.6250 - mean_absolute_error: 738.9177 - root_mean_squared_error: 955.9009 - val_loss: 1014080.6250 - val_mean_absolute_error: 757.3243 - val_root_mean_squared_error: 1007.0157\n",
            "Epoch 69/100\n",
            "390/390 [==============================] - 1s 3ms/step - loss: 912848.5625 - mean_absolute_error: 738.8627 - root_mean_squared_error: 955.4311 - val_loss: 1056977.8750 - val_mean_absolute_error: 781.8281 - val_root_mean_squared_error: 1028.0942\n",
            "Epoch 70/100\n",
            "390/390 [==============================] - 1s 3ms/step - loss: 915842.0000 - mean_absolute_error: 739.3160 - root_mean_squared_error: 956.9963 - val_loss: 1053405.7500 - val_mean_absolute_error: 771.7838 - val_root_mean_squared_error: 1026.3556\n",
            "Epoch 71/100\n",
            "390/390 [==============================] - 1s 2ms/step - loss: 912034.5625 - mean_absolute_error: 739.1916 - root_mean_squared_error: 955.0050 - val_loss: 1012201.4375 - val_mean_absolute_error: 757.4504 - val_root_mean_squared_error: 1006.0822\n",
            "Epoch 72/100\n",
            "390/390 [==============================] - 1s 3ms/step - loss: 911921.4375 - mean_absolute_error: 738.2791 - root_mean_squared_error: 954.9458 - val_loss: 1018501.0000 - val_mean_absolute_error: 762.4147 - val_root_mean_squared_error: 1009.2081\n",
            "Epoch 73/100\n",
            "390/390 [==============================] - 1s 2ms/step - loss: 906852.8125 - mean_absolute_error: 736.9724 - root_mean_squared_error: 952.2882 - val_loss: 1008792.8750 - val_mean_absolute_error: 758.2617 - val_root_mean_squared_error: 1004.3868\n",
            "Epoch 74/100\n",
            "390/390 [==============================] - 1s 3ms/step - loss: 911109.6875 - mean_absolute_error: 737.9444 - root_mean_squared_error: 954.5206 - val_loss: 1028576.6875 - val_mean_absolute_error: 766.5447 - val_root_mean_squared_error: 1014.1877\n",
            "Epoch 75/100\n",
            "390/390 [==============================] - 1s 2ms/step - loss: 907059.5000 - mean_absolute_error: 735.3646 - root_mean_squared_error: 952.3967 - val_loss: 1011505.6875 - val_mean_absolute_error: 758.4242 - val_root_mean_squared_error: 1005.7364\n",
            "Epoch 76/100\n",
            "390/390 [==============================] - 2s 5ms/step - loss: 909307.8750 - mean_absolute_error: 736.1668 - root_mean_squared_error: 953.5764 - val_loss: 1020669.3125 - val_mean_absolute_error: 762.4174 - val_root_mean_squared_error: 1010.2818\n",
            "Epoch 77/100\n",
            "390/390 [==============================] - 1s 3ms/step - loss: 911243.2500 - mean_absolute_error: 735.7029 - root_mean_squared_error: 954.5906 - val_loss: 997915.1875 - val_mean_absolute_error: 750.9368 - val_root_mean_squared_error: 998.9570\n",
            "Epoch 78/100\n",
            "390/390 [==============================] - 2s 4ms/step - loss: 899922.9375 - mean_absolute_error: 733.0659 - root_mean_squared_error: 948.6427 - val_loss: 1005195.3750 - val_mean_absolute_error: 753.5059 - val_root_mean_squared_error: 1002.5943\n",
            "Epoch 79/100\n",
            "390/390 [==============================] - 1s 4ms/step - loss: 902258.6875 - mean_absolute_error: 732.4974 - root_mean_squared_error: 949.8730 - val_loss: 1008246.1875 - val_mean_absolute_error: 753.1120 - val_root_mean_squared_error: 1004.1146\n",
            "Epoch 80/100\n",
            "390/390 [==============================] - 1s 3ms/step - loss: 903871.1250 - mean_absolute_error: 733.8946 - root_mean_squared_error: 950.7214 - val_loss: 992134.8125 - val_mean_absolute_error: 749.9084 - val_root_mean_squared_error: 996.0596\n",
            "Epoch 81/100\n",
            "390/390 [==============================] - 1s 2ms/step - loss: 900496.0625 - mean_absolute_error: 733.0962 - root_mean_squared_error: 948.9447 - val_loss: 995867.3125 - val_mean_absolute_error: 748.8003 - val_root_mean_squared_error: 997.9315\n",
            "Epoch 82/100\n",
            "390/390 [==============================] - 1s 3ms/step - loss: 895538.8750 - mean_absolute_error: 729.6037 - root_mean_squared_error: 946.3292 - val_loss: 998252.8750 - val_mean_absolute_error: 755.8251 - val_root_mean_squared_error: 999.1260\n",
            "Epoch 83/100\n",
            "390/390 [==============================] - 1s 2ms/step - loss: 896466.5000 - mean_absolute_error: 731.6316 - root_mean_squared_error: 946.8192 - val_loss: 999826.5000 - val_mean_absolute_error: 754.6113 - val_root_mean_squared_error: 999.9133\n",
            "Epoch 84/100\n",
            "390/390 [==============================] - 1s 2ms/step - loss: 894699.8125 - mean_absolute_error: 729.2144 - root_mean_squared_error: 945.8857 - val_loss: 984372.1250 - val_mean_absolute_error: 747.1291 - val_root_mean_squared_error: 992.1553\n",
            "Epoch 85/100\n",
            "390/390 [==============================] - 1s 3ms/step - loss: 893661.5000 - mean_absolute_error: 729.3618 - root_mean_squared_error: 945.3367 - val_loss: 986458.6875 - val_mean_absolute_error: 752.0125 - val_root_mean_squared_error: 993.2062\n",
            "Epoch 86/100\n",
            "390/390 [==============================] - 1s 3ms/step - loss: 893307.1875 - mean_absolute_error: 729.3606 - root_mean_squared_error: 945.1493 - val_loss: 988565.3750 - val_mean_absolute_error: 750.4048 - val_root_mean_squared_error: 994.2662\n",
            "Epoch 87/100\n",
            "390/390 [==============================] - 1s 2ms/step - loss: 889722.9375 - mean_absolute_error: 727.2563 - root_mean_squared_error: 943.2513 - val_loss: 980647.0625 - val_mean_absolute_error: 749.5825 - val_root_mean_squared_error: 990.2762\n",
            "Epoch 88/100\n",
            "390/390 [==============================] - 1s 2ms/step - loss: 889925.0625 - mean_absolute_error: 727.3111 - root_mean_squared_error: 943.3584 - val_loss: 976411.3125 - val_mean_absolute_error: 741.8806 - val_root_mean_squared_error: 988.1353\n",
            "Epoch 89/100\n",
            "390/390 [==============================] - 1s 3ms/step - loss: 885976.2500 - mean_absolute_error: 725.6100 - root_mean_squared_error: 941.2631 - val_loss: 988825.6875 - val_mean_absolute_error: 744.1646 - val_root_mean_squared_error: 994.3972\n",
            "Epoch 90/100\n",
            "390/390 [==============================] - 1s 4ms/step - loss: 883519.6875 - mean_absolute_error: 723.6353 - root_mean_squared_error: 939.9573 - val_loss: 979275.5000 - val_mean_absolute_error: 746.2567 - val_root_mean_squared_error: 989.5835\n",
            "Epoch 91/100\n",
            "390/390 [==============================] - 1s 3ms/step - loss: 885228.5000 - mean_absolute_error: 725.0724 - root_mean_squared_error: 940.8658 - val_loss: 977428.3750 - val_mean_absolute_error: 742.6036 - val_root_mean_squared_error: 988.6498\n",
            "Epoch 92/100\n",
            "390/390 [==============================] - 1s 4ms/step - loss: 884191.5625 - mean_absolute_error: 724.5111 - root_mean_squared_error: 940.3146 - val_loss: 969125.3125 - val_mean_absolute_error: 741.3998 - val_root_mean_squared_error: 984.4417\n",
            "Epoch 93/100\n",
            "390/390 [==============================] - 1s 3ms/step - loss: 882740.4375 - mean_absolute_error: 722.6910 - root_mean_squared_error: 939.5427 - val_loss: 963924.1250 - val_mean_absolute_error: 738.3336 - val_root_mean_squared_error: 981.7964\n",
            "Epoch 94/100\n",
            "390/390 [==============================] - 1s 2ms/step - loss: 880272.5625 - mean_absolute_error: 723.9648 - root_mean_squared_error: 938.2284 - val_loss: 967490.8125 - val_mean_absolute_error: 736.6415 - val_root_mean_squared_error: 983.6111\n",
            "Epoch 95/100\n",
            "390/390 [==============================] - 1s 3ms/step - loss: 879592.3125 - mean_absolute_error: 722.2805 - root_mean_squared_error: 937.8658 - val_loss: 966311.0625 - val_mean_absolute_error: 740.9113 - val_root_mean_squared_error: 983.0112\n",
            "Epoch 96/100\n",
            "390/390 [==============================] - 1s 3ms/step - loss: 878126.5625 - mean_absolute_error: 721.6140 - root_mean_squared_error: 937.0840 - val_loss: 959708.6250 - val_mean_absolute_error: 737.7521 - val_root_mean_squared_error: 979.6472\n",
            "Epoch 97/100\n",
            "390/390 [==============================] - 1s 3ms/step - loss: 880964.3125 - mean_absolute_error: 722.6277 - root_mean_squared_error: 938.5970 - val_loss: 988711.5625 - val_mean_absolute_error: 747.5952 - val_root_mean_squared_error: 994.3398\n",
            "Epoch 98/100\n",
            "390/390 [==============================] - 1s 3ms/step - loss: 875803.9375 - mean_absolute_error: 720.0727 - root_mean_squared_error: 935.8440 - val_loss: 958106.5000 - val_mean_absolute_error: 737.8415 - val_root_mean_squared_error: 978.8292\n",
            "Epoch 99/100\n",
            "390/390 [==============================] - 1s 2ms/step - loss: 872903.8750 - mean_absolute_error: 719.4863 - root_mean_squared_error: 934.2933 - val_loss: 974975.3750 - val_mean_absolute_error: 745.1318 - val_root_mean_squared_error: 987.4084\n",
            "Epoch 100/100\n",
            "390/390 [==============================] - 1s 3ms/step - loss: 874653.5625 - mean_absolute_error: 720.7440 - root_mean_squared_error: 935.2291 - val_loss: 962405.2500 - val_mean_absolute_error: 736.6884 - val_root_mean_squared_error: 981.0226\n"
          ]
        }
      ]
    },
    {
      "cell_type": "code",
      "source": [
        "y_pred_train_1 = model_1.predict(X_train_tf)\n",
        "y_pred_test_1 = model_1.predict(X_test_tf)\n",
        "y_t = model_1.predict(Xtest_tf)"
      ],
      "metadata": {
        "colab": {
          "base_uri": "https://localhost:8080/"
        },
        "id": "tCr-NWT4xEQk",
        "outputId": "e1ad805b-b917-42b2-a763-a12a70f3d6fc"
      },
      "execution_count": 48,
      "outputs": [
        {
          "output_type": "stream",
          "name": "stdout",
          "text": [
            "390/390 [==============================] - 1s 1ms/step\n",
            "130/130 [==============================] - 0s 1ms/step\n",
            "173/173 [==============================] - 0s 1ms/step\n"
          ]
        }
      ]
    },
    {
      "cell_type": "code",
      "source": [
        "model_2 = Sequential()\n",
        "\n",
        "# Hidden layers\n",
        "model_2.add(Dense(37, input_dim = X_train_tf.shape[1], activation='relu'))\n",
        "model_2.add(Dropout(.2))\n",
        "model_2.add(Dense(25, activation='relu'))\n",
        "model_2.add(Dropout(.2))\n",
        "model_2.add(Dense(10, activation='relu'))\n",
        "model_2.add(Dropout(.2))\n",
        "\n",
        "# Output layer\n",
        "model_2.add(Dense(1, activation='linear'))\n",
        "\n",
        "# Compile the model\n",
        "model_2.compile(loss='mse', optimizer='adam', metrics=[metrics.MeanAbsoluteError(), metrics.RootMeanSquaredError()])\n",
        "\n",
        "# Fit the model\n",
        "history = model_2.fit(X_train_tf, y_train,\n",
        "                    validation_data = (X_test_tf, y_test),\n",
        "                    epochs = 100,\n",
        "                    batch_size = 32)\n"
      ],
      "metadata": {
        "colab": {
          "base_uri": "https://localhost:8080/"
        },
        "id": "2lADXRwgx3CW",
        "outputId": "2082d3d9-5595-4a5b-9630-f7add2eeba46"
      },
      "execution_count": 49,
      "outputs": [
        {
          "output_type": "stream",
          "name": "stdout",
          "text": [
            "Epoch 1/100\n",
            "390/390 [==============================] - 2s 3ms/step - loss: 509398464.0000 - mean_absolute_error: 19336.2402 - root_mean_squared_error: 22569.8574 - val_loss: 117304896.0000 - val_mean_absolute_error: 8504.7129 - val_root_mean_squared_error: 10830.7383\n",
            "Epoch 2/100\n",
            "390/390 [==============================] - 1s 3ms/step - loss: 67740240.0000 - mean_absolute_error: 6342.2480 - root_mean_squared_error: 8230.4463 - val_loss: 26524506.0000 - val_mean_absolute_error: 4037.9341 - val_root_mean_squared_error: 5150.1948\n",
            "Epoch 3/100\n",
            "390/390 [==============================] - 1s 3ms/step - loss: 47617860.0000 - mean_absolute_error: 5285.7983 - root_mean_squared_error: 6900.5693 - val_loss: 15619822.0000 - val_mean_absolute_error: 3098.8762 - val_root_mean_squared_error: 3952.1921\n",
            "Epoch 4/100\n",
            "390/390 [==============================] - 3s 7ms/step - loss: 39202052.0000 - mean_absolute_error: 4721.2334 - root_mean_squared_error: 6261.1543 - val_loss: 9089306.0000 - val_mean_absolute_error: 2345.6086 - val_root_mean_squared_error: 3014.8477\n",
            "Epoch 5/100\n",
            "390/390 [==============================] - 1s 3ms/step - loss: 34437356.0000 - mean_absolute_error: 4363.8843 - root_mean_squared_error: 5868.3350 - val_loss: 5525575.5000 - val_mean_absolute_error: 1786.1178 - val_root_mean_squared_error: 2350.6543\n",
            "Epoch 6/100\n",
            "390/390 [==============================] - 1s 3ms/step - loss: 33045252.0000 - mean_absolute_error: 4186.2305 - root_mean_squared_error: 5748.5000 - val_loss: 3774137.7500 - val_mean_absolute_error: 1442.5706 - val_root_mean_squared_error: 1942.7140\n",
            "Epoch 7/100\n",
            "390/390 [==============================] - 1s 3ms/step - loss: 30652790.0000 - mean_absolute_error: 4017.3689 - root_mean_squared_error: 5536.4961 - val_loss: 2547024.0000 - val_mean_absolute_error: 1175.8219 - val_root_mean_squared_error: 1595.9398\n",
            "Epoch 8/100\n",
            "390/390 [==============================] - 1s 3ms/step - loss: 30566342.0000 - mean_absolute_error: 4006.0962 - root_mean_squared_error: 5528.6836 - val_loss: 2850398.0000 - val_mean_absolute_error: 1255.5419 - val_root_mean_squared_error: 1688.3121\n",
            "Epoch 9/100\n",
            "390/390 [==============================] - 1s 3ms/step - loss: 31275850.0000 - mean_absolute_error: 4051.9539 - root_mean_squared_error: 5592.4814 - val_loss: 2915748.2500 - val_mean_absolute_error: 1268.3531 - val_root_mean_squared_error: 1707.5563\n",
            "Epoch 10/100\n",
            "390/390 [==============================] - 1s 3ms/step - loss: 30846762.0000 - mean_absolute_error: 4000.6321 - root_mean_squared_error: 5553.9863 - val_loss: 2644677.5000 - val_mean_absolute_error: 1207.6252 - val_root_mean_squared_error: 1626.2465\n",
            "Epoch 11/100\n",
            "390/390 [==============================] - 1s 3ms/step - loss: 29783556.0000 - mean_absolute_error: 3944.0068 - root_mean_squared_error: 5457.4312 - val_loss: 2101267.7500 - val_mean_absolute_error: 1063.7378 - val_root_mean_squared_error: 1449.5751\n",
            "Epoch 12/100\n",
            "390/390 [==============================] - 1s 3ms/step - loss: 30415646.0000 - mean_absolute_error: 3979.9038 - root_mean_squared_error: 5515.0381 - val_loss: 3687511.5000 - val_mean_absolute_error: 1488.0786 - val_root_mean_squared_error: 1920.2894\n",
            "Epoch 13/100\n",
            "390/390 [==============================] - 1s 2ms/step - loss: 30977610.0000 - mean_absolute_error: 4036.1213 - root_mean_squared_error: 5565.7534 - val_loss: 2675467.0000 - val_mean_absolute_error: 1237.3743 - val_root_mean_squared_error: 1635.6854\n",
            "Epoch 14/100\n",
            "390/390 [==============================] - 1s 3ms/step - loss: 29834214.0000 - mean_absolute_error: 3972.3164 - root_mean_squared_error: 5462.0703 - val_loss: 2458958.7500 - val_mean_absolute_error: 1159.3972 - val_root_mean_squared_error: 1568.1067\n",
            "Epoch 15/100\n",
            "390/390 [==============================] - 1s 4ms/step - loss: 30140956.0000 - mean_absolute_error: 3938.6406 - root_mean_squared_error: 5490.0781 - val_loss: 2872974.5000 - val_mean_absolute_error: 1282.0790 - val_root_mean_squared_error: 1694.9851\n",
            "Epoch 16/100\n",
            "390/390 [==============================] - 1s 4ms/step - loss: 30955620.0000 - mean_absolute_error: 4019.8408 - root_mean_squared_error: 5563.7773 - val_loss: 2528869.0000 - val_mean_absolute_error: 1175.7207 - val_root_mean_squared_error: 1590.2418\n",
            "Epoch 17/100\n",
            "390/390 [==============================] - 2s 4ms/step - loss: 30624402.0000 - mean_absolute_error: 3983.7825 - root_mean_squared_error: 5533.9316 - val_loss: 4083027.5000 - val_mean_absolute_error: 1586.2325 - val_root_mean_squared_error: 2020.6503\n",
            "Epoch 18/100\n",
            "390/390 [==============================] - 1s 3ms/step - loss: 31141164.0000 - mean_absolute_error: 4017.9011 - root_mean_squared_error: 5580.4268 - val_loss: 2068994.6250 - val_mean_absolute_error: 1077.0686 - val_root_mean_squared_error: 1438.4000\n",
            "Epoch 19/100\n",
            "390/390 [==============================] - 1s 3ms/step - loss: 30015446.0000 - mean_absolute_error: 3964.7654 - root_mean_squared_error: 5478.6353 - val_loss: 2730485.5000 - val_mean_absolute_error: 1239.3490 - val_root_mean_squared_error: 1652.4181\n",
            "Epoch 20/100\n",
            "390/390 [==============================] - 1s 3ms/step - loss: 30825364.0000 - mean_absolute_error: 4020.1804 - root_mean_squared_error: 5552.0596 - val_loss: 3418960.5000 - val_mean_absolute_error: 1441.8903 - val_root_mean_squared_error: 1849.0431\n",
            "Epoch 21/100\n",
            "390/390 [==============================] - 1s 3ms/step - loss: 30084134.0000 - mean_absolute_error: 3973.2268 - root_mean_squared_error: 5484.9004 - val_loss: 2446985.0000 - val_mean_absolute_error: 1170.1632 - val_root_mean_squared_error: 1564.2842\n",
            "Epoch 22/100\n",
            "390/390 [==============================] - 1s 3ms/step - loss: 30881734.0000 - mean_absolute_error: 3997.0747 - root_mean_squared_error: 5557.1338 - val_loss: 1981598.0000 - val_mean_absolute_error: 1045.1567 - val_root_mean_squared_error: 1407.6924\n",
            "Epoch 23/100\n",
            "390/390 [==============================] - 1s 3ms/step - loss: 30486976.0000 - mean_absolute_error: 3959.9062 - root_mean_squared_error: 5521.5015 - val_loss: 2509512.2500 - val_mean_absolute_error: 1188.4402 - val_root_mean_squared_error: 1584.1440\n",
            "Epoch 24/100\n",
            "390/390 [==============================] - 1s 3ms/step - loss: 30018022.0000 - mean_absolute_error: 3954.9375 - root_mean_squared_error: 5478.8706 - val_loss: 2060769.6250 - val_mean_absolute_error: 1062.9875 - val_root_mean_squared_error: 1435.5381\n",
            "Epoch 25/100\n",
            "390/390 [==============================] - 1s 3ms/step - loss: 31174602.0000 - mean_absolute_error: 4012.4541 - root_mean_squared_error: 5583.4219 - val_loss: 2604013.5000 - val_mean_absolute_error: 1218.2500 - val_root_mean_squared_error: 1613.6956\n",
            "Epoch 26/100\n",
            "390/390 [==============================] - 1s 3ms/step - loss: 30134218.0000 - mean_absolute_error: 3958.2329 - root_mean_squared_error: 5489.4644 - val_loss: 2709183.0000 - val_mean_absolute_error: 1229.2581 - val_root_mean_squared_error: 1645.9596\n",
            "Epoch 27/100\n",
            "390/390 [==============================] - 2s 4ms/step - loss: 29770500.0000 - mean_absolute_error: 3917.0149 - root_mean_squared_error: 5456.2349 - val_loss: 2104220.5000 - val_mean_absolute_error: 1073.2421 - val_root_mean_squared_error: 1450.5931\n",
            "Epoch 28/100\n",
            "390/390 [==============================] - 1s 4ms/step - loss: 30223082.0000 - mean_absolute_error: 3962.4629 - root_mean_squared_error: 5497.5522 - val_loss: 2664253.7500 - val_mean_absolute_error: 1226.1947 - val_root_mean_squared_error: 1632.2542\n",
            "Epoch 29/100\n",
            "390/390 [==============================] - 1s 3ms/step - loss: 29769324.0000 - mean_absolute_error: 3936.8821 - root_mean_squared_error: 5456.1274 - val_loss: 3375425.5000 - val_mean_absolute_error: 1415.6409 - val_root_mean_squared_error: 1837.2332\n",
            "Epoch 30/100\n",
            "390/390 [==============================] - 1s 3ms/step - loss: 30323270.0000 - mean_absolute_error: 3967.9163 - root_mean_squared_error: 5506.6567 - val_loss: 2504175.2500 - val_mean_absolute_error: 1177.5728 - val_root_mean_squared_error: 1582.4586\n",
            "Epoch 31/100\n",
            "390/390 [==============================] - 1s 3ms/step - loss: 29386056.0000 - mean_absolute_error: 3919.3101 - root_mean_squared_error: 5420.8906 - val_loss: 2101025.0000 - val_mean_absolute_error: 1071.7996 - val_root_mean_squared_error: 1449.4913\n",
            "Epoch 32/100\n",
            "390/390 [==============================] - 1s 3ms/step - loss: 29893976.0000 - mean_absolute_error: 3955.2703 - root_mean_squared_error: 5467.5386 - val_loss: 3741349.2500 - val_mean_absolute_error: 1490.6702 - val_root_mean_squared_error: 1934.2567\n",
            "Epoch 33/100\n",
            "390/390 [==============================] - 1s 3ms/step - loss: 30313308.0000 - mean_absolute_error: 3970.6565 - root_mean_squared_error: 5505.7524 - val_loss: 3234878.5000 - val_mean_absolute_error: 1371.3761 - val_root_mean_squared_error: 1798.5768\n",
            "Epoch 34/100\n",
            "390/390 [==============================] - 1s 3ms/step - loss: 29767550.0000 - mean_absolute_error: 3930.9243 - root_mean_squared_error: 5455.9648 - val_loss: 1949060.0000 - val_mean_absolute_error: 1033.3093 - val_root_mean_squared_error: 1396.0874\n",
            "Epoch 35/100\n",
            "390/390 [==============================] - 1s 3ms/step - loss: 31149848.0000 - mean_absolute_error: 4025.6196 - root_mean_squared_error: 5581.2051 - val_loss: 2442766.7500 - val_mean_absolute_error: 1163.9629 - val_root_mean_squared_error: 1562.9353\n",
            "Epoch 36/100\n",
            "390/390 [==============================] - 1s 3ms/step - loss: 30525492.0000 - mean_absolute_error: 3960.9189 - root_mean_squared_error: 5524.9878 - val_loss: 2878296.7500 - val_mean_absolute_error: 1290.2671 - val_root_mean_squared_error: 1696.5543\n",
            "Epoch 37/100\n",
            "390/390 [==============================] - 1s 3ms/step - loss: 29960510.0000 - mean_absolute_error: 3949.4534 - root_mean_squared_error: 5473.6196 - val_loss: 2709258.5000 - val_mean_absolute_error: 1280.5044 - val_root_mean_squared_error: 1645.9825\n",
            "Epoch 38/100\n",
            "390/390 [==============================] - 2s 4ms/step - loss: 30594444.0000 - mean_absolute_error: 3970.0608 - root_mean_squared_error: 5531.2246 - val_loss: 1921883.5000 - val_mean_absolute_error: 1051.9333 - val_root_mean_squared_error: 1386.3201\n",
            "Epoch 39/100\n",
            "390/390 [==============================] - 2s 4ms/step - loss: 29686388.0000 - mean_absolute_error: 3955.0447 - root_mean_squared_error: 5448.5215 - val_loss: 1758895.2500 - val_mean_absolute_error: 985.0034 - val_root_mean_squared_error: 1326.2335\n",
            "Epoch 40/100\n",
            "390/390 [==============================] - 1s 3ms/step - loss: 29868704.0000 - mean_absolute_error: 3947.6252 - root_mean_squared_error: 5465.2266 - val_loss: 2790747.7500 - val_mean_absolute_error: 1259.6992 - val_root_mean_squared_error: 1670.5531\n",
            "Epoch 41/100\n",
            "390/390 [==============================] - 1s 3ms/step - loss: 30958166.0000 - mean_absolute_error: 3978.0083 - root_mean_squared_error: 5564.0063 - val_loss: 2976802.5000 - val_mean_absolute_error: 1324.9443 - val_root_mean_squared_error: 1725.3413\n",
            "Epoch 42/100\n",
            "390/390 [==============================] - 1s 3ms/step - loss: 30813324.0000 - mean_absolute_error: 3994.1411 - root_mean_squared_error: 5550.9751 - val_loss: 2475541.7500 - val_mean_absolute_error: 1185.3517 - val_root_mean_squared_error: 1573.3855\n",
            "Epoch 43/100\n",
            "390/390 [==============================] - 1s 3ms/step - loss: 30409314.0000 - mean_absolute_error: 3983.2231 - root_mean_squared_error: 5514.4639 - val_loss: 1893550.3750 - val_mean_absolute_error: 1015.6248 - val_root_mean_squared_error: 1376.0634\n",
            "Epoch 44/100\n",
            "390/390 [==============================] - 1s 3ms/step - loss: 31087954.0000 - mean_absolute_error: 4002.5964 - root_mean_squared_error: 5575.6572 - val_loss: 2941046.0000 - val_mean_absolute_error: 1312.4286 - val_root_mean_squared_error: 1714.9478\n",
            "Epoch 45/100\n",
            "390/390 [==============================] - 1s 3ms/step - loss: 31184834.0000 - mean_absolute_error: 3998.2280 - root_mean_squared_error: 5584.3384 - val_loss: 3238327.7500 - val_mean_absolute_error: 1393.1946 - val_root_mean_squared_error: 1799.5354\n",
            "Epoch 46/100\n",
            "390/390 [==============================] - 1s 3ms/step - loss: 30394058.0000 - mean_absolute_error: 3984.7495 - root_mean_squared_error: 5513.0806 - val_loss: 2651630.2500 - val_mean_absolute_error: 1234.8083 - val_root_mean_squared_error: 1628.3827\n",
            "Epoch 47/100\n",
            "390/390 [==============================] - 1s 3ms/step - loss: 30210456.0000 - mean_absolute_error: 3954.5610 - root_mean_squared_error: 5496.4038 - val_loss: 3082445.2500 - val_mean_absolute_error: 1371.9214 - val_root_mean_squared_error: 1755.6895\n",
            "Epoch 48/100\n",
            "390/390 [==============================] - 1s 3ms/step - loss: 30852272.0000 - mean_absolute_error: 3984.3979 - root_mean_squared_error: 5554.4819 - val_loss: 2456903.7500 - val_mean_absolute_error: 1185.0746 - val_root_mean_squared_error: 1567.4513\n",
            "Epoch 49/100\n",
            "390/390 [==============================] - 2s 4ms/step - loss: 30198732.0000 - mean_absolute_error: 3956.5566 - root_mean_squared_error: 5495.3374 - val_loss: 1689925.3750 - val_mean_absolute_error: 965.8914 - val_root_mean_squared_error: 1299.9713\n",
            "Epoch 50/100\n",
            "390/390 [==============================] - 1s 4ms/step - loss: 30703184.0000 - mean_absolute_error: 3977.2146 - root_mean_squared_error: 5541.0454 - val_loss: 2437050.2500 - val_mean_absolute_error: 1156.7642 - val_root_mean_squared_error: 1561.1055\n",
            "Epoch 51/100\n",
            "390/390 [==============================] - 1s 3ms/step - loss: 30514532.0000 - mean_absolute_error: 3964.6228 - root_mean_squared_error: 5523.9961 - val_loss: 3249707.0000 - val_mean_absolute_error: 1390.3715 - val_root_mean_squared_error: 1802.6943\n",
            "Epoch 52/100\n",
            "390/390 [==============================] - 1s 3ms/step - loss: 30766596.0000 - mean_absolute_error: 3957.8425 - root_mean_squared_error: 5546.7646 - val_loss: 1930196.7500 - val_mean_absolute_error: 1031.1344 - val_root_mean_squared_error: 1389.3152\n",
            "Epoch 53/100\n",
            "390/390 [==============================] - 1s 3ms/step - loss: 29906784.0000 - mean_absolute_error: 3923.5754 - root_mean_squared_error: 5468.7095 - val_loss: 2905920.2500 - val_mean_absolute_error: 1313.2887 - val_root_mean_squared_error: 1704.6760\n",
            "Epoch 54/100\n",
            "390/390 [==============================] - 1s 3ms/step - loss: 31304752.0000 - mean_absolute_error: 4018.9285 - root_mean_squared_error: 5595.0649 - val_loss: 3012495.0000 - val_mean_absolute_error: 1337.8790 - val_root_mean_squared_error: 1735.6541\n",
            "Epoch 55/100\n",
            "390/390 [==============================] - 1s 3ms/step - loss: 30469464.0000 - mean_absolute_error: 3971.2917 - root_mean_squared_error: 5519.9150 - val_loss: 1805600.3750 - val_mean_absolute_error: 989.5060 - val_root_mean_squared_error: 1343.7263\n",
            "Epoch 56/100\n",
            "390/390 [==============================] - 1s 3ms/step - loss: 29869676.0000 - mean_absolute_error: 3933.5686 - root_mean_squared_error: 5465.3159 - val_loss: 2561914.0000 - val_mean_absolute_error: 1219.7340 - val_root_mean_squared_error: 1600.5980\n",
            "Epoch 57/100\n",
            "390/390 [==============================] - 1s 3ms/step - loss: 29620824.0000 - mean_absolute_error: 3944.0522 - root_mean_squared_error: 5442.5015 - val_loss: 2928752.5000 - val_mean_absolute_error: 1323.1404 - val_root_mean_squared_error: 1711.3599\n",
            "Epoch 58/100\n",
            "390/390 [==============================] - 1s 3ms/step - loss: 29661186.0000 - mean_absolute_error: 3931.4709 - root_mean_squared_error: 5446.2085 - val_loss: 2872134.0000 - val_mean_absolute_error: 1303.2997 - val_root_mean_squared_error: 1694.7372\n",
            "Epoch 59/100\n",
            "390/390 [==============================] - 1s 3ms/step - loss: 30937690.0000 - mean_absolute_error: 3988.4124 - root_mean_squared_error: 5562.1660 - val_loss: 2687528.5000 - val_mean_absolute_error: 1235.1400 - val_root_mean_squared_error: 1639.3683\n",
            "Epoch 60/100\n",
            "390/390 [==============================] - 1s 3ms/step - loss: 31071248.0000 - mean_absolute_error: 3997.1572 - root_mean_squared_error: 5574.1592 - val_loss: 2580373.5000 - val_mean_absolute_error: 1227.6504 - val_root_mean_squared_error: 1606.3541\n",
            "Epoch 61/100\n",
            "390/390 [==============================] - 2s 4ms/step - loss: 30092720.0000 - mean_absolute_error: 3959.8213 - root_mean_squared_error: 5485.6831 - val_loss: 2566620.7500 - val_mean_absolute_error: 1211.1324 - val_root_mean_squared_error: 1602.0676\n",
            "Epoch 62/100\n",
            "390/390 [==============================] - 2s 4ms/step - loss: 29639302.0000 - mean_absolute_error: 3908.8594 - root_mean_squared_error: 5444.1987 - val_loss: 3450082.0000 - val_mean_absolute_error: 1431.0854 - val_root_mean_squared_error: 1857.4396\n",
            "Epoch 63/100\n",
            "390/390 [==============================] - 1s 3ms/step - loss: 30908328.0000 - mean_absolute_error: 3995.4458 - root_mean_squared_error: 5559.5259 - val_loss: 1765944.2500 - val_mean_absolute_error: 998.0867 - val_root_mean_squared_error: 1328.8883\n",
            "Epoch 64/100\n",
            "390/390 [==============================] - 1s 3ms/step - loss: 29992634.0000 - mean_absolute_error: 3951.3550 - root_mean_squared_error: 5476.5532 - val_loss: 2759510.0000 - val_mean_absolute_error: 1256.9673 - val_root_mean_squared_error: 1661.1772\n",
            "Epoch 65/100\n",
            "390/390 [==============================] - 1s 3ms/step - loss: 30558976.0000 - mean_absolute_error: 3975.8992 - root_mean_squared_error: 5528.0176 - val_loss: 2896217.0000 - val_mean_absolute_error: 1307.0854 - val_root_mean_squared_error: 1701.8275\n",
            "Epoch 66/100\n",
            "390/390 [==============================] - 1s 3ms/step - loss: 30419166.0000 - mean_absolute_error: 3981.9167 - root_mean_squared_error: 5515.3574 - val_loss: 2603816.7500 - val_mean_absolute_error: 1230.7731 - val_root_mean_squared_error: 1613.6346\n",
            "Epoch 67/100\n",
            "390/390 [==============================] - 1s 3ms/step - loss: 30470286.0000 - mean_absolute_error: 3962.8179 - root_mean_squared_error: 5519.9897 - val_loss: 2254117.5000 - val_mean_absolute_error: 1132.7474 - val_root_mean_squared_error: 1501.3718\n",
            "Epoch 68/100\n",
            "390/390 [==============================] - 1s 3ms/step - loss: 30156002.0000 - mean_absolute_error: 3950.8582 - root_mean_squared_error: 5491.4482 - val_loss: 2481919.5000 - val_mean_absolute_error: 1201.0247 - val_root_mean_squared_error: 1575.4109\n",
            "Epoch 69/100\n",
            "390/390 [==============================] - 1s 3ms/step - loss: 29971134.0000 - mean_absolute_error: 3929.0645 - root_mean_squared_error: 5474.5898 - val_loss: 2880325.5000 - val_mean_absolute_error: 1306.1387 - val_root_mean_squared_error: 1697.1522\n",
            "Epoch 70/100\n",
            "390/390 [==============================] - 1s 3ms/step - loss: 29814158.0000 - mean_absolute_error: 3920.4919 - root_mean_squared_error: 5460.2344 - val_loss: 1971847.5000 - val_mean_absolute_error: 1056.3488 - val_root_mean_squared_error: 1404.2249\n",
            "Epoch 71/100\n",
            "390/390 [==============================] - 1s 3ms/step - loss: 29570008.0000 - mean_absolute_error: 3915.3857 - root_mean_squared_error: 5437.8311 - val_loss: 2210895.5000 - val_mean_absolute_error: 1101.3857 - val_root_mean_squared_error: 1486.9081\n",
            "Epoch 72/100\n",
            "390/390 [==============================] - 2s 4ms/step - loss: 30392658.0000 - mean_absolute_error: 3949.5005 - root_mean_squared_error: 5512.9536 - val_loss: 3045533.5000 - val_mean_absolute_error: 1341.2095 - val_root_mean_squared_error: 1745.1458\n",
            "Epoch 73/100\n",
            "390/390 [==============================] - 1s 4ms/step - loss: 31111906.0000 - mean_absolute_error: 3996.1069 - root_mean_squared_error: 5577.8047 - val_loss: 2355930.0000 - val_mean_absolute_error: 1171.9554 - val_root_mean_squared_error: 1534.9039\n",
            "Epoch 74/100\n",
            "390/390 [==============================] - 1s 3ms/step - loss: 30448080.0000 - mean_absolute_error: 3945.2422 - root_mean_squared_error: 5517.9780 - val_loss: 2880169.2500 - val_mean_absolute_error: 1309.6415 - val_root_mean_squared_error: 1697.1061\n",
            "Epoch 75/100\n",
            "390/390 [==============================] - 1s 3ms/step - loss: 30073694.0000 - mean_absolute_error: 3937.1384 - root_mean_squared_error: 5483.9487 - val_loss: 2286241.0000 - val_mean_absolute_error: 1152.3259 - val_root_mean_squared_error: 1512.0321\n",
            "Epoch 76/100\n",
            "390/390 [==============================] - 1s 3ms/step - loss: 30004128.0000 - mean_absolute_error: 3933.0684 - root_mean_squared_error: 5477.6025 - val_loss: 2047735.7500 - val_mean_absolute_error: 1066.7725 - val_root_mean_squared_error: 1430.9912\n",
            "Epoch 77/100\n",
            "390/390 [==============================] - 1s 3ms/step - loss: 29905266.0000 - mean_absolute_error: 3940.2234 - root_mean_squared_error: 5468.5708 - val_loss: 1915074.1250 - val_mean_absolute_error: 1046.2039 - val_root_mean_squared_error: 1383.8621\n",
            "Epoch 78/100\n",
            "390/390 [==============================] - 1s 3ms/step - loss: 30607100.0000 - mean_absolute_error: 3973.1741 - root_mean_squared_error: 5532.3682 - val_loss: 2214029.2500 - val_mean_absolute_error: 1120.0437 - val_root_mean_squared_error: 1487.9614\n",
            "Epoch 79/100\n",
            "390/390 [==============================] - 1s 3ms/step - loss: 30402770.0000 - mean_absolute_error: 3950.6270 - root_mean_squared_error: 5513.8706 - val_loss: 2817399.0000 - val_mean_absolute_error: 1282.6449 - val_root_mean_squared_error: 1678.5110\n",
            "Epoch 80/100\n",
            "390/390 [==============================] - 1s 3ms/step - loss: 29661678.0000 - mean_absolute_error: 3911.3203 - root_mean_squared_error: 5446.2534 - val_loss: 2469266.2500 - val_mean_absolute_error: 1177.5557 - val_root_mean_squared_error: 1571.3899\n",
            "Epoch 81/100\n",
            "390/390 [==============================] - 1s 3ms/step - loss: 28469554.0000 - mean_absolute_error: 3859.5542 - root_mean_squared_error: 5335.6870 - val_loss: 2603691.5000 - val_mean_absolute_error: 1218.3038 - val_root_mean_squared_error: 1613.5958\n",
            "Epoch 82/100\n",
            "390/390 [==============================] - 1s 3ms/step - loss: 30879502.0000 - mean_absolute_error: 3950.9712 - root_mean_squared_error: 5556.9326 - val_loss: 2191457.2500 - val_mean_absolute_error: 1106.4836 - val_root_mean_squared_error: 1480.3572\n",
            "Epoch 83/100\n",
            "390/390 [==============================] - 2s 4ms/step - loss: 29927228.0000 - mean_absolute_error: 3944.5493 - root_mean_squared_error: 5470.5786 - val_loss: 2803630.0000 - val_mean_absolute_error: 1290.0636 - val_root_mean_squared_error: 1674.4044\n",
            "Epoch 84/100\n",
            "390/390 [==============================] - 2s 4ms/step - loss: 30059576.0000 - mean_absolute_error: 3915.9521 - root_mean_squared_error: 5482.6616 - val_loss: 2681375.5000 - val_mean_absolute_error: 1260.7927 - val_root_mean_squared_error: 1637.4906\n",
            "Epoch 85/100\n",
            "390/390 [==============================] - 1s 3ms/step - loss: 29559484.0000 - mean_absolute_error: 3912.0845 - root_mean_squared_error: 5436.8633 - val_loss: 2554172.7500 - val_mean_absolute_error: 1208.1763 - val_root_mean_squared_error: 1598.1780\n",
            "Epoch 86/100\n",
            "390/390 [==============================] - 1s 3ms/step - loss: 30321234.0000 - mean_absolute_error: 3953.7195 - root_mean_squared_error: 5506.4722 - val_loss: 3639199.2500 - val_mean_absolute_error: 1492.8459 - val_root_mean_squared_error: 1907.6686\n",
            "Epoch 87/100\n",
            "390/390 [==============================] - 1s 3ms/step - loss: 29831640.0000 - mean_absolute_error: 3912.9368 - root_mean_squared_error: 5461.8350 - val_loss: 3235893.0000 - val_mean_absolute_error: 1389.6438 - val_root_mean_squared_error: 1798.8588\n",
            "Epoch 88/100\n",
            "390/390 [==============================] - 1s 3ms/step - loss: 30306754.0000 - mean_absolute_error: 3953.0359 - root_mean_squared_error: 5505.1572 - val_loss: 2297314.5000 - val_mean_absolute_error: 1138.3761 - val_root_mean_squared_error: 1515.6895\n",
            "Epoch 89/100\n",
            "390/390 [==============================] - 1s 3ms/step - loss: 30059870.0000 - mean_absolute_error: 3914.1772 - root_mean_squared_error: 5482.6880 - val_loss: 3374540.7500 - val_mean_absolute_error: 1425.7898 - val_root_mean_squared_error: 1836.9923\n",
            "Epoch 90/100\n",
            "390/390 [==============================] - 1s 3ms/step - loss: 29523032.0000 - mean_absolute_error: 3912.9204 - root_mean_squared_error: 5433.5103 - val_loss: 2084769.8750 - val_mean_absolute_error: 1075.7458 - val_root_mean_squared_error: 1443.8732\n",
            "Epoch 91/100\n",
            "390/390 [==============================] - 1s 3ms/step - loss: 29634616.0000 - mean_absolute_error: 3890.4319 - root_mean_squared_error: 5443.7686 - val_loss: 2328556.0000 - val_mean_absolute_error: 1153.7776 - val_root_mean_squared_error: 1525.9607\n",
            "Epoch 92/100\n",
            "390/390 [==============================] - 1s 3ms/step - loss: 30170764.0000 - mean_absolute_error: 3937.8870 - root_mean_squared_error: 5492.7920 - val_loss: 3206411.2500 - val_mean_absolute_error: 1388.9567 - val_root_mean_squared_error: 1790.6455\n",
            "Epoch 93/100\n",
            "390/390 [==============================] - 1s 3ms/step - loss: 29994512.0000 - mean_absolute_error: 3924.3318 - root_mean_squared_error: 5476.7246 - val_loss: 3121390.0000 - val_mean_absolute_error: 1369.3789 - val_root_mean_squared_error: 1766.7456\n",
            "Epoch 94/100\n",
            "390/390 [==============================] - 2s 4ms/step - loss: 30280828.0000 - mean_absolute_error: 3957.0215 - root_mean_squared_error: 5502.8018 - val_loss: 1891153.1250 - val_mean_absolute_error: 1024.6769 - val_root_mean_squared_error: 1375.1920\n",
            "Epoch 95/100\n",
            "390/390 [==============================] - 2s 4ms/step - loss: 30501064.0000 - mean_absolute_error: 3949.9971 - root_mean_squared_error: 5522.7769 - val_loss: 2455132.5000 - val_mean_absolute_error: 1189.8605 - val_root_mean_squared_error: 1566.8862\n",
            "Epoch 96/100\n",
            "390/390 [==============================] - 2s 4ms/step - loss: 30452556.0000 - mean_absolute_error: 3953.6243 - root_mean_squared_error: 5518.3833 - val_loss: 2522071.5000 - val_mean_absolute_error: 1227.4280 - val_root_mean_squared_error: 1588.1031\n",
            "Epoch 97/100\n",
            "390/390 [==============================] - 1s 3ms/step - loss: 30036284.0000 - mean_absolute_error: 3901.9658 - root_mean_squared_error: 5480.5366 - val_loss: 2815922.7500 - val_mean_absolute_error: 1289.7394 - val_root_mean_squared_error: 1678.0712\n",
            "Epoch 98/100\n",
            "390/390 [==============================] - 1s 3ms/step - loss: 30106876.0000 - mean_absolute_error: 3934.2466 - root_mean_squared_error: 5486.9731 - val_loss: 2179985.2500 - val_mean_absolute_error: 1110.9991 - val_root_mean_squared_error: 1476.4773\n",
            "Epoch 99/100\n",
            "390/390 [==============================] - 1s 3ms/step - loss: 29736888.0000 - mean_absolute_error: 3940.0769 - root_mean_squared_error: 5453.1538 - val_loss: 2294455.0000 - val_mean_absolute_error: 1139.1154 - val_root_mean_squared_error: 1514.7458\n",
            "Epoch 100/100\n",
            "390/390 [==============================] - 1s 3ms/step - loss: 30900752.0000 - mean_absolute_error: 3960.2378 - root_mean_squared_error: 5558.8447 - val_loss: 3143971.0000 - val_mean_absolute_error: 1375.1591 - val_root_mean_squared_error: 1773.1246\n"
          ]
        }
      ]
    },
    {
      "cell_type": "code",
      "source": [
        "y_t2 = model_2.predict(Xtest_tf)"
      ],
      "metadata": {
        "colab": {
          "base_uri": "https://localhost:8080/"
        },
        "id": "JwGqttVhzF08",
        "outputId": "721088c0-c6df-4a87-8a0a-92ec0fbc6775"
      },
      "execution_count": 50,
      "outputs": [
        {
          "output_type": "stream",
          "name": "stdout",
          "text": [
            "173/173 [==============================] - 0s 1ms/step\n"
          ]
        }
      ]
    },
    {
      "cell_type": "code",
      "source": [
        "# Model Sequential\n",
        "model_3 = Sequential()\n",
        "\n",
        "# Hidden layers\n",
        "model_3.add(Dense(37, input_dim = X_train_tf.shape[1], activation='relu')),\n",
        "BatchNormalization(),\n",
        "model_3.add(Dropout(.2)),\n",
        "model_3.add(Dense(25, activation='relu')),\n",
        "BatchNormalization(),\n",
        "model_3.add(Dropout(.2)),\n",
        "model_3.add(Dense(10, activation='relu')),\n",
        "BatchNormalization(),\n",
        "model_3.add(Dropout(.2)),\n",
        "\n",
        "# Output layer\n",
        "model_3.add(Dense(1, activation='linear'))\n",
        "\n",
        "# Compile the model\n",
        "model_3.compile(loss='mse', optimizer='adam', metrics=[metrics.MeanAbsoluteError(), metrics.RootMeanSquaredError()])\n",
        "\n",
        "# Fit the model\n",
        "history = model_3.fit(X_train_tf, y_train,\n",
        "                    validation_data = (X_test_tf, y_test),\n",
        "                    epochs = 100,\n",
        "                    batch_size = 32)\n"
      ],
      "metadata": {
        "colab": {
          "base_uri": "https://localhost:8080/"
        },
        "id": "-6G_5JcLx-BG",
        "outputId": "e57cb2a5-fcae-4989-8a0c-5d3cb97dc62c"
      },
      "execution_count": 51,
      "outputs": [
        {
          "output_type": "stream",
          "name": "stdout",
          "text": [
            "Epoch 1/100\n",
            "390/390 [==============================] - 2s 3ms/step - loss: 506186912.0000 - mean_absolute_error: 19322.9941 - root_mean_squared_error: 22498.5977 - val_loss: 125782504.0000 - val_mean_absolute_error: 8852.4863 - val_root_mean_squared_error: 11215.2803\n",
            "Epoch 2/100\n",
            "390/390 [==============================] - 1s 3ms/step - loss: 72100176.0000 - mean_absolute_error: 6502.9937 - root_mean_squared_error: 8491.1826 - val_loss: 25809200.0000 - val_mean_absolute_error: 3986.3315 - val_root_mean_squared_error: 5080.2754\n",
            "Epoch 3/100\n",
            "390/390 [==============================] - 1s 3ms/step - loss: 51033668.0000 - mean_absolute_error: 5463.7563 - root_mean_squared_error: 7143.7852 - val_loss: 15207986.0000 - val_mean_absolute_error: 3059.5620 - val_root_mean_squared_error: 3899.7417\n",
            "Epoch 4/100\n",
            "390/390 [==============================] - 2s 4ms/step - loss: 42247448.0000 - mean_absolute_error: 4870.5508 - root_mean_squared_error: 6499.8037 - val_loss: 8371600.0000 - val_mean_absolute_error: 2243.7625 - val_root_mean_squared_error: 2893.3718\n",
            "Epoch 5/100\n",
            "390/390 [==============================] - 2s 4ms/step - loss: 35806528.0000 - mean_absolute_error: 4439.3037 - root_mean_squared_error: 5983.8555 - val_loss: 6024296.0000 - val_mean_absolute_error: 1865.4211 - val_root_mean_squared_error: 2454.4441\n",
            "Epoch 6/100\n",
            "390/390 [==============================] - 1s 3ms/step - loss: 34542472.0000 - mean_absolute_error: 4260.5137 - root_mean_squared_error: 5877.2842 - val_loss: 4366891.0000 - val_mean_absolute_error: 1577.6143 - val_root_mean_squared_error: 2089.7107\n",
            "Epoch 7/100\n",
            "390/390 [==============================] - 1s 3ms/step - loss: 33766768.0000 - mean_absolute_error: 4172.5996 - root_mean_squared_error: 5810.9180 - val_loss: 3969224.2500 - val_mean_absolute_error: 1491.2258 - val_root_mean_squared_error: 1992.2913\n",
            "Epoch 8/100\n",
            "390/390 [==============================] - 1s 3ms/step - loss: 33013444.0000 - mean_absolute_error: 4155.8086 - root_mean_squared_error: 5745.7329 - val_loss: 4873875.0000 - val_mean_absolute_error: 1734.5028 - val_root_mean_squared_error: 2207.6855\n",
            "Epoch 9/100\n",
            "390/390 [==============================] - 1s 3ms/step - loss: 33299392.0000 - mean_absolute_error: 4161.0957 - root_mean_squared_error: 5770.5625 - val_loss: 2430461.7500 - val_mean_absolute_error: 1148.1609 - val_root_mean_squared_error: 1558.9938\n",
            "Epoch 10/100\n",
            "390/390 [==============================] - 1s 3ms/step - loss: 32833714.0000 - mean_absolute_error: 4129.1577 - root_mean_squared_error: 5730.0708 - val_loss: 3074942.2500 - val_mean_absolute_error: 1346.0137 - val_root_mean_squared_error: 1753.5513\n",
            "Epoch 11/100\n",
            "390/390 [==============================] - 1s 2ms/step - loss: 34616680.0000 - mean_absolute_error: 4221.0698 - root_mean_squared_error: 5883.5942 - val_loss: 3186532.0000 - val_mean_absolute_error: 1349.1931 - val_root_mean_squared_error: 1785.0859\n",
            "Epoch 12/100\n",
            "390/390 [==============================] - 1s 3ms/step - loss: 32788434.0000 - mean_absolute_error: 4108.6582 - root_mean_squared_error: 5726.1187 - val_loss: 3099849.5000 - val_mean_absolute_error: 1330.0426 - val_root_mean_squared_error: 1760.6389\n",
            "Epoch 13/100\n",
            "390/390 [==============================] - 1s 3ms/step - loss: 32723178.0000 - mean_absolute_error: 4118.0151 - root_mean_squared_error: 5720.4175 - val_loss: 3546317.7500 - val_mean_absolute_error: 1467.0322 - val_root_mean_squared_error: 1883.1670\n",
            "Epoch 14/100\n",
            "390/390 [==============================] - 1s 3ms/step - loss: 32521842.0000 - mean_absolute_error: 4119.7998 - root_mean_squared_error: 5702.7925 - val_loss: 3812125.7500 - val_mean_absolute_error: 1530.3058 - val_root_mean_squared_error: 1952.4666\n",
            "Epoch 15/100\n",
            "390/390 [==============================] - 1s 4ms/step - loss: 33081300.0000 - mean_absolute_error: 4147.5781 - root_mean_squared_error: 5751.6348 - val_loss: 3628217.2500 - val_mean_absolute_error: 1483.1091 - val_root_mean_squared_error: 1904.7880\n",
            "Epoch 16/100\n",
            "390/390 [==============================] - 1s 4ms/step - loss: 33681888.0000 - mean_absolute_error: 4166.5552 - root_mean_squared_error: 5803.6099 - val_loss: 3152248.7500 - val_mean_absolute_error: 1369.3590 - val_root_mean_squared_error: 1775.4573\n",
            "Epoch 17/100\n",
            "390/390 [==============================] - 1s 4ms/step - loss: 32169412.0000 - mean_absolute_error: 4085.7803 - root_mean_squared_error: 5671.8086 - val_loss: 2318996.2500 - val_mean_absolute_error: 1124.7670 - val_root_mean_squared_error: 1522.8251\n",
            "Epoch 18/100\n",
            "390/390 [==============================] - 1s 3ms/step - loss: 32788360.0000 - mean_absolute_error: 4108.2324 - root_mean_squared_error: 5726.1123 - val_loss: 4160820.2500 - val_mean_absolute_error: 1596.5260 - val_root_mean_squared_error: 2039.8088\n",
            "Epoch 19/100\n",
            "390/390 [==============================] - 1s 3ms/step - loss: 32991398.0000 - mean_absolute_error: 4143.7588 - root_mean_squared_error: 5743.8140 - val_loss: 3467988.5000 - val_mean_absolute_error: 1422.8331 - val_root_mean_squared_error: 1862.2537\n",
            "Epoch 20/100\n",
            "390/390 [==============================] - 1s 3ms/step - loss: 32640902.0000 - mean_absolute_error: 4091.0796 - root_mean_squared_error: 5713.2217 - val_loss: 3389991.7500 - val_mean_absolute_error: 1429.6948 - val_root_mean_squared_error: 1841.1930\n",
            "Epoch 21/100\n",
            "390/390 [==============================] - 1s 3ms/step - loss: 32566252.0000 - mean_absolute_error: 4113.1294 - root_mean_squared_error: 5706.6851 - val_loss: 2931952.5000 - val_mean_absolute_error: 1296.0028 - val_root_mean_squared_error: 1712.2946\n",
            "Epoch 22/100\n",
            "390/390 [==============================] - 1s 3ms/step - loss: 33047878.0000 - mean_absolute_error: 4156.9375 - root_mean_squared_error: 5748.7285 - val_loss: 2862586.0000 - val_mean_absolute_error: 1278.9301 - val_root_mean_squared_error: 1691.9178\n",
            "Epoch 23/100\n",
            "390/390 [==============================] - 1s 3ms/step - loss: 33608016.0000 - mean_absolute_error: 4159.3340 - root_mean_squared_error: 5797.2422 - val_loss: 3548757.2500 - val_mean_absolute_error: 1466.8165 - val_root_mean_squared_error: 1883.8146\n",
            "Epoch 24/100\n",
            "390/390 [==============================] - 1s 3ms/step - loss: 32961322.0000 - mean_absolute_error: 4120.5747 - root_mean_squared_error: 5741.1953 - val_loss: 3427001.5000 - val_mean_absolute_error: 1445.7921 - val_root_mean_squared_error: 1851.2162\n",
            "Epoch 25/100\n",
            "390/390 [==============================] - 1s 3ms/step - loss: 32954368.0000 - mean_absolute_error: 4143.6968 - root_mean_squared_error: 5740.5894 - val_loss: 2286491.2500 - val_mean_absolute_error: 1127.8857 - val_root_mean_squared_error: 1512.1149\n",
            "Epoch 26/100\n",
            "390/390 [==============================] - 1s 3ms/step - loss: 32607604.0000 - mean_absolute_error: 4112.3657 - root_mean_squared_error: 5710.3066 - val_loss: 2012878.3750 - val_mean_absolute_error: 1034.5571 - val_root_mean_squared_error: 1418.7594\n",
            "Epoch 27/100\n",
            "390/390 [==============================] - 2s 4ms/step - loss: 33310374.0000 - mean_absolute_error: 4132.8223 - root_mean_squared_error: 5771.5142 - val_loss: 2602520.2500 - val_mean_absolute_error: 1219.7040 - val_root_mean_squared_error: 1613.2329\n",
            "Epoch 28/100\n",
            "390/390 [==============================] - 2s 4ms/step - loss: 32933020.0000 - mean_absolute_error: 4140.0220 - root_mean_squared_error: 5738.7300 - val_loss: 2344295.5000 - val_mean_absolute_error: 1140.9346 - val_root_mean_squared_error: 1531.1093\n",
            "Epoch 29/100\n",
            "390/390 [==============================] - 1s 3ms/step - loss: 33264162.0000 - mean_absolute_error: 4130.2002 - root_mean_squared_error: 5767.5093 - val_loss: 2266124.5000 - val_mean_absolute_error: 1120.8750 - val_root_mean_squared_error: 1505.3652\n",
            "Epoch 30/100\n",
            "390/390 [==============================] - 1s 3ms/step - loss: 31907978.0000 - mean_absolute_error: 4066.1587 - root_mean_squared_error: 5648.7148 - val_loss: 2729907.5000 - val_mean_absolute_error: 1224.1130 - val_root_mean_squared_error: 1652.2432\n",
            "Epoch 31/100\n",
            "390/390 [==============================] - 1s 3ms/step - loss: 32907760.0000 - mean_absolute_error: 4125.5938 - root_mean_squared_error: 5736.5288 - val_loss: 2347503.5000 - val_mean_absolute_error: 1160.4479 - val_root_mean_squared_error: 1532.1565\n",
            "Epoch 32/100\n",
            "390/390 [==============================] - 1s 3ms/step - loss: 32903754.0000 - mean_absolute_error: 4110.9453 - root_mean_squared_error: 5736.1792 - val_loss: 3344541.5000 - val_mean_absolute_error: 1423.6223 - val_root_mean_squared_error: 1828.8087\n",
            "Epoch 33/100\n",
            "390/390 [==============================] - 1s 3ms/step - loss: 33924324.0000 - mean_absolute_error: 4189.1577 - root_mean_squared_error: 5824.4590 - val_loss: 2555964.0000 - val_mean_absolute_error: 1210.0586 - val_root_mean_squared_error: 1598.7383\n",
            "Epoch 34/100\n",
            "390/390 [==============================] - 1s 3ms/step - loss: 33158510.0000 - mean_absolute_error: 4152.6294 - root_mean_squared_error: 5758.3428 - val_loss: 2598334.0000 - val_mean_absolute_error: 1219.7682 - val_root_mean_squared_error: 1611.9348\n",
            "Epoch 35/100\n",
            "390/390 [==============================] - 1s 3ms/step - loss: 32717838.0000 - mean_absolute_error: 4121.2065 - root_mean_squared_error: 5719.9507 - val_loss: 3141077.7500 - val_mean_absolute_error: 1356.5259 - val_root_mean_squared_error: 1772.3086\n",
            "Epoch 36/100\n",
            "390/390 [==============================] - 1s 3ms/step - loss: 31930954.0000 - mean_absolute_error: 4090.6587 - root_mean_squared_error: 5650.7480 - val_loss: 1874197.6250 - val_mean_absolute_error: 1011.2634 - val_root_mean_squared_error: 1369.0134\n",
            "Epoch 37/100\n",
            "390/390 [==============================] - 1s 3ms/step - loss: 32269462.0000 - mean_absolute_error: 4089.8340 - root_mean_squared_error: 5680.6216 - val_loss: 2297093.0000 - val_mean_absolute_error: 1140.5159 - val_root_mean_squared_error: 1515.6163\n",
            "Epoch 38/100\n",
            "390/390 [==============================] - 2s 4ms/step - loss: 32557722.0000 - mean_absolute_error: 4112.0718 - root_mean_squared_error: 5705.9375 - val_loss: 3696124.5000 - val_mean_absolute_error: 1510.4692 - val_root_mean_squared_error: 1922.5308\n",
            "Epoch 39/100\n",
            "390/390 [==============================] - 2s 4ms/step - loss: 33120330.0000 - mean_absolute_error: 4112.6436 - root_mean_squared_error: 5755.0264 - val_loss: 3537250.5000 - val_mean_absolute_error: 1465.7451 - val_root_mean_squared_error: 1880.7579\n",
            "Epoch 40/100\n",
            "390/390 [==============================] - 1s 3ms/step - loss: 32700488.0000 - mean_absolute_error: 4108.6753 - root_mean_squared_error: 5718.4341 - val_loss: 3200648.5000 - val_mean_absolute_error: 1384.1072 - val_root_mean_squared_error: 1789.0356\n",
            "Epoch 41/100\n",
            "390/390 [==============================] - 1s 3ms/step - loss: 32650696.0000 - mean_absolute_error: 4126.9766 - root_mean_squared_error: 5714.0786 - val_loss: 2002849.6250 - val_mean_absolute_error: 1064.5457 - val_root_mean_squared_error: 1415.2207\n",
            "Epoch 42/100\n",
            "390/390 [==============================] - 1s 3ms/step - loss: 32444612.0000 - mean_absolute_error: 4108.4917 - root_mean_squared_error: 5696.0171 - val_loss: 2358979.0000 - val_mean_absolute_error: 1162.2190 - val_root_mean_squared_error: 1535.8969\n",
            "Epoch 43/100\n",
            "390/390 [==============================] - 1s 2ms/step - loss: 32581782.0000 - mean_absolute_error: 4080.6243 - root_mean_squared_error: 5708.0454 - val_loss: 3166442.0000 - val_mean_absolute_error: 1347.2705 - val_root_mean_squared_error: 1779.4500\n",
            "Epoch 44/100\n",
            "390/390 [==============================] - 1s 3ms/step - loss: 33093478.0000 - mean_absolute_error: 4126.4644 - root_mean_squared_error: 5752.6929 - val_loss: 3923032.7500 - val_mean_absolute_error: 1557.3643 - val_root_mean_squared_error: 1980.6647\n",
            "Epoch 45/100\n",
            "390/390 [==============================] - 1s 3ms/step - loss: 32407856.0000 - mean_absolute_error: 4072.7092 - root_mean_squared_error: 5692.7900 - val_loss: 3524850.2500 - val_mean_absolute_error: 1462.1832 - val_root_mean_squared_error: 1877.4585\n",
            "Epoch 46/100\n",
            "390/390 [==============================] - 1s 3ms/step - loss: 32448216.0000 - mean_absolute_error: 4088.7336 - root_mean_squared_error: 5696.3335 - val_loss: 3503967.5000 - val_mean_absolute_error: 1454.9609 - val_root_mean_squared_error: 1871.8888\n",
            "Epoch 47/100\n",
            "390/390 [==============================] - 1s 3ms/step - loss: 32677516.0000 - mean_absolute_error: 4102.4395 - root_mean_squared_error: 5716.4253 - val_loss: 3724778.2500 - val_mean_absolute_error: 1512.7018 - val_root_mean_squared_error: 1929.9685\n",
            "Epoch 48/100\n",
            "390/390 [==============================] - 1s 3ms/step - loss: 32869212.0000 - mean_absolute_error: 4107.8525 - root_mean_squared_error: 5733.1675 - val_loss: 2889679.0000 - val_mean_absolute_error: 1298.2736 - val_root_mean_squared_error: 1699.9056\n",
            "Epoch 49/100\n",
            "390/390 [==============================] - 1s 3ms/step - loss: 33068730.0000 - mean_absolute_error: 4135.3467 - root_mean_squared_error: 5750.5415 - val_loss: 3967922.2500 - val_mean_absolute_error: 1568.5181 - val_root_mean_squared_error: 1991.9645\n",
            "Epoch 50/100\n",
            "390/390 [==============================] - 2s 4ms/step - loss: 32923664.0000 - mean_absolute_error: 4116.4375 - root_mean_squared_error: 5737.9146 - val_loss: 3377744.7500 - val_mean_absolute_error: 1433.4417 - val_root_mean_squared_error: 1837.8641\n",
            "Epoch 51/100\n",
            "390/390 [==============================] - 2s 4ms/step - loss: 32158926.0000 - mean_absolute_error: 4090.5830 - root_mean_squared_error: 5670.8843 - val_loss: 2448434.5000 - val_mean_absolute_error: 1154.3668 - val_root_mean_squared_error: 1564.7474\n",
            "Epoch 52/100\n",
            "390/390 [==============================] - 1s 3ms/step - loss: 33489482.0000 - mean_absolute_error: 4137.7837 - root_mean_squared_error: 5787.0098 - val_loss: 3252706.5000 - val_mean_absolute_error: 1400.4230 - val_root_mean_squared_error: 1803.5261\n",
            "Epoch 53/100\n",
            "390/390 [==============================] - 1s 3ms/step - loss: 32260686.0000 - mean_absolute_error: 4073.9680 - root_mean_squared_error: 5679.8491 - val_loss: 3747089.2500 - val_mean_absolute_error: 1507.5648 - val_root_mean_squared_error: 1935.7400\n",
            "Epoch 54/100\n",
            "390/390 [==============================] - 1s 3ms/step - loss: 33022160.0000 - mean_absolute_error: 4116.3745 - root_mean_squared_error: 5746.4912 - val_loss: 2242689.2500 - val_mean_absolute_error: 1118.6455 - val_root_mean_squared_error: 1497.5612\n",
            "Epoch 55/100\n",
            "390/390 [==============================] - 1s 3ms/step - loss: 32523940.0000 - mean_absolute_error: 4096.3374 - root_mean_squared_error: 5702.9766 - val_loss: 3681144.7500 - val_mean_absolute_error: 1506.8652 - val_root_mean_squared_error: 1918.6310\n",
            "Epoch 56/100\n",
            "390/390 [==============================] - 1s 3ms/step - loss: 31719122.0000 - mean_absolute_error: 4032.7378 - root_mean_squared_error: 5631.9731 - val_loss: 3067980.2500 - val_mean_absolute_error: 1366.6943 - val_root_mean_squared_error: 1751.5651\n",
            "Epoch 57/100\n",
            "390/390 [==============================] - 1s 3ms/step - loss: 32517506.0000 - mean_absolute_error: 4108.0000 - root_mean_squared_error: 5702.4121 - val_loss: 1900979.6250 - val_mean_absolute_error: 1027.2432 - val_root_mean_squared_error: 1378.7601\n",
            "Epoch 58/100\n",
            "390/390 [==============================] - 1s 3ms/step - loss: 33050488.0000 - mean_absolute_error: 4102.8984 - root_mean_squared_error: 5748.9556 - val_loss: 3889039.0000 - val_mean_absolute_error: 1556.8015 - val_root_mean_squared_error: 1972.0647\n",
            "Epoch 59/100\n",
            "390/390 [==============================] - 1s 3ms/step - loss: 32078632.0000 - mean_absolute_error: 4068.9683 - root_mean_squared_error: 5663.8003 - val_loss: 2593926.7500 - val_mean_absolute_error: 1208.0930 - val_root_mean_squared_error: 1610.5673\n",
            "Epoch 60/100\n",
            "390/390 [==============================] - 1s 3ms/step - loss: 33205204.0000 - mean_absolute_error: 4093.3135 - root_mean_squared_error: 5762.3955 - val_loss: 2097988.2500 - val_mean_absolute_error: 1093.5074 - val_root_mean_squared_error: 1448.4434\n",
            "Epoch 61/100\n",
            "390/390 [==============================] - 1s 4ms/step - loss: 33311592.0000 - mean_absolute_error: 4122.8965 - root_mean_squared_error: 5771.6196 - val_loss: 3431803.0000 - val_mean_absolute_error: 1454.7805 - val_root_mean_squared_error: 1852.5126\n",
            "Epoch 62/100\n",
            "390/390 [==============================] - 2s 4ms/step - loss: 33058938.0000 - mean_absolute_error: 4139.4033 - root_mean_squared_error: 5749.6904 - val_loss: 3576129.0000 - val_mean_absolute_error: 1475.0035 - val_root_mean_squared_error: 1891.0656\n",
            "Epoch 63/100\n",
            "390/390 [==============================] - 2s 4ms/step - loss: 33349906.0000 - mean_absolute_error: 4155.2134 - root_mean_squared_error: 5774.9380 - val_loss: 2396182.0000 - val_mean_absolute_error: 1166.8724 - val_root_mean_squared_error: 1547.9606\n",
            "Epoch 64/100\n",
            "390/390 [==============================] - 1s 3ms/step - loss: 32232342.0000 - mean_absolute_error: 4052.6919 - root_mean_squared_error: 5677.3535 - val_loss: 3737896.0000 - val_mean_absolute_error: 1523.3339 - val_root_mean_squared_error: 1933.3640\n",
            "Epoch 65/100\n",
            "390/390 [==============================] - 1s 3ms/step - loss: 32662564.0000 - mean_absolute_error: 4094.2395 - root_mean_squared_error: 5715.1172 - val_loss: 2556100.0000 - val_mean_absolute_error: 1208.4886 - val_root_mean_squared_error: 1598.7808\n",
            "Epoch 66/100\n",
            "390/390 [==============================] - 1s 3ms/step - loss: 32202106.0000 - mean_absolute_error: 4113.4731 - root_mean_squared_error: 5674.6899 - val_loss: 3209206.7500 - val_mean_absolute_error: 1376.5415 - val_root_mean_squared_error: 1791.4259\n",
            "Epoch 67/100\n",
            "390/390 [==============================] - 1s 3ms/step - loss: 31852116.0000 - mean_absolute_error: 4071.9438 - root_mean_squared_error: 5643.7681 - val_loss: 3178955.5000 - val_mean_absolute_error: 1380.6979 - val_root_mean_squared_error: 1782.9625\n",
            "Epoch 68/100\n",
            "390/390 [==============================] - 1s 3ms/step - loss: 32455322.0000 - mean_absolute_error: 4076.5930 - root_mean_squared_error: 5696.9570 - val_loss: 3304146.0000 - val_mean_absolute_error: 1411.7385 - val_root_mean_squared_error: 1817.7310\n",
            "Epoch 69/100\n",
            "390/390 [==============================] - 1s 3ms/step - loss: 32490800.0000 - mean_absolute_error: 4101.5283 - root_mean_squared_error: 5700.0703 - val_loss: 3308432.2500 - val_mean_absolute_error: 1401.7695 - val_root_mean_squared_error: 1818.9097\n",
            "Epoch 70/100\n",
            "390/390 [==============================] - 1s 3ms/step - loss: 32437136.0000 - mean_absolute_error: 4091.0762 - root_mean_squared_error: 5695.3608 - val_loss: 2662694.2500 - val_mean_absolute_error: 1235.0212 - val_root_mean_squared_error: 1631.7764\n",
            "Epoch 71/100\n",
            "390/390 [==============================] - 1s 3ms/step - loss: 33561176.0000 - mean_absolute_error: 4122.5229 - root_mean_squared_error: 5793.2007 - val_loss: 2025595.8750 - val_mean_absolute_error: 1073.8132 - val_root_mean_squared_error: 1423.2343\n",
            "Epoch 72/100\n",
            "390/390 [==============================] - 2s 4ms/step - loss: 32186912.0000 - mean_absolute_error: 4072.4207 - root_mean_squared_error: 5673.3511 - val_loss: 3037252.7500 - val_mean_absolute_error: 1349.1896 - val_root_mean_squared_error: 1742.7716\n",
            "Epoch 73/100\n",
            "390/390 [==============================] - 1s 4ms/step - loss: 31946250.0000 - mean_absolute_error: 4058.2007 - root_mean_squared_error: 5652.1016 - val_loss: 3132700.2500 - val_mean_absolute_error: 1369.6431 - val_root_mean_squared_error: 1769.9436\n",
            "Epoch 74/100\n",
            "390/390 [==============================] - 1s 3ms/step - loss: 31911248.0000 - mean_absolute_error: 4047.1943 - root_mean_squared_error: 5649.0044 - val_loss: 2510374.7500 - val_mean_absolute_error: 1216.0928 - val_root_mean_squared_error: 1584.4163\n",
            "Epoch 75/100\n",
            "390/390 [==============================] - 1s 3ms/step - loss: 32390378.0000 - mean_absolute_error: 4070.3416 - root_mean_squared_error: 5691.2544 - val_loss: 2431704.0000 - val_mean_absolute_error: 1179.9336 - val_root_mean_squared_error: 1559.3922\n",
            "Epoch 76/100\n",
            "390/390 [==============================] - 1s 3ms/step - loss: 32374618.0000 - mean_absolute_error: 4078.3843 - root_mean_squared_error: 5689.8696 - val_loss: 2512912.2500 - val_mean_absolute_error: 1185.9259 - val_root_mean_squared_error: 1585.2168\n",
            "Epoch 77/100\n",
            "390/390 [==============================] - 1s 3ms/step - loss: 32318990.0000 - mean_absolute_error: 4090.9780 - root_mean_squared_error: 5684.9795 - val_loss: 2915857.0000 - val_mean_absolute_error: 1326.5712 - val_root_mean_squared_error: 1707.5880\n",
            "Epoch 78/100\n",
            "390/390 [==============================] - 1s 3ms/step - loss: 32875792.0000 - mean_absolute_error: 4092.4861 - root_mean_squared_error: 5733.7417 - val_loss: 1665370.5000 - val_mean_absolute_error: 965.1057 - val_root_mean_squared_error: 1290.4923\n",
            "Epoch 79/100\n",
            "390/390 [==============================] - 1s 3ms/step - loss: 32584798.0000 - mean_absolute_error: 4088.5112 - root_mean_squared_error: 5708.3096 - val_loss: 3061652.0000 - val_mean_absolute_error: 1352.9639 - val_root_mean_squared_error: 1749.7577\n",
            "Epoch 80/100\n",
            "390/390 [==============================] - 1s 3ms/step - loss: 31758746.0000 - mean_absolute_error: 4044.5952 - root_mean_squared_error: 5635.4897 - val_loss: 3346760.0000 - val_mean_absolute_error: 1448.7339 - val_root_mean_squared_error: 1829.4152\n",
            "Epoch 81/100\n",
            "390/390 [==============================] - 1s 3ms/step - loss: 32620096.0000 - mean_absolute_error: 4071.5220 - root_mean_squared_error: 5711.4004 - val_loss: 2913165.5000 - val_mean_absolute_error: 1313.8588 - val_root_mean_squared_error: 1706.7998\n",
            "Epoch 82/100\n",
            "390/390 [==============================] - 1s 3ms/step - loss: 32845742.0000 - mean_absolute_error: 4081.2078 - root_mean_squared_error: 5731.1206 - val_loss: 2590595.2500 - val_mean_absolute_error: 1234.8594 - val_root_mean_squared_error: 1609.5326\n",
            "Epoch 83/100\n",
            "390/390 [==============================] - 1s 4ms/step - loss: 32612578.0000 - mean_absolute_error: 4078.9395 - root_mean_squared_error: 5710.7422 - val_loss: 3241594.7500 - val_mean_absolute_error: 1411.5690 - val_root_mean_squared_error: 1800.4429\n",
            "Epoch 84/100\n",
            "390/390 [==============================] - 2s 4ms/step - loss: 32470086.0000 - mean_absolute_error: 4064.7554 - root_mean_squared_error: 5698.2529 - val_loss: 2578275.7500 - val_mean_absolute_error: 1222.0802 - val_root_mean_squared_error: 1605.7010\n",
            "Epoch 85/100\n",
            "390/390 [==============================] - 1s 4ms/step - loss: 32075608.0000 - mean_absolute_error: 4064.4409 - root_mean_squared_error: 5663.5332 - val_loss: 2689405.0000 - val_mean_absolute_error: 1250.8031 - val_root_mean_squared_error: 1639.9406\n",
            "Epoch 86/100\n",
            "390/390 [==============================] - 1s 3ms/step - loss: 32488538.0000 - mean_absolute_error: 4066.3669 - root_mean_squared_error: 5699.8716 - val_loss: 2288523.2500 - val_mean_absolute_error: 1144.6769 - val_root_mean_squared_error: 1512.7866\n",
            "Epoch 87/100\n",
            "390/390 [==============================] - 1s 3ms/step - loss: 32345132.0000 - mean_absolute_error: 4054.4111 - root_mean_squared_error: 5687.2783 - val_loss: 2063590.6250 - val_mean_absolute_error: 1080.5034 - val_root_mean_squared_error: 1436.5203\n",
            "Epoch 88/100\n",
            "390/390 [==============================] - 1s 3ms/step - loss: 32960600.0000 - mean_absolute_error: 4083.2581 - root_mean_squared_error: 5741.1323 - val_loss: 2526596.0000 - val_mean_absolute_error: 1209.4904 - val_root_mean_squared_error: 1589.5270\n",
            "Epoch 89/100\n",
            "390/390 [==============================] - 1s 3ms/step - loss: 32675366.0000 - mean_absolute_error: 4066.3733 - root_mean_squared_error: 5716.2368 - val_loss: 2952604.2500 - val_mean_absolute_error: 1328.5293 - val_root_mean_squared_error: 1718.3143\n",
            "Epoch 90/100\n",
            "390/390 [==============================] - 1s 3ms/step - loss: 32639698.0000 - mean_absolute_error: 4076.3838 - root_mean_squared_error: 5713.1162 - val_loss: 2344413.0000 - val_mean_absolute_error: 1153.1360 - val_root_mean_squared_error: 1531.1476\n",
            "Epoch 91/100\n",
            "390/390 [==============================] - 1s 3ms/step - loss: 32175268.0000 - mean_absolute_error: 4083.7480 - root_mean_squared_error: 5672.3247 - val_loss: 2047787.2500 - val_mean_absolute_error: 1055.7083 - val_root_mean_squared_error: 1431.0092\n",
            "Epoch 92/100\n",
            "390/390 [==============================] - 1s 3ms/step - loss: 32233294.0000 - mean_absolute_error: 4079.1926 - root_mean_squared_error: 5677.4375 - val_loss: 3656776.0000 - val_mean_absolute_error: 1506.5311 - val_root_mean_squared_error: 1912.2699\n",
            "Epoch 93/100\n",
            "390/390 [==============================] - 1s 3ms/step - loss: 32963288.0000 - mean_absolute_error: 4104.1851 - root_mean_squared_error: 5741.3662 - val_loss: 3276563.0000 - val_mean_absolute_error: 1408.8741 - val_root_mean_squared_error: 1810.1279\n",
            "Epoch 94/100\n",
            "390/390 [==============================] - 1s 3ms/step - loss: 32255332.0000 - mean_absolute_error: 4048.0676 - root_mean_squared_error: 5679.3779 - val_loss: 2586453.7500 - val_mean_absolute_error: 1224.4875 - val_root_mean_squared_error: 1608.2456\n",
            "Epoch 95/100\n",
            "390/390 [==============================] - 2s 4ms/step - loss: 31202672.0000 - mean_absolute_error: 4035.4465 - root_mean_squared_error: 5585.9351 - val_loss: 2155842.0000 - val_mean_absolute_error: 1111.1221 - val_root_mean_squared_error: 1468.2786\n",
            "Epoch 96/100\n",
            "390/390 [==============================] - 2s 4ms/step - loss: 32972408.0000 - mean_absolute_error: 4057.3970 - root_mean_squared_error: 5742.1606 - val_loss: 2054224.6250 - val_mean_absolute_error: 1068.3033 - val_root_mean_squared_error: 1433.2566\n",
            "Epoch 97/100\n",
            "390/390 [==============================] - 1s 3ms/step - loss: 31461998.0000 - mean_absolute_error: 4036.8943 - root_mean_squared_error: 5609.0996 - val_loss: 2910218.7500 - val_mean_absolute_error: 1323.6433 - val_root_mean_squared_error: 1705.9363\n",
            "Epoch 98/100\n",
            "390/390 [==============================] - 1s 3ms/step - loss: 32185544.0000 - mean_absolute_error: 4061.2083 - root_mean_squared_error: 5673.2305 - val_loss: 1919462.3750 - val_mean_absolute_error: 1030.8438 - val_root_mean_squared_error: 1385.4467\n",
            "Epoch 99/100\n",
            "390/390 [==============================] - 1s 2ms/step - loss: 32918778.0000 - mean_absolute_error: 4120.7744 - root_mean_squared_error: 5737.4888 - val_loss: 2556920.7500 - val_mean_absolute_error: 1214.1975 - val_root_mean_squared_error: 1599.0375\n",
            "Epoch 100/100\n",
            "390/390 [==============================] - 1s 3ms/step - loss: 32039330.0000 - mean_absolute_error: 4058.8711 - root_mean_squared_error: 5660.3296 - val_loss: 2874544.2500 - val_mean_absolute_error: 1326.8066 - val_root_mean_squared_error: 1695.4481\n"
          ]
        }
      ]
    },
    {
      "cell_type": "code",
      "source": [
        "y_t3 = model_3.predict(Xtest_tf)"
      ],
      "metadata": {
        "colab": {
          "base_uri": "https://localhost:8080/"
        },
        "id": "h0AJkA23yqPp",
        "outputId": "166e2c2c-c0f2-4cb7-b5f6-bedc25119d81"
      },
      "execution_count": 52,
      "outputs": [
        {
          "output_type": "stream",
          "name": "stdout",
          "text": [
            "173/173 [==============================] - 0s 1ms/step\n"
          ]
        }
      ]
    },
    {
      "cell_type": "code",
      "source": [
        "import tensorflow as tf"
      ],
      "metadata": {
        "id": "HQAbFlbU8AxM"
      },
      "execution_count": 53,
      "outputs": []
    },
    {
      "cell_type": "code",
      "source": [
        "def display_metrics(y_true, y_pred, model_name):\n",
        "    mae = mean_absolute_error(y_true, y_pred)\n",
        "    mse = mean_squared_error(y_true, y_pred)\n",
        "    rmse = np.sqrt(mean_squared_error(y_true, y_pred))\n",
        "    r2 = r2_score(y_true, y_pred)\n",
        "\n",
        "    print(f'Model: {model_name}')\n",
        "    print(f'MAE: {mae:.2f}')\n",
        "    print(f'MSE: {mse:.2f}')\n",
        "    print(f'RMSE: {rmse:.2f}')\n",
        "    print(f'R2-Score: {r2:.2f}')\n",
        "    print()\n",
        "\n",
        "print('Training set')\n",
        "# Assuming y_test is a pandas Series\n",
        "y_train_array = y_train.values.reshape(-1, 1)\n",
        "# Predict probabilities for each model\n",
        "ytr_pred_v1 = model_1.predict(X_train_tf).reshape(-1, 1)\n",
        "ytr_pred_v2 = model_2.predict(X_train_tf).reshape(-1, 1)\n",
        "ytr_pred_v3 = model_3.predict(X_train_tf).reshape(-1, 1)\n",
        "# Display metrics for each model\n",
        "y_train_array = tf.convert_to_tensor(value=y_train_array, dtype='float32')\n",
        "display_metrics(y_train_array, ytr_pred_v1, 'Model v1')\n",
        "display_metrics(y_train_array, ytr_pred_v2, 'Model v2')\n",
        "display_metrics(y_train_array, ytr_pred_v3, 'Model v3')\n",
        "\n",
        "print('Sample Testing set')\n",
        "# Assuming y_test is a pandas Series\n",
        "y_test_array = y_test.values.reshape(-1, 1)\n",
        "# Predict probabilities for each model\n",
        "yts_pred_v1 = model_1.predict(X_test_tf).reshape(-1, 1)\n",
        "yts_pred_v2 = model_2.predict(X_test_tf).reshape(-1, 1)\n",
        "yts_pred_v3 = model_3.predict(X_test_tf).reshape(-1, 1)\n",
        "# Display metrics for each model\n",
        "y_test_array = tf.convert_to_tensor(value=y_test_array, dtype='float32')\n",
        "display_metrics(y_test_array, yts_pred_v1, 'Model v1')\n",
        "display_metrics(y_test_array, yts_pred_v2, 'Model v2')\n",
        "display_metrics(y_test_array, yts_pred_v3, 'Model v3')"
      ],
      "metadata": {
        "colab": {
          "base_uri": "https://localhost:8080/"
        },
        "id": "ZLagiE0GziRX",
        "outputId": "004a8217-3db0-4980-c1ff-5b7d54405fd4"
      },
      "execution_count": 54,
      "outputs": [
        {
          "output_type": "stream",
          "name": "stdout",
          "text": [
            "Training set\n",
            "390/390 [==============================] - 1s 1ms/step\n",
            "390/390 [==============================] - 1s 1ms/step\n",
            "390/390 [==============================] - 1s 1ms/step\n",
            "Model: Model v1\n",
            "MAE: 714.54\n",
            "MSE: 862008.81\n",
            "RMSE: 928.44\n",
            "R2-Score: 0.99\n",
            "\n",
            "Model: Model v2\n",
            "MAE: 1388.59\n",
            "MSE: 3164862.50\n",
            "RMSE: 1779.01\n",
            "R2-Score: 0.98\n",
            "\n",
            "Model: Model v3\n",
            "MAE: 1347.41\n",
            "MSE: 2899726.75\n",
            "RMSE: 1702.86\n",
            "R2-Score: 0.98\n",
            "\n",
            "Sample Testing set\n",
            "130/130 [==============================] - 0s 1ms/step\n",
            "130/130 [==============================] - 0s 1ms/step\n",
            "130/130 [==============================] - 0s 1ms/step\n",
            "Model: Model v1\n",
            "MAE: 736.69\n",
            "MSE: 962405.12\n",
            "RMSE: 981.02\n",
            "R2-Score: 0.99\n",
            "\n",
            "Model: Model v2\n",
            "MAE: 1375.16\n",
            "MSE: 3143970.75\n",
            "RMSE: 1773.12\n",
            "R2-Score: 0.98\n",
            "\n",
            "Model: Model v3\n",
            "MAE: 1326.81\n",
            "MSE: 2874544.25\n",
            "RMSE: 1695.45\n",
            "R2-Score: 0.98\n",
            "\n"
          ]
        }
      ]
    },
    {
      "cell_type": "code",
      "source": [
        "import matplotlib.pyplot as plt"
      ],
      "metadata": {
        "id": "Wa7F0jHXQrlF"
      },
      "execution_count": 55,
      "outputs": []
    },
    {
      "cell_type": "code",
      "source": [
        "\n",
        "plt.figure(figsize=(8,8))\n",
        "plt.scatter(y_train, lr_train_preds,color = 'yellow')\n",
        "\n",
        "plt.xlabel(\"Actual Product Weight\")\n",
        "plt.ylabel(\"Predicted Product Weight\")\n",
        "plt.title(\"Actual vs. Predicted Product Weight\")\n",
        "plt.show()"
      ],
      "metadata": {
        "colab": {
          "base_uri": "https://localhost:8080/",
          "height": 718
        },
        "id": "9ZfH5MEtzucc",
        "outputId": "ea0f7af6-0c50-4ed5-f688-2aeb2884c770"
      },
      "execution_count": 56,
      "outputs": [
        {
          "output_type": "display_data",
          "data": {
            "text/plain": [
              "<Figure size 800x800 with 1 Axes>"
            ],
            "image/png": "[encoded data removed]"
          },
          "metadata": {}
        }
      ]
    },
    {
      "cell_type": "code",
      "source": [],
      "metadata": {
        "id": "fxdMvzvWHUId"
      },
      "execution_count": null,
      "outputs": []
    }
  ]
}